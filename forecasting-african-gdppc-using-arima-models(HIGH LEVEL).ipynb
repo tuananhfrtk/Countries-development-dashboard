{
 "cells": [
  {
   "cell_type": "code",
   "execution_count": 1,
   "metadata": {
    "_kg_hide-input": true
   },
   "outputs": [
    {
     "data": {
      "text/html": [
       "        <script type=\"text/javascript\">\n",
       "        window.PlotlyConfig = {MathJaxConfig: 'local'};\n",
       "        if (window.MathJax) {MathJax.Hub.Config({SVG: {font: \"STIX-Web\"}});}\n",
       "        if (typeof require !== 'undefined') {\n",
       "        require.undef(\"plotly\");\n",
       "        requirejs.config({\n",
       "            paths: {\n",
       "                'plotly': ['https://cdn.plot.ly/plotly-latest.min']\n",
       "            }\n",
       "        });\n",
       "        require(['plotly'], function(Plotly) {\n",
       "            window._Plotly = Plotly;\n",
       "        });\n",
       "        }\n",
       "        </script>\n",
       "        "
      ]
     },
     "metadata": {},
     "output_type": "display_data"
    }
   ],
   "source": [
    "import pandas as pd\n",
    "from pandas import DataFrame\n",
    "import matplotlib as plt\n",
    "import matplotlib.pyplot as plt\n",
    "from matplotlib import pyplot\n",
    "import seaborn\n",
    "import warnings\n",
    "import seaborn as sns\n",
    "warnings.filterwarnings('ignore')\n",
    "from sklearn.preprocessing import scale\n",
    "import plotly.plotly as py\n",
    "import plotly.graph_objs as go\n",
    "from plotly.offline import download_plotlyjs, init_notebook_mode, plot, iplot\n",
    "import plotly.figure_factory as ff\n",
    "init_notebook_mode(connected=True)\n",
    "import statsmodels.formula.api as sm\n",
    "from statsmodels.compat import lzip\n",
    "import numpy as np\n",
    "import statsmodels.api as sm\n",
    "from plotly.plotly import plot_mpl\n",
    "from plotly.offline import init_notebook_mode, iplot_mpl"
   ]
  },
  {
   "cell_type": "markdown",
   "metadata": {},
   "source": [
    "# MODELING AND FORECASTING SUB-SAHARAN GDP per capita PPP using ARIMA models\n",
    "\n",
    "     “Prediction is very difficult, especially about the future”. Niels Bohr"
   ]
  },
  {
   "cell_type": "markdown",
   "metadata": {},
   "source": [
    "*Following the Box-Jenkins methodology, we will build an Autoregressive Integrated Moving Average model to predict the Sub-Saharan GDP per capita (PPP), according to the ARIMA recognition rules (stationary test, white gaussian noise residuals,..), under the AIC criterion. Using this optimzied ARIMA model, we'll generate a projection for the SSA GDP per capita in PPP to 2030. Finally, after building a second optimized ARIMA model to project the world GDPpc in PPP to 2030, we'll analize how the SSA projection fathoms with the world average. We will derive our own conclusions from the underlying chacracteristics of both projected time series, and analize which the structural transformation pattern needed for SSA to converge with the world average.*"
   ]
  },
  {
   "cell_type": "markdown",
   "metadata": {},
   "source": [
    "### ARIMA models \n",
    "\n",
    "The publication in 1970 of Time Series Analysis: Forecasting and Control by Box and Jenkins, ushered a new generation of forecasting tools capabale to analize the stochastic properties of time series utilizing the underlying information in the data. \n",
    "\n",
    "With the underlying philosophy of *\"leting the data speak for herself\"*, the ARIMA acronym is very direct, capturing the key aspects of the model itself. Briefly :\n",
    "\n",
    "- **AR: Autoregression**-> The evolving response variable is regressed on its own lagged prior values.\n",
    "\n",
    "- **I: Integrated.**-> The use of differencing of raw observations (e.g. subtracting an observation from an observation at the previous time step) in order to make the time series stationary. \n",
    "    \n",
    "- **MA: Moving Average.**-> The MA part indicates that the regression error is actually a linear combination of error terms whose values occurred contemporaneously and at various times in the past.\n",
    "\n",
    "Each of these components have to be explicitly specified in the model as a parameter with standard notation of ARIMA(p,d,q) where the parameters are substituted with integer values which indicate the specific ARIMA model being used. The parameters are defined as follows:\n",
    "\n",
    "- **p:** The number of lag observations included in the model, also called the lag order.\n",
    "\n",
    "- **d:** The number of times that the raw observations are differenced, also called the degree of differencing.\n",
    "\n",
    "- **q:** The size of the moving average window, also called the order of moving average.\n",
    "\n",
    "Contrary to OLS linear regression, Arima models do not involve independent regressors, but rather they make use of the information in the time series itself to generate prediction. ARIMA models therefore, rely heavily on the underlying autocorrelation patterns in the data.\n",
    "\n",
    "ARIMA models have proven themselves to be relatively robust especially when generating short-run forecasts."
   ]
  },
  {
   "cell_type": "markdown",
   "metadata": {},
   "source": [
    "**Box-Jenkins methodology**"
   ]
  },
  {
   "cell_type": "markdown",
   "metadata": {},
   "source": [
    "The BJ methodology consists of four steps :\n",
    "    \n",
    "    1) Time series identification: In short, we have to find the appropiate values for p,d and q.\n",
    "    2) Model estimation: After having identified the appropiate parameters of the ARIMA model. \n",
    "    3) Model diagnostic: We have to check that the model residuals follow a white noise distribution.\n",
    "    4) Forecasting: We can project statistical predictive inference. "
   ]
  },
  {
   "cell_type": "markdown",
   "metadata": {},
   "source": [
    "### Data preparation\n",
    "\n",
    "Unfortunately we only can account for 27 year observations, from 1990 to 2017 (very few SSA countries have reliable GDP per capita PPP data up to the 60s), which is short of the 50 recommended to build an ARIMA model based on the Box-Jenkins methodology of time series forecasting.\n",
    "\n",
    "From the World Bank database, we have collected GDP PPP data for 27 years from 1990 to 2016. The sample is composed of 36 Sub-Saharan economies."
   ]
  },
  {
   "cell_type": "code",
   "execution_count": 2,
   "metadata": {
    "_kg_hide-input": true
   },
   "outputs": [],
   "source": [
    "df2=pd.read_csv('../input/WDIData.csv')"
   ]
  },
  {
   "cell_type": "code",
   "execution_count": 3,
   "metadata": {
    "_kg_hide-input": true
   },
   "outputs": [],
   "source": [
    "df2=df2[(df2['Country Name'].str.contains('African|Benin|Burkina|Burundi|Cabo Verde|Cameroon|CAR|Chad|Comoros|Congo|Ivoire|Guinea|Eritrea|Eswatini|Ethiopia|Gambia|Ghana|Guinea|Guinea-Bissau|Kenya|Lesotho|Liberia|Madagascar|Malawi|Mali|Mauritania|Mauritius|Mozambique|Niger|Nigeria|Rwanda|Sao Tome|Senegal|Sierra Leone|South Sudan|Sudan|Tanzania|Togo|Uganda|Zambia|Zimbabwe')==True)]\n",
    "df2['Indicator Name']=df2['Indicator Name'].str.replace('(',':').str.replace(')',':')\n",
    "df2=df2[df2['Indicator Name'].str.contains(\"GDP per capita, PPP :current international\")==True]\n",
    "df2.index=df2['Country Name']\n",
    "df2=df2[df2.index.str.contains('Sao Tome and Principe|South Sudan|Papua New Guinea|Equatorial Guinea|Mauritius')==False]\n",
    "df2=df2.fillna(method='bfill',axis=1)\n",
    "df2=df2.fillna(method='ffill',axis=1)\n",
    "df2=df2.iloc[:,34:-2]\n",
    "ts=df2.mean()\n",
    "ts=pd.DataFrame(ts)\n",
    "ts.columns=['GDP per capita']"
   ]
  },
  {
   "cell_type": "markdown",
   "metadata": {},
   "source": [
    "## 1) Time series identification & exploratory analisys"
   ]
  },
  {
   "cell_type": "markdown",
   "metadata": {},
   "source": [
    "**1.1 Time Series plot**"
   ]
  },
  {
   "cell_type": "code",
   "execution_count": 4,
   "metadata": {
    "_kg_hide-input": true
   },
   "outputs": [
    {
     "data": {
      "application/vnd.plotly.v1+json": {
       "config": {
        "linkText": "Export to plot.ly",
        "plotlyServerURL": "https://plot.ly",
        "showLink": false
       },
       "data": [
        {
         "type": "scatter",
         "uid": "10304ecf-305e-452c-a2df-87bf660e9e49",
         "x": [
          "1990-01-01",
          "1991-01-01",
          "1992-01-01",
          "1993-01-01",
          "1994-01-01",
          "1995-01-01",
          "1996-01-01",
          "1997-01-01",
          "1998-01-01",
          "1999-01-01",
          "2000-01-01",
          "2001-01-01",
          "2002-01-01",
          "2003-01-01",
          "2004-01-01",
          "2005-01-01",
          "2006-01-01",
          "2007-01-01",
          "2008-01-01",
          "2009-01-01",
          "2010-01-01",
          "2011-01-01",
          "2012-01-01",
          "2013-01-01",
          "2014-01-01",
          "2015-01-01",
          "2016-01-01",
          "2017-01-01"
         ],
         "y": [
          1197.3663951873998,
          1224.418996970471,
          1228.5608797563204,
          1242.9686522080083,
          1251.1636351127565,
          1301.8001593329325,
          1362.1741070017338,
          1404.1887660125162,
          1426.551420539967,
          1455.0402035197471,
          1498.3379206840054,
          1553.2230763828115,
          1592.8870535475223,
          1629.6035992398697,
          1719.1679254217422,
          1823.4451538287933,
          1937.3449387948601,
          2045.5217342397686,
          2120.3363659864012,
          2163.3762932175164,
          2260.632554706735,
          2368.841605521095,
          2495.229736641809,
          2596.584648934595,
          2697.879522337172,
          2743.933573443138,
          2800.082623971815,
          2890.453204365288
         ]
        }
       ],
       "layout": {
        "title": {
         "text": "Sub-Saharan African GDP per capita PPP 1990-2017 current international $"
        },
        "xaxis": {
         "nticks": 43,
         "ticks": ""
        },
        "yaxis": {
         "nticks": 20
        }
       }
      },
      "text/html": [
       "<div>\n",
       "        \n",
       "        \n",
       "            <div id=\"2da6c57a-edcf-4dfc-badf-1054595d37c7\" class=\"plotly-graph-div\" style=\"height:525px; width:100%;\"></div>\n",
       "            <script type=\"text/javascript\">\n",
       "                require([\"plotly\"], function(Plotly) {\n",
       "                    window.PLOTLYENV=window.PLOTLYENV || {};\n",
       "                    window.PLOTLYENV.BASE_URL='https://plot.ly';\n",
       "                    \n",
       "                if (document.getElementById(\"2da6c57a-edcf-4dfc-badf-1054595d37c7\")) {\n",
       "                    Plotly.newPlot(\n",
       "                        '2da6c57a-edcf-4dfc-badf-1054595d37c7',\n",
       "                        [{\"type\": \"scatter\", \"uid\": \"10304ecf-305e-452c-a2df-87bf660e9e49\", \"x\": [\"1990-01-01\", \"1991-01-01\", \"1992-01-01\", \"1993-01-01\", \"1994-01-01\", \"1995-01-01\", \"1996-01-01\", \"1997-01-01\", \"1998-01-01\", \"1999-01-01\", \"2000-01-01\", \"2001-01-01\", \"2002-01-01\", \"2003-01-01\", \"2004-01-01\", \"2005-01-01\", \"2006-01-01\", \"2007-01-01\", \"2008-01-01\", \"2009-01-01\", \"2010-01-01\", \"2011-01-01\", \"2012-01-01\", \"2013-01-01\", \"2014-01-01\", \"2015-01-01\", \"2016-01-01\", \"2017-01-01\"], \"y\": [1197.3663951873998, 1224.418996970471, 1228.5608797563204, 1242.9686522080083, 1251.1636351127565, 1301.8001593329325, 1362.1741070017338, 1404.1887660125162, 1426.551420539967, 1455.0402035197471, 1498.3379206840054, 1553.2230763828115, 1592.8870535475223, 1629.6035992398697, 1719.1679254217422, 1823.4451538287933, 1937.3449387948601, 2045.5217342397686, 2120.3363659864012, 2163.3762932175164, 2260.632554706735, 2368.841605521095, 2495.229736641809, 2596.584648934595, 2697.879522337172, 2743.933573443138, 2800.082623971815, 2890.453204365288]}],\n",
       "                        {\"title\": {\"text\": \"Sub-Saharan African GDP per capita PPP 1990-2017 current international $\"}, \"xaxis\": {\"nticks\": 43, \"ticks\": \"\"}, \"yaxis\": {\"nticks\": 20}},\n",
       "                        {\"showLink\": false, \"linkText\": \"Export to plot.ly\", \"plotlyServerURL\": \"https://plot.ly\", \"responsive\": true}\n",
       "                    ).then(function(){\n",
       "                            \n",
       "var gd = document.getElementById('2da6c57a-edcf-4dfc-badf-1054595d37c7');\n",
       "var x = new MutationObserver(function (mutations, observer) {{\n",
       "        var display = window.getComputedStyle(gd).display;\n",
       "        if (!display || display === 'none') {{\n",
       "            console.log([gd, 'removed!']);\n",
       "            Plotly.purge(gd);\n",
       "            observer.disconnect();\n",
       "        }}\n",
       "}});\n",
       "\n",
       "// Listen for the removal of the full notebook cells\n",
       "var notebookContainer = gd.closest('#notebook-container');\n",
       "if (notebookContainer) {{\n",
       "    x.observe(notebookContainer, {childList: true});\n",
       "}}\n",
       "\n",
       "// Listen for the clearing of the current output cell\n",
       "var outputEl = gd.closest('.output');\n",
       "if (outputEl) {{\n",
       "    x.observe(outputEl, {childList: true});\n",
       "}}\n",
       "\n",
       "                        })\n",
       "                };\n",
       "                });\n",
       "            </script>\n",
       "        </div>"
      ]
     },
     "metadata": {},
     "output_type": "display_data"
    }
   ],
   "source": [
    "X=pd.to_datetime(ts.index)\n",
    "y=ts['GDP per capita']\n",
    "layout = go.Layout(title= 'Sub-Saharan African GDP per capita PPP 1990-2017 current international $',\n",
    "    xaxis = dict(ticks='', nticks=43),\n",
    "    yaxis = dict(nticks=20))\n",
    "data = [go.Scatter(x=X,y=y)]\n",
    "fig =go.Figure(data=data, layout=layout)\n",
    "iplot(fig, filename='heatmap',show_link=False)"
   ]
  },
  {
   "cell_type": "markdown",
   "metadata": {},
   "source": [
    "From the time series figure above, the visual inspection of the time plot clearly indicates that Sub-Saharan GDP PPP per capita follows a **positive additive growth pattern.** The mean and the variance are clearly not constant. Therefore, we regard it as a non-stationary time series. *(further below we will discuss the importance of making the time series stationary for model building)*"
   ]
  },
  {
   "cell_type": "code",
   "execution_count": 5,
   "metadata": {
    "_kg_hide-input": true
   },
   "outputs": [
    {
     "data": {
      "application/vnd.plotly.v1+json": {
       "config": {
        "linkText": "Export to plot.ly",
        "plotlyServerURL": "https://plot.ly",
        "showLink": false
       },
       "data": [
        {
         "marker": {
          "color": "red",
          "size": 12
         },
         "mode": "lines",
         "name": "SSA GDPpc PPP $ growth 1990-2017",
         "type": "scatter",
         "uid": "efba63bc-21d6-4592-a6e2-09ee765d0c43",
         "x": [
          "1990",
          "1991",
          "1992",
          "1993",
          "1994",
          "1995",
          "1996",
          "1997",
          "1998",
          "1999",
          "2000",
          "2001",
          "2002",
          "2003",
          "2004",
          "2005",
          "2006",
          "2007",
          "2008",
          "2009",
          "2010",
          "2011",
          "2012",
          "2013",
          "2014",
          "2015",
          "2016",
          "2017"
         ],
         "y": [
          7.087879753279823,
          7.1102217222812385,
          7.113598746904568,
          7.125257871730112,
          7.131829305360333,
          7.171503323532605,
          7.216837310405839,
          7.247215024275199,
          7.263015216649503,
          7.282788810508905,
          7.312111719868523,
          7.3480874550628865,
          7.373303405668544,
          7.39609207357478,
          7.449595688466118,
          7.5084829323786835,
          7.569073726435054,
          7.623408162705216,
          7.6593300182815165,
          7.67942537902277,
          7.723399944567181,
          7.770156340598476,
          7.822136082760977,
          7.861952263921692,
          7.900221381336701,
          7.917147780623874,
          7.9374042042892885,
          7.9691685869312785
         ]
        }
       ],
       "layout": {
        "legend": {
         "x": 0.7,
         "y": 1
        },
        "title": {
         "text": "Sub-Saharan African LOG GDP per capita PPP 1990-2017 current international $"
        },
        "xaxis": {
         "nticks": 43,
         "ticks": ""
        },
        "yaxis": {
         "nticks": 20
        }
       }
      },
      "text/html": [
       "<div>\n",
       "        \n",
       "        \n",
       "            <div id=\"270fc7b2-cf9b-4046-a09b-d5cea43801fc\" class=\"plotly-graph-div\" style=\"height:525px; width:100%;\"></div>\n",
       "            <script type=\"text/javascript\">\n",
       "                require([\"plotly\"], function(Plotly) {\n",
       "                    window.PLOTLYENV=window.PLOTLYENV || {};\n",
       "                    window.PLOTLYENV.BASE_URL='https://plot.ly';\n",
       "                    \n",
       "                if (document.getElementById(\"270fc7b2-cf9b-4046-a09b-d5cea43801fc\")) {\n",
       "                    Plotly.newPlot(\n",
       "                        '270fc7b2-cf9b-4046-a09b-d5cea43801fc',\n",
       "                        [{\"marker\": {\"color\": \"red\", \"size\": 12}, \"mode\": \"lines\", \"name\": \"SSA GDPpc PPP $ growth 1990-2017\", \"type\": \"scatter\", \"uid\": \"efba63bc-21d6-4592-a6e2-09ee765d0c43\", \"x\": [\"1990\", \"1991\", \"1992\", \"1993\", \"1994\", \"1995\", \"1996\", \"1997\", \"1998\", \"1999\", \"2000\", \"2001\", \"2002\", \"2003\", \"2004\", \"2005\", \"2006\", \"2007\", \"2008\", \"2009\", \"2010\", \"2011\", \"2012\", \"2013\", \"2014\", \"2015\", \"2016\", \"2017\"], \"y\": [7.087879753279823, 7.1102217222812385, 7.113598746904568, 7.125257871730112, 7.131829305360333, 7.171503323532605, 7.216837310405839, 7.247215024275199, 7.263015216649503, 7.282788810508905, 7.312111719868523, 7.3480874550628865, 7.373303405668544, 7.39609207357478, 7.449595688466118, 7.5084829323786835, 7.569073726435054, 7.623408162705216, 7.6593300182815165, 7.67942537902277, 7.723399944567181, 7.770156340598476, 7.822136082760977, 7.861952263921692, 7.900221381336701, 7.917147780623874, 7.9374042042892885, 7.9691685869312785]}],\n",
       "                        {\"legend\": {\"x\": 0.7, \"y\": 1}, \"title\": {\"text\": \"Sub-Saharan African LOG GDP per capita PPP 1990-2017 current international $\"}, \"xaxis\": {\"nticks\": 43, \"ticks\": \"\"}, \"yaxis\": {\"nticks\": 20}},\n",
       "                        {\"showLink\": false, \"linkText\": \"Export to plot.ly\", \"plotlyServerURL\": \"https://plot.ly\", \"responsive\": true}\n",
       "                    ).then(function(){\n",
       "                            \n",
       "var gd = document.getElementById('270fc7b2-cf9b-4046-a09b-d5cea43801fc');\n",
       "var x = new MutationObserver(function (mutations, observer) {{\n",
       "        var display = window.getComputedStyle(gd).display;\n",
       "        if (!display || display === 'none') {{\n",
       "            console.log([gd, 'removed!']);\n",
       "            Plotly.purge(gd);\n",
       "            observer.disconnect();\n",
       "        }}\n",
       "}});\n",
       "\n",
       "// Listen for the removal of the full notebook cells\n",
       "var notebookContainer = gd.closest('#notebook-container');\n",
       "if (notebookContainer) {{\n",
       "    x.observe(notebookContainer, {childList: true});\n",
       "}}\n",
       "\n",
       "// Listen for the clearing of the current output cell\n",
       "var outputEl = gd.closest('.output');\n",
       "if (outputEl) {{\n",
       "    x.observe(outputEl, {childList: true});\n",
       "}}\n",
       "\n",
       "                        })\n",
       "                };\n",
       "                });\n",
       "            </script>\n",
       "        </div>"
      ]
     },
     "metadata": {},
     "output_type": "display_data"
    }
   ],
   "source": [
    "ts_2=ts\n",
    "ts_2['log_GDP_pc']=np.log(ts['GDP per capita'])\n",
    "X=ts['log_GDP_pc'].index\n",
    "y_1=ts['log_GDP_pc']\n",
    "layout = go.Layout(title= 'Sub-Saharan African LOG GDP per capita PPP 1990-2017 current international $',\n",
    "    xaxis = dict(ticks='', nticks=43),\n",
    "    yaxis = dict(nticks=20),legend=dict(x=0.7, y=1))\n",
    "trace0 = go.Scatter(x=X,y=y_1, mode = 'lines',name=\"SSA GDPpc PPP $ growth 1990-2017\", marker = dict(size=12, color='red'))\n",
    "data = [trace0]\n",
    "fig =go.Figure(data=data, layout=layout)\n",
    "iplot(fig, filename='heatmap',show_link=False)"
   ]
  },
  {
   "cell_type": "markdown",
   "metadata": {},
   "source": [
    "The \"smoothing effect\" of the log transformation is valuable both for making patterns of the data easy interpretable. The see that the log transformed time seriues follows the same growth dynamic as the original time series."
   ]
  },
  {
   "cell_type": "code",
   "execution_count": 6,
   "metadata": {
    "_kg_hide-input": true
   },
   "outputs": [
    {
     "data": {
      "image/png": "[encoded data removed]",
      "text/plain": [
       "<Figure size 1080x360 with 1 Axes>"
      ]
     },
     "metadata": {
      "needs_background": "light"
     },
     "output_type": "display_data"
    }
   ],
   "source": [
    "f, ax = plt.subplots(figsize=(15, 5)); plt.title('Distribution')\n",
    "sns.distplot(ts['GDP per capita'],color='blue', bins=18,rug=True,hist_kws={\"density\":True})\n",
    "plt.rc('xtick', labelsize=14)    # fontsize of the tick X labels \n",
    "plt.rc('ytick', labelsize=14)    # fontsize of the tick Y labels\n",
    "plt.title('TIME SERIES - Histogram and probability density function (PDF)', size=18)\n",
    "plt.xlabel('GDP per capita annual growth', size=16)\n",
    "plt.show()"
   ]
  },
  {
   "cell_type": "markdown",
   "metadata": {},
   "source": [
    "**1.2 Time Series growth dynamic examination**"
   ]
  },
  {
   "cell_type": "code",
   "execution_count": 7,
   "metadata": {
    "_kg_hide-input": true
   },
   "outputs": [
    {
     "data": {
      "application/vnd.plotly.v1+json": {
       "config": {
        "linkText": "Export to plot.ly",
        "plotlyServerURL": "https://plot.ly",
        "showLink": false
       },
       "data": [
        {
         "marker": {
          "color": "red",
          "size": 12
         },
         "mode": "lines",
         "name": "SSA GDPpc PPP $ growth 1990-2017",
         "type": "scatter",
         "uid": "5a7e54ab-c065-474f-919a-116f1e6bdda1",
         "x": [
          "1990",
          "1991",
          "1992",
          "1993",
          "1994",
          "1995",
          "1996",
          "1997",
          "1998",
          "1999",
          "2000",
          "2001",
          "2002",
          "2003",
          "2004",
          "2005",
          "2006",
          "2007",
          "2008",
          "2009",
          "2010",
          "2011",
          "2012",
          "2013",
          "2014",
          "2015",
          "2016",
          "2017"
         ],
         "y": [
          0.0,
          0.02259341993545516,
          0.003382733195170573,
          0.011727357340684197,
          0.006593072874517603,
          0.04047154408832587,
          0.046377277830214725,
          0.030843824438316902,
          0.015925675428207775,
          0.01997038632438275,
          0.029757058986769502,
          0.036630692543475396,
          0.025536561855030726,
          0.023050313335509776,
          0.05496080532937575,
          0.060655638617425955,
          0.06246405861284332,
          0.05583765352193848,
          0.036574840782338525,
          0.02029863182160363,
          0.044955776669149294,
          0.04786671349532856,
          0.053354403614888746,
          0.04061947114705111,
          0.03901081116078364,
          0.01707046245937227,
          0.02046297733739233,
          0.03227425491655156
         ]
        },
        {
         "marker": {
          "color": "darkcyan",
          "size": 12
         },
         "mode": "lines",
         "name": "TS Mean ",
         "type": "scatter",
         "uid": "6726a852-9a1d-4b7f-8974-f5523c8d348f",
         "x": [
          "1990",
          "1991",
          "1992",
          "1993",
          "1994",
          "1995",
          "1996",
          "1997",
          "1998",
          "1999",
          "2000",
          "2001",
          "2002",
          "2003",
          "2004",
          "2005",
          "2006",
          "2007",
          "2008",
          "2009",
          "2010",
          "2011",
          "2012",
          "2013",
          "2014",
          "2015",
          "2016",
          "2017"
         ],
         "y": [
          0.03211665777364658,
          0.03211665777364658,
          0.03211665777364658,
          0.03211665777364658,
          0.03211665777364658,
          0.03211665777364658,
          0.03211665777364658,
          0.03211665777364658,
          0.03211665777364658,
          0.03211665777364658,
          0.03211665777364658,
          0.03211665777364658,
          0.03211665777364658,
          0.03211665777364658,
          0.03211665777364658,
          0.03211665777364658,
          0.03211665777364658,
          0.03211665777364658,
          0.03211665777364658,
          0.03211665777364658,
          0.03211665777364658,
          0.03211665777364658,
          0.03211665777364658,
          0.03211665777364658,
          0.03211665777364658,
          0.03211665777364658,
          0.03211665777364658,
          0.03211665777364658
         ]
        }
       ],
       "layout": {
        "legend": {
         "x": 0.7,
         "y": 1
        },
        "title": {
         "text": "Sub-Saharan African GDP per capita PPP growth dynamic 1990-2017 current international $"
        },
        "xaxis": {
         "nticks": 43,
         "ticks": ""
        },
        "yaxis": {
         "nticks": 20
        }
       }
      },
      "text/html": [
       "<div>\n",
       "        \n",
       "        \n",
       "            <div id=\"ce014fa3-d31c-4750-a1bb-d453160f6428\" class=\"plotly-graph-div\" style=\"height:525px; width:100%;\"></div>\n",
       "            <script type=\"text/javascript\">\n",
       "                require([\"plotly\"], function(Plotly) {\n",
       "                    window.PLOTLYENV=window.PLOTLYENV || {};\n",
       "                    window.PLOTLYENV.BASE_URL='https://plot.ly';\n",
       "                    \n",
       "                if (document.getElementById(\"ce014fa3-d31c-4750-a1bb-d453160f6428\")) {\n",
       "                    Plotly.newPlot(\n",
       "                        'ce014fa3-d31c-4750-a1bb-d453160f6428',\n",
       "                        [{\"marker\": {\"color\": \"red\", \"size\": 12}, \"mode\": \"lines\", \"name\": \"SSA GDPpc PPP $ growth 1990-2017\", \"type\": \"scatter\", \"uid\": \"5a7e54ab-c065-474f-919a-116f1e6bdda1\", \"x\": [\"1990\", \"1991\", \"1992\", \"1993\", \"1994\", \"1995\", \"1996\", \"1997\", \"1998\", \"1999\", \"2000\", \"2001\", \"2002\", \"2003\", \"2004\", \"2005\", \"2006\", \"2007\", \"2008\", \"2009\", \"2010\", \"2011\", \"2012\", \"2013\", \"2014\", \"2015\", \"2016\", \"2017\"], \"y\": [0.0, 0.02259341993545516, 0.003382733195170573, 0.011727357340684197, 0.006593072874517603, 0.04047154408832587, 0.046377277830214725, 0.030843824438316902, 0.015925675428207775, 0.01997038632438275, 0.029757058986769502, 0.036630692543475396, 0.025536561855030726, 0.023050313335509776, 0.05496080532937575, 0.060655638617425955, 0.06246405861284332, 0.05583765352193848, 0.036574840782338525, 0.02029863182160363, 0.044955776669149294, 0.04786671349532856, 0.053354403614888746, 0.04061947114705111, 0.03901081116078364, 0.01707046245937227, 0.02046297733739233, 0.03227425491655156]}, {\"marker\": {\"color\": \"darkcyan\", \"size\": 12}, \"mode\": \"lines\", \"name\": \"TS Mean \", \"type\": \"scatter\", \"uid\": \"6726a852-9a1d-4b7f-8974-f5523c8d348f\", \"x\": [\"1990\", \"1991\", \"1992\", \"1993\", \"1994\", \"1995\", \"1996\", \"1997\", \"1998\", \"1999\", \"2000\", \"2001\", \"2002\", \"2003\", \"2004\", \"2005\", \"2006\", \"2007\", \"2008\", \"2009\", \"2010\", \"2011\", \"2012\", \"2013\", \"2014\", \"2015\", \"2016\", \"2017\"], \"y\": [0.03211665777364658, 0.03211665777364658, 0.03211665777364658, 0.03211665777364658, 0.03211665777364658, 0.03211665777364658, 0.03211665777364658, 0.03211665777364658, 0.03211665777364658, 0.03211665777364658, 0.03211665777364658, 0.03211665777364658, 0.03211665777364658, 0.03211665777364658, 0.03211665777364658, 0.03211665777364658, 0.03211665777364658, 0.03211665777364658, 0.03211665777364658, 0.03211665777364658, 0.03211665777364658, 0.03211665777364658, 0.03211665777364658, 0.03211665777364658, 0.03211665777364658, 0.03211665777364658, 0.03211665777364658, 0.03211665777364658]}],\n",
       "                        {\"legend\": {\"x\": 0.7, \"y\": 1}, \"title\": {\"text\": \"Sub-Saharan African GDP per capita PPP growth dynamic 1990-2017 current international $\"}, \"xaxis\": {\"nticks\": 43, \"ticks\": \"\"}, \"yaxis\": {\"nticks\": 20}},\n",
       "                        {\"showLink\": false, \"linkText\": \"Export to plot.ly\", \"plotlyServerURL\": \"https://plot.ly\", \"responsive\": true}\n",
       "                    ).then(function(){\n",
       "                            \n",
       "var gd = document.getElementById('ce014fa3-d31c-4750-a1bb-d453160f6428');\n",
       "var x = new MutationObserver(function (mutations, observer) {{\n",
       "        var display = window.getComputedStyle(gd).display;\n",
       "        if (!display || display === 'none') {{\n",
       "            console.log([gd, 'removed!']);\n",
       "            Plotly.purge(gd);\n",
       "            observer.disconnect();\n",
       "        }}\n",
       "}});\n",
       "\n",
       "// Listen for the removal of the full notebook cells\n",
       "var notebookContainer = gd.closest('#notebook-container');\n",
       "if (notebookContainer) {{\n",
       "    x.observe(notebookContainer, {childList: true});\n",
       "}}\n",
       "\n",
       "// Listen for the clearing of the current output cell\n",
       "var outputEl = gd.closest('.output');\n",
       "if (outputEl) {{\n",
       "    x.observe(outputEl, {childList: true});\n",
       "}}\n",
       "\n",
       "                        })\n",
       "                };\n",
       "                });\n",
       "            </script>\n",
       "        </div>"
      ]
     },
     "metadata": {},
     "output_type": "display_data"
    }
   ],
   "source": [
    "ts_1=ts\n",
    "ts_1['mean']=ts['GDP per capita'].pct_change().fillna(0).mean()\n",
    "X=ts['GDP per capita'].index\n",
    "y_2=ts['GDP per capita'].pct_change().fillna(0)\n",
    "y1=ts_1['mean']\n",
    "layout = go.Layout(title= 'Sub-Saharan African GDP per capita PPP growth dynamic 1990-2017 current international $',\n",
    "    xaxis = dict(ticks='', nticks=43),\n",
    "    yaxis = dict(nticks=20),legend=dict(x=0.7, y=1))\n",
    "trace0 = go.Scatter(x=X,y=y_2, mode = 'lines',name=\"SSA GDPpc PPP $ growth 1990-2017\", marker = dict(size=12, color='red'))\n",
    "trace1 = go.Scatter(x=X,y=y1, mode = 'lines', name=\"TS Mean \", marker = dict(size=12, color='darkcyan'))\n",
    "data = [trace0,trace1]\n",
    "fig =go.Figure(data=data, layout=layout)\n",
    "iplot(fig, filename='heatmap',show_link=False)"
   ]
  },
  {
   "cell_type": "markdown",
   "metadata": {},
   "source": [
    "Analyzing the growth dynamic of the time series; We can identify some cyclic patterns. Thus, from 1990 to 1994 the growth is the lowest of the series. From 1994 to 1996 we see growth accelearating, with a slowdown in 1998. From 1998 to 2007, growth reaccelerates progressively (expect for the period 2001-2003); reaching a peak in 2006  (6.16%) (pre-depression period). The post-depression dynamics are marked by a recovery of the growth rates (rates higher than series 3% average) with a sharp drop in 2015 (growth of 1.5%). As of this year, the recent period initiates a bullish tends towards the 3% average of the series."
   ]
  },
  {
   "cell_type": "code",
   "execution_count": 8,
   "metadata": {
    "_kg_hide-input": true
   },
   "outputs": [
    {
     "data": {
      "application/vnd.plotly.v1+json": {
       "config": {
        "linkText": "Export to plot.ly",
        "plotlyServerURL": "https://plot.ly",
        "showLink": false
       },
       "data": [
        {
         "marker": {
          "color": "lightsalmon"
         },
         "type": "bar",
         "uid": "dd9f70bf-fabe-4dd1-84cc-ff63f4940c0e",
         "x": [
          "1990",
          "1991",
          "1992",
          "1993",
          "1994",
          "1995",
          "1996",
          "1997",
          "1998",
          "1999",
          "2000",
          "2001",
          "2002",
          "2003",
          "2004",
          "2005",
          "2006",
          "2007",
          "2008",
          "2009",
          "2010",
          "2011",
          "2012",
          "2013",
          "2014",
          "2015",
          "2016",
          "2017"
         ],
         "y": [
          1.0,
          1.0225934199354552,
          1.0260525806422338,
          1.0380854659057566,
          1.0449296390324507,
          1.087219554987751,
          1.1376418383518603,
          1.172731063487669,
          1.1914075977693506,
          1.2152004677666093,
          1.25136125976669,
          1.2971994893340197,
          1.3303255043317121,
          1.3609899240447783,
          1.4357910263154452,
          1.5228798479377779,
          1.6180051040196812,
          1.7083507124146602,
          1.770833367721621,
          1.8067788622704126,
          1.888004009293181,
          1.9783765562840492,
          2.083931657570262,
          2.1685798594073638,
          2.2531779187897834,
          2.291640707866771,
          2.3385344997372948,
          2.4140089583129667
         ]
        }
       ],
       "layout": {
        "title": {
         "text": "Sub-Saharan African GDP per capita PPP 1990-2017 accumulative growth (Index 1=1990)"
        },
        "xaxis": {
         "nticks": 43,
         "ticks": ""
        },
        "yaxis": {
         "nticks": 20
        }
       }
      },
      "text/html": [
       "<div>\n",
       "        \n",
       "        \n",
       "            <div id=\"ddd02aae-29a3-47a0-ad70-9c437b63d023\" class=\"plotly-graph-div\" style=\"height:525px; width:100%;\"></div>\n",
       "            <script type=\"text/javascript\">\n",
       "                require([\"plotly\"], function(Plotly) {\n",
       "                    window.PLOTLYENV=window.PLOTLYENV || {};\n",
       "                    window.PLOTLYENV.BASE_URL='https://plot.ly';\n",
       "                    \n",
       "                if (document.getElementById(\"ddd02aae-29a3-47a0-ad70-9c437b63d023\")) {\n",
       "                    Plotly.newPlot(\n",
       "                        'ddd02aae-29a3-47a0-ad70-9c437b63d023',\n",
       "                        [{\"marker\": {\"color\": \"lightsalmon\"}, \"type\": \"bar\", \"uid\": \"dd9f70bf-fabe-4dd1-84cc-ff63f4940c0e\", \"x\": [\"1990\", \"1991\", \"1992\", \"1993\", \"1994\", \"1995\", \"1996\", \"1997\", \"1998\", \"1999\", \"2000\", \"2001\", \"2002\", \"2003\", \"2004\", \"2005\", \"2006\", \"2007\", \"2008\", \"2009\", \"2010\", \"2011\", \"2012\", \"2013\", \"2014\", \"2015\", \"2016\", \"2017\"], \"y\": [1.0, 1.0225934199354552, 1.0260525806422338, 1.0380854659057566, 1.0449296390324507, 1.087219554987751, 1.1376418383518603, 1.172731063487669, 1.1914075977693506, 1.2152004677666093, 1.25136125976669, 1.2971994893340197, 1.3303255043317121, 1.3609899240447783, 1.4357910263154452, 1.5228798479377779, 1.6180051040196812, 1.7083507124146602, 1.770833367721621, 1.8067788622704126, 1.888004009293181, 1.9783765562840492, 2.083931657570262, 2.1685798594073638, 2.2531779187897834, 2.291640707866771, 2.3385344997372948, 2.4140089583129667]}],\n",
       "                        {\"title\": {\"text\": \"Sub-Saharan African GDP per capita PPP 1990-2017 accumulative growth (Index 1=1990)\"}, \"xaxis\": {\"nticks\": 43, \"ticks\": \"\"}, \"yaxis\": {\"nticks\": 20}},\n",
       "                        {\"showLink\": false, \"linkText\": \"Export to plot.ly\", \"plotlyServerURL\": \"https://plot.ly\", \"responsive\": true}\n",
       "                    ).then(function(){\n",
       "                            \n",
       "var gd = document.getElementById('ddd02aae-29a3-47a0-ad70-9c437b63d023');\n",
       "var x = new MutationObserver(function (mutations, observer) {{\n",
       "        var display = window.getComputedStyle(gd).display;\n",
       "        if (!display || display === 'none') {{\n",
       "            console.log([gd, 'removed!']);\n",
       "            Plotly.purge(gd);\n",
       "            observer.disconnect();\n",
       "        }}\n",
       "}});\n",
       "\n",
       "// Listen for the removal of the full notebook cells\n",
       "var notebookContainer = gd.closest('#notebook-container');\n",
       "if (notebookContainer) {{\n",
       "    x.observe(notebookContainer, {childList: true});\n",
       "}}\n",
       "\n",
       "// Listen for the clearing of the current output cell\n",
       "var outputEl = gd.closest('.output');\n",
       "if (outputEl) {{\n",
       "    x.observe(outputEl, {childList: true});\n",
       "}}\n",
       "\n",
       "                        })\n",
       "                };\n",
       "                });\n",
       "            </script>\n",
       "        </div>"
      ]
     },
     "metadata": {},
     "output_type": "display_data"
    }
   ],
   "source": [
    "returns1 = ts['GDP per capita'].pct_change().fillna(0)\n",
    "ret_index_1 = (1+returns1).cumprod()\n",
    "X_1=ret_index_1.index\n",
    "y_1=ret_index_1.values\n",
    "layout = go.Layout(title= 'Sub-Saharan African GDP per capita PPP 1990-2017 accumulative growth (Index 1=1990)',\n",
    "    xaxis = dict(ticks='', nticks=43),\n",
    "    yaxis = dict(nticks=20))\n",
    "data = [go.Bar(x=X_1,y=y_1,marker =dict(color='lightsalmon'))]\n",
    "fig =go.Figure(data=data, layout=layout)\n",
    "iplot(fig, filename='heatmap',show_link=False)"
   ]
  },
  {
   "cell_type": "markdown",
   "metadata": {},
   "source": [
    "This indexed series (1990=1) gives us a good perspective on the cumulative growth dynamic of the series. We can identify a very regular trend."
   ]
  },
  {
   "cell_type": "markdown",
   "metadata": {},
   "source": [
    "**1.3 Time Series growth dynamic distribution examination**"
   ]
  },
  {
   "cell_type": "code",
   "execution_count": 9,
   "metadata": {
    "_kg_hide-input": true
   },
   "outputs": [
    {
     "data": {
      "application/vnd.plotly.v1+json": {
       "config": {
        "linkText": "Export to plot.ly",
        "plotlyServerURL": "https://plot.ly",
        "showLink": false
       },
       "data": [
        {
         "boxmean": "sd",
         "boxpoints": "all",
         "marker": {
          "color": "darkcyan",
          "opacity": 0.7
         },
         "name": "Time series growth dynamic with Mean & SD",
         "type": "box",
         "uid": "b01a4a41-af0e-4819-8345-fd911f6ee569",
         "y": [
          0.0,
          0.02259341993545516,
          0.003382733195170573,
          0.011727357340684197,
          0.006593072874517603,
          0.04047154408832587,
          0.046377277830214725,
          0.030843824438316902,
          0.015925675428207775,
          0.01997038632438275,
          0.029757058986769502,
          0.036630692543475396,
          0.025536561855030726,
          0.023050313335509776,
          0.05496080532937575,
          0.060655638617425955,
          0.06246405861284332,
          0.05583765352193848,
          0.036574840782338525,
          0.02029863182160363,
          0.044955776669149294,
          0.04786671349532856,
          0.053354403614888746,
          0.04061947114705111,
          0.03901081116078364,
          0.01707046245937227,
          0.02046297733739233,
          0.03227425491655156
         ]
        }
       ],
       "layout": {}
      },
      "text/html": [
       "<div>\n",
       "        \n",
       "        \n",
       "            <div id=\"9113ef16-3926-4fe2-b239-0521b79a9466\" class=\"plotly-graph-div\" style=\"height:525px; width:100%;\"></div>\n",
       "            <script type=\"text/javascript\">\n",
       "                require([\"plotly\"], function(Plotly) {\n",
       "                    window.PLOTLYENV=window.PLOTLYENV || {};\n",
       "                    window.PLOTLYENV.BASE_URL='https://plot.ly';\n",
       "                    \n",
       "                if (document.getElementById(\"9113ef16-3926-4fe2-b239-0521b79a9466\")) {\n",
       "                    Plotly.newPlot(\n",
       "                        '9113ef16-3926-4fe2-b239-0521b79a9466',\n",
       "                        [{\"boxmean\": \"sd\", \"boxpoints\": \"all\", \"marker\": {\"color\": \"darkcyan\", \"opacity\": 0.7}, \"name\": \"Time series growth dynamic with Mean & SD\", \"type\": \"box\", \"uid\": \"b01a4a41-af0e-4819-8345-fd911f6ee569\", \"y\": [0.0, 0.02259341993545516, 0.003382733195170573, 0.011727357340684197, 0.006593072874517603, 0.04047154408832587, 0.046377277830214725, 0.030843824438316902, 0.015925675428207775, 0.01997038632438275, 0.029757058986769502, 0.036630692543475396, 0.025536561855030726, 0.023050313335509776, 0.05496080532937575, 0.060655638617425955, 0.06246405861284332, 0.05583765352193848, 0.036574840782338525, 0.02029863182160363, 0.044955776669149294, 0.04786671349532856, 0.053354403614888746, 0.04061947114705111, 0.03901081116078364, 0.01707046245937227, 0.02046297733739233, 0.03227425491655156]}],\n",
       "                        {},\n",
       "                        {\"showLink\": false, \"linkText\": \"Export to plot.ly\", \"plotlyServerURL\": \"https://plot.ly\", \"responsive\": true}\n",
       "                    ).then(function(){\n",
       "                            \n",
       "var gd = document.getElementById('9113ef16-3926-4fe2-b239-0521b79a9466');\n",
       "var x = new MutationObserver(function (mutations, observer) {{\n",
       "        var display = window.getComputedStyle(gd).display;\n",
       "        if (!display || display === 'none') {{\n",
       "            console.log([gd, 'removed!']);\n",
       "            Plotly.purge(gd);\n",
       "            observer.disconnect();\n",
       "        }}\n",
       "}});\n",
       "\n",
       "// Listen for the removal of the full notebook cells\n",
       "var notebookContainer = gd.closest('#notebook-container');\n",
       "if (notebookContainer) {{\n",
       "    x.observe(notebookContainer, {childList: true});\n",
       "}}\n",
       "\n",
       "// Listen for the clearing of the current output cell\n",
       "var outputEl = gd.closest('.output');\n",
       "if (outputEl) {{\n",
       "    x.observe(outputEl, {childList: true});\n",
       "}}\n",
       "\n",
       "                        })\n",
       "                };\n",
       "                });\n",
       "            </script>\n",
       "        </div>"
      ]
     },
     "metadata": {},
     "output_type": "display_data"
    }
   ],
   "source": [
    "trace1 = go.Box(\n",
    "    y=ts['GDP per capita'].pct_change().fillna(0),\n",
    "    name='Time series growth dynamic with Mean & SD',boxpoints='all',\n",
    "    marker=dict(\n",
    "        color='darkcyan',opacity=0.7),boxmean='sd')\n",
    "data = [trace1]\n",
    "layout = go.Layout(title='')\n",
    "fig =go.Figure(data=data, layout=layout)\n",
    "iplot(data)"
   ]
  },
  {
   "cell_type": "markdown",
   "metadata": {},
   "source": [
    "The box-plot shows us visually the same indicators identified before."
   ]
  },
  {
   "cell_type": "code",
   "execution_count": 10,
   "metadata": {
    "_kg_hide-input": true
   },
   "outputs": [
    {
     "data": {
      "application/vnd.plotly.v1+json": {
       "config": {
        "linkText": "Export to plot.ly",
        "plotlyServerURL": "https://plot.ly",
        "showLink": false
       },
       "data": [
        {
         "box": {
          "visible": true
         },
         "fillcolor": "darkcyan",
         "line": {
          "color": "black"
         },
         "meanline": {
          "visible": true
         },
         "opacity": 0.7,
         "type": "violin",
         "uid": "105bf3d9-7d64-4055-8e16-2b5d243b2bd6",
         "x0": "Violin",
         "y": [
          1197.3663951873998,
          1224.418996970471,
          1228.5608797563204,
          1242.9686522080083,
          1251.1636351127565,
          1301.8001593329325,
          1362.1741070017338,
          1404.1887660125162,
          1426.551420539967,
          1455.0402035197471,
          1498.3379206840054,
          1553.2230763828115,
          1592.8870535475223,
          1629.6035992398697,
          1719.1679254217422,
          1823.4451538287933,
          1937.3449387948601,
          2045.5217342397686,
          2120.3363659864012,
          2163.3762932175164,
          2260.632554706735,
          2368.841605521095,
          2495.229736641809,
          2596.584648934595,
          2697.879522337172,
          2743.933573443138,
          2800.082623971815,
          2890.453204365288
         ]
        }
       ],
       "layout": {
        "title": {
         "text": "Violin Plot - Time series growth dynamic"
        },
        "yaxis": {
         "zeroline": false
        }
       }
      },
      "text/html": [
       "<div>\n",
       "        \n",
       "        \n",
       "            <div id=\"71ded9ec-1aec-4c34-9a78-63def8ab472a\" class=\"plotly-graph-div\" style=\"height:525px; width:100%;\"></div>\n",
       "            <script type=\"text/javascript\">\n",
       "                require([\"plotly\"], function(Plotly) {\n",
       "                    window.PLOTLYENV=window.PLOTLYENV || {};\n",
       "                    window.PLOTLYENV.BASE_URL='https://plot.ly';\n",
       "                    \n",
       "                if (document.getElementById(\"71ded9ec-1aec-4c34-9a78-63def8ab472a\")) {\n",
       "                    Plotly.newPlot(\n",
       "                        '71ded9ec-1aec-4c34-9a78-63def8ab472a',\n",
       "                        [{\"box\": {\"visible\": true}, \"fillcolor\": \"darkcyan\", \"line\": {\"color\": \"black\"}, \"meanline\": {\"visible\": true}, \"opacity\": 0.7, \"type\": \"violin\", \"uid\": \"105bf3d9-7d64-4055-8e16-2b5d243b2bd6\", \"x0\": \"Violin\", \"y\": [1197.3663951873998, 1224.418996970471, 1228.5608797563204, 1242.9686522080083, 1251.1636351127565, 1301.8001593329325, 1362.1741070017338, 1404.1887660125162, 1426.551420539967, 1455.0402035197471, 1498.3379206840054, 1553.2230763828115, 1592.8870535475223, 1629.6035992398697, 1719.1679254217422, 1823.4451538287933, 1937.3449387948601, 2045.5217342397686, 2120.3363659864012, 2163.3762932175164, 2260.632554706735, 2368.841605521095, 2495.229736641809, 2596.584648934595, 2697.879522337172, 2743.933573443138, 2800.082623971815, 2890.453204365288]}],\n",
       "                        {\"title\": {\"text\": \"Violin Plot - Time series growth dynamic\"}, \"yaxis\": {\"zeroline\": false}},\n",
       "                        {\"showLink\": false, \"linkText\": \"Export to plot.ly\", \"plotlyServerURL\": \"https://plot.ly\", \"responsive\": true}\n",
       "                    ).then(function(){\n",
       "                            \n",
       "var gd = document.getElementById('71ded9ec-1aec-4c34-9a78-63def8ab472a');\n",
       "var x = new MutationObserver(function (mutations, observer) {{\n",
       "        var display = window.getComputedStyle(gd).display;\n",
       "        if (!display || display === 'none') {{\n",
       "            console.log([gd, 'removed!']);\n",
       "            Plotly.purge(gd);\n",
       "            observer.disconnect();\n",
       "        }}\n",
       "}});\n",
       "\n",
       "// Listen for the removal of the full notebook cells\n",
       "var notebookContainer = gd.closest('#notebook-container');\n",
       "if (notebookContainer) {{\n",
       "    x.observe(notebookContainer, {childList: true});\n",
       "}}\n",
       "\n",
       "// Listen for the clearing of the current output cell\n",
       "var outputEl = gd.closest('.output');\n",
       "if (outputEl) {{\n",
       "    x.observe(outputEl, {childList: true});\n",
       "}}\n",
       "\n",
       "                        })\n",
       "                };\n",
       "                });\n",
       "            </script>\n",
       "        </div>"
      ]
     },
     "metadata": {},
     "output_type": "display_data"
    }
   ],
   "source": [
    "fig = {\"data\": [{\"type\": 'violin', \"y\": y, \"box\": {\"visible\": True}, \"line\": {\"color\": 'black'},\"meanline\": \n",
    "                 {\"visible\": True },\"fillcolor\": 'darkcyan',\"opacity\": 0.7,\"x0\": 'Violin'}],\n",
    "    \"layout\" : { \"title\": \"Violin Plot - Time series growth dynamic\", \"yaxis\": { \"zeroline\": False,}}}\n",
    "\n",
    "fig =go.Figure(data=fig, layout=layout)\n",
    "iplot(fig)"
   ]
  },
  {
   "cell_type": "markdown",
   "metadata": {},
   "source": [
    "Violin plots are similar to histograms  in that they show an abstract representation of the probability distribution of the data, rather than showing counts of data points that fall into bins or order statistics, violin plots use the kernel density estimation (KDE) to compute an empirical distribution of the data.\n",
    "\n",
    "The violin plot shows the presence of different peaks, their position and \"relative amplitude\". "
   ]
  },
  {
   "cell_type": "code",
   "execution_count": 11,
   "metadata": {
    "_kg_hide-input": true
   },
   "outputs": [
    {
     "data": {
      "image/png": "[encoded data removed]",
      "text/plain": [
       "<Figure size 1080x360 with 1 Axes>"
      ]
     },
     "metadata": {
      "needs_background": "light"
     },
     "output_type": "display_data"
    }
   ],
   "source": [
    "f, ax = plt.subplots(figsize=(15, 5)); plt.title('Distribution')\n",
    "sns.distplot(ts['GDP per capita'].pct_change().fillna(0),bins=15, hist_kws={'cumulative': True},color='darkcyan', \n",
    "             kde_kws={'cumulative': True},rug=True)\n",
    "plt.rc('xtick', labelsize=14)    # fontsize of the tick X labels \n",
    "plt.rc('ytick', labelsize=14)    # fontsize of the tick Y labels\n",
    "plt.title('Time series growth dynamic - Cumulative Distribution Function (CDF)', \n",
    "          size=18)\n",
    "SIZE2=12\n",
    "plt.xlabel('GDPpc PP anual growth', size=14)\n",
    "plt.ylabel('Accumulated probability [0,1]', size=14)\n",
    "plt.show()"
   ]
  },
  {
   "cell_type": "markdown",
   "metadata": {},
   "source": [
    "The cumulative distribution function (CDF) is the probability that the variable takes a value less than or equal to an certain X value. For instance, we see that the probability that a given time series year reports GDPpc growth < 3% is higher than 45%. \n",
    "\n",
    "- 75% of the years are compressed between a growth of 1.8% and 4.6%. \n",
    "- Only 25% of the years registered growth higher than 4.6%."
   ]
  },
  {
   "cell_type": "code",
   "execution_count": 12,
   "metadata": {
    "_kg_hide-input": true
   },
   "outputs": [
    {
     "data": {
      "image/png": "[encoded data removed]",
      "text/plain": [
       "<Figure size 1152x360 with 1 Axes>"
      ]
     },
     "metadata": {
      "needs_background": "light"
     },
     "output_type": "display_data"
    }
   ],
   "source": [
    "f, ax = plt.subplots(figsize=(16, 5)); plt.title('Distribution')\n",
    "sns.distplot(ts['GDP per capita'].pct_change().fillna(0),color='darkcyan', bins=20,rug=True,hist_kws={\"density\":True})\n",
    "plt.rc('xtick', labelsize=SIZE2)    # fontsize of the tick X labels \n",
    "plt.rc('ytick', labelsize=SIZE2)    # fontsize of the tick Y labels\n",
    "plt.title('Time series growth dynamic - Histogram and probability density function (PDF)', size=18)\n",
    "plt.xlabel('GDP per capita annual growth', size=14)\n",
    "plt.show()"
   ]
  },
  {
   "cell_type": "markdown",
   "metadata": {},
   "source": [
    "As expected we see a very **asymetric distribution with a long right side tail.**"
   ]
  },
  {
   "cell_type": "markdown",
   "metadata": {},
   "source": [
    "**1.4 ACF (Auto Correlation Function Plot) & PACF (Partial Auto Correlation Function Plot)**\n",
    "\n",
    "The first test of stationarity has to be autocorrelation function ACF.  \n",
    "\n",
    "The ACF at lag k denoted as :\n",
    "\n",
    "$$ p_k = covarience_k  /  variance $$\n",
    "\n",
    "Where we have each observation covariance at lag k. As both the variance and the covariance are measured in the same units of measurement the autocorrelation function is unitless and it lies between -1 and 1 as any other correlation coeficient. "
   ]
  },
  {
   "cell_type": "code",
   "execution_count": 13,
   "metadata": {
    "_kg_hide-input": true
   },
   "outputs": [
    {
     "data": {
      "image/png": "[encoded data removed]",
      "text/plain": [
       "<Figure size 1080x360 with 1 Axes>"
      ]
     },
     "metadata": {
      "needs_background": "light"
     },
     "output_type": "display_data"
    }
   ],
   "source": [
    "import statsmodels.api as sm\n",
    "fig, ax = plt.subplots(figsize=(15,5))\n",
    "ax.set_facecolor('silver')\n",
    "sm.graphics.tsa.plot_acf(y,ax=ax,lags=27)\n",
    "plt.show()"
   ]
  },
  {
   "cell_type": "markdown",
   "metadata": {},
   "source": [
    "A visual examination of the correlogram to lag 27 confirms that the data is clearly non-stationary and follows an accumulative autoregressive growth pattern up to the 9th lag, and starts accumulating negative autocorrelation from the 10th lag onward.  It is the expected result for a growing additive time series, with no sesonality. The blue margin shows the 95% confidence interval. "
   ]
  },
  {
   "cell_type": "markdown",
   "metadata": {},
   "source": [
    "**Concept of Stationarity :**\n",
    "\n",
    "*A stochastic process is called strongly stationary if the distribution of original time series is exactly the same as its lagged versions. So the the distribution of the time series is unchanged for any abritrary shift in time.*\n",
    "\n",
    "*This assumption, however, doesn't apply to real time series and a milder assumption enters the picture, covariance stationarity. This just means that the mean and variance of the series should not be a function of time (they have to be finite and independent of time) and that the  autocovariance between time points and is also finite and only depends on the distance between the two points.* \n",
    "\n",
    "*Why is making our time series stationary important? If our series is consistently increasing/decreasing over time, it means that either the mean is not constant or the variance-autocovariances are time-dependent, which makes more difficult to develop mathematical theory and models for time series. In summary, we can only study the series patterns for the given period and we cannot build generalized predictive ARIMA models with it*."
   ]
  },
  {
   "cell_type": "markdown",
   "metadata": {},
   "source": [
    "Gaussian white noise:\n",
    "    $$ U_t \\sim N(0,1) $$"
   ]
  },
  {
   "cell_type": "code",
   "execution_count": 14,
   "metadata": {
    "_kg_hide-input": true
   },
   "outputs": [
    {
     "data": {
      "image/png": "[encoded data removed]",
      "text/plain": [
       "<Figure size 1080x360 with 1 Axes>"
      ]
     },
     "metadata": {
      "needs_background": "light"
     },
     "output_type": "display_data"
    }
   ],
   "source": [
    "import statsmodels.api as sm\n",
    "fig, ax = plt.subplots(figsize=(15,5))\n",
    "ax.set_facecolor('silver')\n",
    "sm.graphics.tsa.plot_pacf(y,ax=ax)\n",
    "plt.show()"
   ]
  },
  {
   "cell_type": "markdown",
   "metadata": {},
   "source": [
    "Partial autocorrelation is as the correlation between the series and its lag, excluding the contributions from the intermediate lags. PACF conveys the pure correlation between a lag and the series. "
   ]
  },
  {
   "cell_type": "markdown",
   "metadata": {},
   "source": [
    "**1.5 Rolling Mean, Std and Dickey-Fuller Test:**"
   ]
  },
  {
   "cell_type": "markdown",
   "metadata": {},
   "source": [
    "Altought by visualizing the time series it is fairly easy to identify a changing mean or variation in the data, for a more accurate stationary assessment we have to undertake the Dickey-Fuller test. "
   ]
  },
  {
   "cell_type": "code",
   "execution_count": 15,
   "metadata": {
    "_kg_hide-input": true
   },
   "outputs": [],
   "source": [
    "from statsmodels.tsa.stattools import adfuller\n",
    "def test_stationarity(timeseries):\n",
    "\n",
    "    #Determing rolling statistics\n",
    "    rolmean = timeseries.rolling(window=12).mean()\n",
    "    rolstd = timeseries.rolling(window=12).std()\n",
    "\n",
    "    #Plot rolling statistics:\n",
    "    fig = plt.figure(figsize=(12, 8))\n",
    "    orig = plt.plot(timeseries, color='blue',label='Original')\n",
    "    mean = plt.plot(rolmean, color='red', label='Rolling Mean')\n",
    "    std = plt.plot(rolstd, color='black', label = 'Rolling Std')\n",
    "    plt.rc('xtick', labelsize=8); plt.rc('ytick', labelsize=16) \n",
    "    plt.xticks([])\n",
    "    \n",
    "    plt.legend(loc='best')\n",
    "    plt.title('Rolling Mean & Standard Deviation')\n",
    "    \n",
    "    plt.show()\n",
    "    \n",
    "    #Perform Dickey-Fuller test:\n",
    "    print ('Results of Dickey-Fuller Test:')\n",
    "    dftest = adfuller(timeseries, autolag='AIC')\n",
    "    dfoutput = pd.Series(dftest[0:4], index=['Test Statistic','p-value','#Lags Used','Number of Observations Used'])\n",
    "    for key,value in dftest[4].items():\n",
    "        dfoutput['Critical Value (%s)'%key] = value\n",
    "    print (dfoutput)"
   ]
  },
  {
   "cell_type": "code",
   "execution_count": 16,
   "metadata": {},
   "outputs": [
    {
     "data": {
      "image/png": "[encoded data removed]",
      "text/plain": [
       "<Figure size 864x576 with 1 Axes>"
      ]
     },
     "metadata": {
      "needs_background": "light"
     },
     "output_type": "display_data"
    },
    {
     "name": "stdout",
     "output_type": "stream",
     "text": [
      "Results of Dickey-Fuller Test:\n",
      "Test Statistic                  1.130828\n",
      "p-value                         0.995471\n",
      "#Lags Used                      1.000000\n",
      "Number of Observations Used    26.000000\n",
      "Critical Value (1%)            -3.711212\n",
      "Critical Value (5%)            -2.981247\n",
      "Critical Value (10%)           -2.630095\n",
      "dtype: float64\n"
     ]
    }
   ],
   "source": [
    "test_stationarity(y)"
   ]
  },
  {
   "cell_type": "markdown",
   "metadata": {},
   "source": [
    " Judging from the rolling mean plot, it is evident that there is a trend in the data and that the data is not trend stationary. \n",
    " \n",
    " The result of the Dickey-Fuller Test also confirms it."
   ]
  },
  {
   "cell_type": "markdown",
   "metadata": {},
   "source": [
    "**1.6 Time series decomposition**\n",
    "\n",
    "The decomposition of time series is a statistical task that deconstructs a time series into several components, each representing one of the underlying categories of patterns. We will use an additive model as it seems we are dealing with a liniar trend fairly constant over time. A multiplicative model is more appropriate when we are increasing (or decreasing) at a non-linear rate.\n",
    "\n",
    "However, based off the previous charts, it looks like the trend in some periods is slightly increasing at a higher rate than just linear."
   ]
  },
  {
   "cell_type": "code",
   "execution_count": 17,
   "metadata": {
    "_kg_hide-input": true
   },
   "outputs": [],
   "source": [
    "ts.index = pd.to_datetime(ts.index)\n",
    "from statsmodels.tsa.seasonal import seasonal_decompose"
   ]
  },
  {
   "cell_type": "code",
   "execution_count": 18,
   "metadata": {
    "_kg_hide-input": true
   },
   "outputs": [
    {
     "data": {
      "image/png": "[encoded data removed]",
      "text/plain": [
       "<Figure size 936x504 with 4 Axes>"
      ]
     },
     "metadata": {
      "needs_background": "light"
     },
     "output_type": "display_data"
    }
   ],
   "source": [
    "from pylab import rcParams\n",
    "rcParams['figure.figsize'] = 13, 7\n",
    "SIZE2=15  \n",
    "plt.rc('xtick', labelsize=SIZE2)    # fontsize of the tick X labels \n",
    "plt.rc('ytick', labelsize=SIZE2)    # fontsize of the tick Y labels\n",
    "decomposition = seasonal_decompose(ts, model='additive')\n",
    "fig = decomposition.plot()\n",
    "plt.show()"
   ]
  },
  {
   "cell_type": "markdown",
   "metadata": {},
   "source": [
    "Our time series separated into its trend, seasonal, and residual components. As our time series is anual, we can discard any kind of seasonality. We can discard also any underlying pattern in the residuals.\n"
   ]
  },
  {
   "cell_type": "markdown",
   "metadata": {},
   "source": [
    "### 2) Stationarize the time series\n",
    "We need to transform the data to make it stationary. "
   ]
  },
  {
   "cell_type": "markdown",
   "metadata": {},
   "source": [
    "**2.1 First-Order Difference**\n",
    "\n",
    "We assume that we can remove the trend/seasonality from our data using the first order differencing. \n",
    "(we take the first differences between values in the series, the order tells us how far apart these values are) Yt-Yt-1"
   ]
  },
  {
   "cell_type": "code",
   "execution_count": 19,
   "metadata": {
    "_kg_hide-input": true
   },
   "outputs": [],
   "source": [
    "# first order difference of the time series\n",
    "y_diff = (y).diff().dropna()\n",
    "y_diff = pd.Series(y_diff )"
   ]
  },
  {
   "cell_type": "code",
   "execution_count": 20,
   "metadata": {
    "_kg_hide-input": true
   },
   "outputs": [
    {
     "data": {
      "application/vnd.plotly.v1+json": {
       "config": {
        "linkText": "Export to plot.ly",
        "plotlyServerURL": "https://plot.ly",
        "showLink": false
       },
       "data": [
        {
         "marker": {
          "color": "black",
          "size": 12
         },
         "mode": "lines+markers",
         "name": "SSA GDPpc PPP $ growth 1990-2017",
         "type": "scatter",
         "uid": "4f995bc9-ca0b-4fa3-bfdd-f4d001b9ae8f",
         "x": [
          "1991",
          "1992",
          "1993",
          "1994",
          "1995",
          "1996",
          "1997",
          "1998",
          "1999",
          "2000",
          "2001",
          "2002",
          "2003",
          "2004",
          "2005",
          "2006",
          "2007",
          "2008",
          "2009",
          "2010",
          "2011",
          "2012",
          "2013",
          "2014",
          "2015",
          "2016",
          "2017"
         ],
         "y": [
          27.052601783071168,
          4.141882785849475,
          14.407772451687833,
          8.194982904748258,
          50.63652422017594,
          60.37394766880129,
          42.01465901078245,
          22.362654527450786,
          28.488782979780126,
          43.2977171642583,
          54.8851556988061,
          39.663977164710786,
          36.71654569234738,
          89.5643261818725,
          104.2772284070511,
          113.89978496606682,
          108.17679544490852,
          74.81463174663259,
          43.03992723111514,
          97.25626148921856,
          108.20905081436013,
          126.38813112071375,
          101.35491229278614,
          101.2948734025772,
          46.054051105965755,
          56.14905052867698,
          90.37058039347312
         ]
        }
       ],
       "layout": {
        "legend": {
         "x": 0.7,
         "y": 1
        },
        "title": {
         "text": "Sub-Saharan African GDP First order differencing"
        },
        "xaxis": {
         "nticks": 43,
         "ticks": ""
        },
        "yaxis": {
         "nticks": 20
        }
       }
      },
      "text/html": [
       "<div>\n",
       "        \n",
       "        \n",
       "            <div id=\"77bfa045-967a-4c79-bd56-3b19636fdf8c\" class=\"plotly-graph-div\" style=\"height:525px; width:100%;\"></div>\n",
       "            <script type=\"text/javascript\">\n",
       "                require([\"plotly\"], function(Plotly) {\n",
       "                    window.PLOTLYENV=window.PLOTLYENV || {};\n",
       "                    window.PLOTLYENV.BASE_URL='https://plot.ly';\n",
       "                    \n",
       "                if (document.getElementById(\"77bfa045-967a-4c79-bd56-3b19636fdf8c\")) {\n",
       "                    Plotly.newPlot(\n",
       "                        '77bfa045-967a-4c79-bd56-3b19636fdf8c',\n",
       "                        [{\"marker\": {\"color\": \"black\", \"size\": 12}, \"mode\": \"lines+markers\", \"name\": \"SSA GDPpc PPP $ growth 1990-2017\", \"type\": \"scatter\", \"uid\": \"4f995bc9-ca0b-4fa3-bfdd-f4d001b9ae8f\", \"x\": [\"1991\", \"1992\", \"1993\", \"1994\", \"1995\", \"1996\", \"1997\", \"1998\", \"1999\", \"2000\", \"2001\", \"2002\", \"2003\", \"2004\", \"2005\", \"2006\", \"2007\", \"2008\", \"2009\", \"2010\", \"2011\", \"2012\", \"2013\", \"2014\", \"2015\", \"2016\", \"2017\"], \"y\": [27.052601783071168, 4.141882785849475, 14.407772451687833, 8.194982904748258, 50.63652422017594, 60.37394766880129, 42.01465901078245, 22.362654527450786, 28.488782979780126, 43.2977171642583, 54.8851556988061, 39.663977164710786, 36.71654569234738, 89.5643261818725, 104.2772284070511, 113.89978496606682, 108.17679544490852, 74.81463174663259, 43.03992723111514, 97.25626148921856, 108.20905081436013, 126.38813112071375, 101.35491229278614, 101.2948734025772, 46.054051105965755, 56.14905052867698, 90.37058039347312]}],\n",
       "                        {\"legend\": {\"x\": 0.7, \"y\": 1}, \"title\": {\"text\": \"Sub-Saharan African GDP First order differencing\"}, \"xaxis\": {\"nticks\": 43, \"ticks\": \"\"}, \"yaxis\": {\"nticks\": 20}},\n",
       "                        {\"showLink\": false, \"linkText\": \"Export to plot.ly\", \"plotlyServerURL\": \"https://plot.ly\", \"responsive\": true}\n",
       "                    ).then(function(){\n",
       "                            \n",
       "var gd = document.getElementById('77bfa045-967a-4c79-bd56-3b19636fdf8c');\n",
       "var x = new MutationObserver(function (mutations, observer) {{\n",
       "        var display = window.getComputedStyle(gd).display;\n",
       "        if (!display || display === 'none') {{\n",
       "            console.log([gd, 'removed!']);\n",
       "            Plotly.purge(gd);\n",
       "            observer.disconnect();\n",
       "        }}\n",
       "}});\n",
       "\n",
       "// Listen for the removal of the full notebook cells\n",
       "var notebookContainer = gd.closest('#notebook-container');\n",
       "if (notebookContainer) {{\n",
       "    x.observe(notebookContainer, {childList: true});\n",
       "}}\n",
       "\n",
       "// Listen for the clearing of the current output cell\n",
       "var outputEl = gd.closest('.output');\n",
       "if (outputEl) {{\n",
       "    x.observe(outputEl, {childList: true});\n",
       "}}\n",
       "\n",
       "                        })\n",
       "                };\n",
       "                });\n",
       "            </script>\n",
       "        </div>"
      ]
     },
     "metadata": {},
     "output_type": "display_data"
    }
   ],
   "source": [
    "layout = go.Layout(title= 'Sub-Saharan African GDP First order differencing',\n",
    "xaxis = dict(ticks='', nticks=43),\n",
    "yaxis = dict(nticks=20),legend=dict(x=0.7, y=1))\n",
    "\n",
    "trace0 = go.Scatter(x=y_diff.index, y=y_diff.values, mode = 'lines+markers',name=\"SSA GDPpc PPP $ growth 1990-2017\", marker = dict(size=12, color='black'))\n",
    "data = [trace0]\n",
    "fig =go.Figure(data=data, layout=layout)\n",
    "iplot(fig, filename='heatmap',show_link=False)"
   ]
  },
  {
   "cell_type": "code",
   "execution_count": 21,
   "metadata": {
    "_kg_hide-input": true
   },
   "outputs": [
    {
     "data": {
      "image/png": "[encoded data removed]",
      "text/plain": [
       "<Figure size 864x576 with 1 Axes>"
      ]
     },
     "metadata": {
      "needs_background": "light"
     },
     "output_type": "display_data"
    },
    {
     "name": "stdout",
     "output_type": "stream",
     "text": [
      "Results of Dickey-Fuller Test:\n",
      "Test Statistic                 -1.963482\n",
      "p-value                         0.302811\n",
      "#Lags Used                      0.000000\n",
      "Number of Observations Used    26.000000\n",
      "Critical Value (1%)            -3.711212\n",
      "Critical Value (5%)            -2.981247\n",
      "Critical Value (10%)           -2.630095\n",
      "dtype: float64\n"
     ]
    }
   ],
   "source": [
    "test_stationarity(y_diff)"
   ]
  },
  {
   "cell_type": "markdown",
   "metadata": {},
   "source": [
    "We see that our p value got a lot closer to 0.05, however, we still don't have a stationary series.\n",
    "\n",
    "The application of the first difference  seems to have extracted quite well the trend as well and made the time series standard deviation stationary. However, the test statistic is still larger than the critical value for a significance level of 5%. "
   ]
  },
  {
   "cell_type": "markdown",
   "metadata": {},
   "source": [
    "**2.2 Second-Order Differencing**\n",
    "\n",
    "As our differenced data is still not stationary another differencing step has to be included. This step indicates a higher order integration of the underlying process. We interpret the second level of differenced data as the “change of changes”. "
   ]
  },
  {
   "cell_type": "code",
   "execution_count": 22,
   "metadata": {
    "_kg_hide-input": true
   },
   "outputs": [
    {
     "data": {
      "image/png": "[encoded data removed]",
      "text/plain": [
       "<Figure size 864x576 with 1 Axes>"
      ]
     },
     "metadata": {
      "needs_background": "light"
     },
     "output_type": "display_data"
    },
    {
     "name": "stdout",
     "output_type": "stream",
     "text": [
      "Results of Dickey-Fuller Test:\n",
      "Test Statistic                 -4.116714\n",
      "p-value                         0.000909\n",
      "#Lags Used                      4.000000\n",
      "Number of Observations Used    21.000000\n",
      "Critical Value (1%)            -3.788386\n",
      "Critical Value (5%)            -3.013098\n",
      "Critical Value (10%)           -2.646397\n",
      "dtype: float64\n"
     ]
    }
   ],
   "source": [
    "# log difference time series\n",
    "y_diff2 = (y).diff().diff().dropna()\n",
    "y_diff2 = pd.Series(y_diff2)\n",
    "test_stationarity(y_diff2)"
   ]
  },
  {
   "cell_type": "code",
   "execution_count": 23,
   "metadata": {
    "_kg_hide-input": true
   },
   "outputs": [
    {
     "data": {
      "application/vnd.plotly.v1+json": {
       "config": {
        "linkText": "Export to plot.ly",
        "plotlyServerURL": "https://plot.ly",
        "showLink": false
       },
       "data": [
        {
         "marker": {
          "color": "black",
          "size": 12
         },
         "mode": "lines+markers",
         "name": "SSA GDPpc PPP $ growth 1990-2017",
         "type": "scatter",
         "uid": "bc5c17c3-df90-4bef-bb2b-399934383a32",
         "x": [
          "1992",
          "1993",
          "1994",
          "1995",
          "1996",
          "1997",
          "1998",
          "1999",
          "2000",
          "2001",
          "2002",
          "2003",
          "2004",
          "2005",
          "2006",
          "2007",
          "2008",
          "2009",
          "2010",
          "2011",
          "2012",
          "2013",
          "2014",
          "2015",
          "2016",
          "2017"
         ],
         "y": [
          -22.910718997221693,
          10.265889665838358,
          -6.212789546939575,
          42.441541315427685,
          9.73742344862535,
          -18.35928865801884,
          -19.652004483331666,
          6.12612845232934,
          14.808934184478176,
          11.5874385345478,
          -15.221178534095316,
          -2.947431472363405,
          52.84778048952512,
          14.712902225178595,
          9.62255655901572,
          -5.722989521158297,
          -33.362163698275936,
          -31.774704515517442,
          54.216334258103416,
          10.952789325141566,
          18.179080306353626,
          -25.033218827927612,
          -0.060038890208943485,
          -55.24082229661144,
          10.094999422711226,
          34.22152986479614
         ]
        }
       ],
       "layout": {
        "legend": {
         "x": 0.7,
         "y": 1
        },
        "title": {
         "text": "Sub-Saharan African GDP Second order differencing"
        },
        "xaxis": {
         "nticks": 43,
         "ticks": ""
        },
        "yaxis": {
         "nticks": 20
        }
       }
      },
      "text/html": [
       "<div>\n",
       "        \n",
       "        \n",
       "            <div id=\"0b327af5-bba7-4fc7-8c1e-7b84dca0d5de\" class=\"plotly-graph-div\" style=\"height:525px; width:100%;\"></div>\n",
       "            <script type=\"text/javascript\">\n",
       "                require([\"plotly\"], function(Plotly) {\n",
       "                    window.PLOTLYENV=window.PLOTLYENV || {};\n",
       "                    window.PLOTLYENV.BASE_URL='https://plot.ly';\n",
       "                    \n",
       "                if (document.getElementById(\"0b327af5-bba7-4fc7-8c1e-7b84dca0d5de\")) {\n",
       "                    Plotly.newPlot(\n",
       "                        '0b327af5-bba7-4fc7-8c1e-7b84dca0d5de',\n",
       "                        [{\"marker\": {\"color\": \"black\", \"size\": 12}, \"mode\": \"lines+markers\", \"name\": \"SSA GDPpc PPP $ growth 1990-2017\", \"type\": \"scatter\", \"uid\": \"bc5c17c3-df90-4bef-bb2b-399934383a32\", \"x\": [\"1992\", \"1993\", \"1994\", \"1995\", \"1996\", \"1997\", \"1998\", \"1999\", \"2000\", \"2001\", \"2002\", \"2003\", \"2004\", \"2005\", \"2006\", \"2007\", \"2008\", \"2009\", \"2010\", \"2011\", \"2012\", \"2013\", \"2014\", \"2015\", \"2016\", \"2017\"], \"y\": [-22.910718997221693, 10.265889665838358, -6.212789546939575, 42.441541315427685, 9.73742344862535, -18.35928865801884, -19.652004483331666, 6.12612845232934, 14.808934184478176, 11.5874385345478, -15.221178534095316, -2.947431472363405, 52.84778048952512, 14.712902225178595, 9.62255655901572, -5.722989521158297, -33.362163698275936, -31.774704515517442, 54.216334258103416, 10.952789325141566, 18.179080306353626, -25.033218827927612, -0.060038890208943485, -55.24082229661144, 10.094999422711226, 34.22152986479614]}],\n",
       "                        {\"legend\": {\"x\": 0.7, \"y\": 1}, \"title\": {\"text\": \"Sub-Saharan African GDP Second order differencing\"}, \"xaxis\": {\"nticks\": 43, \"ticks\": \"\"}, \"yaxis\": {\"nticks\": 20}},\n",
       "                        {\"showLink\": false, \"linkText\": \"Export to plot.ly\", \"plotlyServerURL\": \"https://plot.ly\", \"responsive\": true}\n",
       "                    ).then(function(){\n",
       "                            \n",
       "var gd = document.getElementById('0b327af5-bba7-4fc7-8c1e-7b84dca0d5de');\n",
       "var x = new MutationObserver(function (mutations, observer) {{\n",
       "        var display = window.getComputedStyle(gd).display;\n",
       "        if (!display || display === 'none') {{\n",
       "            console.log([gd, 'removed!']);\n",
       "            Plotly.purge(gd);\n",
       "            observer.disconnect();\n",
       "        }}\n",
       "}});\n",
       "\n",
       "// Listen for the removal of the full notebook cells\n",
       "var notebookContainer = gd.closest('#notebook-container');\n",
       "if (notebookContainer) {{\n",
       "    x.observe(notebookContainer, {childList: true});\n",
       "}}\n",
       "\n",
       "// Listen for the clearing of the current output cell\n",
       "var outputEl = gd.closest('.output');\n",
       "if (outputEl) {{\n",
       "    x.observe(outputEl, {childList: true});\n",
       "}}\n",
       "\n",
       "                        })\n",
       "                };\n",
       "                });\n",
       "            </script>\n",
       "        </div>"
      ]
     },
     "metadata": {},
     "output_type": "display_data"
    }
   ],
   "source": [
    "layout = go.Layout(title= 'Sub-Saharan African GDP Second order differencing', xaxis = dict(ticks='', nticks=43),yaxis = dict(nticks=20),legend=dict(x=0.7, y=1))\n",
    "trace0 = go.Scatter(x=y_diff2.index, y=y_diff2.values, mode = 'lines+markers',name=\"SSA GDPpc PPP $ growth 1990-2017\", marker = dict(size=12, color='black'))\n",
    "data = [trace0]\n",
    "fig =go.Figure(data=data, layout=layout)\n",
    "iplot(fig, filename='heatmap',show_link=False)"
   ]
  },
  {
   "cell_type": "code",
   "execution_count": 24,
   "metadata": {
    "_kg_hide-input": true
   },
   "outputs": [
    {
     "data": {
      "image/png": "[encoded data removed]",
      "text/plain": [
       "<Figure size 1080x360 with 1 Axes>"
      ]
     },
     "metadata": {
      "needs_background": "light"
     },
     "output_type": "display_data"
    }
   ],
   "source": [
    "fig, ax = plt.subplots(figsize=(15,5))\n",
    "ax.set_facecolor('silver')\n",
    "plt.rc('xtick', labelsize=16)\n",
    "sm.graphics.tsa.plot_acf(y_diff2,ax=ax,lags=25)\n",
    "plt.show()"
   ]
  },
  {
   "cell_type": "code",
   "execution_count": 25,
   "metadata": {
    "_kg_hide-input": true
   },
   "outputs": [
    {
     "data": {
      "image/png": "[encoded data removed]",
      "text/plain": [
       "<Figure size 1080x360 with 1 Axes>"
      ]
     },
     "metadata": {
      "needs_background": "light"
     },
     "output_type": "display_data"
    }
   ],
   "source": [
    "fig, ax = plt.subplots(figsize=(15,5))\n",
    "ax.set_facecolor('silver')\n",
    "sm.graphics.tsa.plot_pacf(y_diff2,ax=ax, lags=25)\n",
    "plt.show()"
   ]
  },
  {
   "cell_type": "markdown",
   "metadata": {},
   "source": [
    "We see that the DF test statistic is already smaller that 1% percent significance. However, since there are spikes in the ACF and PACF plots which lie outsite the insignificant zone it can be concluded that the residuals are still not random. This implies that there is an information patterns left in the residuals which can be extracted by autoregressive and moving average models.\n",
    "\n",
    "When looking at the PACF and ACF plot of the transformed second order differenced time series a significant spike in the residuals at lag 15 can be detected. This is an indication of an unusual component, which has not been extracted from the series completely."
   ]
  },
  {
   "cell_type": "markdown",
   "metadata": {},
   "source": [
    "### 3) ARIMA (p,d,q) model"
   ]
  },
  {
   "cell_type": "markdown",
   "metadata": {},
   "source": [
    "To fit the time series data to an ARIMA model with parameters ARIMA(p, d, q) we need to find the optimal parameter setting that strips away the systematic information and leaves us with gaussian white  noise residuals. Thus for selecting, the best fitting model we iteratively generate different models with a given parameter combination and fit the data to it. For each of these models we compute the Akaike Information Criterion (AIC) and eventually choose the model for which the fitted data results in the lowest AIC. In this case, we want to choose a simple ARIMA model that generalizes well the behaviour of the series. \n",
    "\n",
    "**ORDER p**\n",
    "- The PACF shows conveys the pure correlation between a lag and the series. Order 3 is the first above the significance line. We choose this value in order to keep the model as simple as possible.\n",
    "\n",
    "**ORDER d**\n",
    "- We already detected order of integration 2 in order to make the series stationary.\n",
    "\n",
    "**ORDER q**\n",
    "- Using ACF plot we can gauge the number of MA terms. An MA term is technically, the error of the lagged forecast. Order 3 is the first above the significance line; we choose this value in order to keep the model as simple as possible. \n",
    "\n",
    "**The Akaike Information Criterion**\n",
    "\n",
    "The Akaike information criterion (AIC) is a measure of the relative quality of statistical models for a given set of data. Given a collection of models for the data, AIC estimates the quality of each model, relative to each of the other models. Hence, AIC provides a means for model selection. AIC measures the trade-off between the goodness of fit of the model and the complexity of the model (number of included and estimated aprameters). The AIC is calculated as follows :\n",
    "\n",
    "**AIC = 2k - 2ln(L)**\n",
    "\n",
    "Where k corresponds to the number of estimated parameters in the model and L refers to the maximum value of the likelihood function for the model. The AIC only measures the in-sample model fit of the data."
   ]
  },
  {
   "cell_type": "code",
   "execution_count": 26,
   "metadata": {
    "_kg_hide-input": true
   },
   "outputs": [
    {
     "name": "stdout",
     "output_type": "stream",
     "text": [
      "                           Statespace Model Results                           \n",
      "==============================================================================\n",
      "Dep. Variable:                      y   No. Observations:                   28\n",
      "Model:               SARIMAX(3, 2, 3)   Log Likelihood                -116.949\n",
      "Date:                Wed, 17 Jul 2019   AIC                            247.899\n",
      "Time:                        12:58:06   BIC                            256.705\n",
      "Sample:                             0   HQIC                           250.435\n",
      "                                 - 28                                         \n",
      "Covariance Type:                  opg                                         \n",
      "==============================================================================\n",
      "                 coef    std err          z      P>|z|      [0.025      0.975]\n",
      "------------------------------------------------------------------------------\n",
      "ar.L1          0.2793      0.730      0.383      0.702      -1.151       1.710\n",
      "ar.L2          0.1739      0.713      0.244      0.807      -1.224       1.572\n",
      "ar.L3         -0.7641      0.455     -1.681      0.093      -1.655       0.127\n",
      "ma.L1         -0.5157      0.787     -0.655      0.512      -2.058       1.027\n",
      "ma.L2         -0.3591      0.973     -0.369      0.712      -2.266       1.547\n",
      "ma.L3          0.5389      0.606      0.890      0.374      -0.648       1.726\n",
      "sigma2       442.3893    205.298      2.155      0.031      40.012     844.766\n",
      "===================================================================================\n",
      "Ljung-Box (Q):                         nan   Jarque-Bera (JB):                 0.32\n",
      "Prob(Q):                               nan   Prob(JB):                         0.85\n",
      "Heteroskedasticity (H):               1.92   Skew:                             0.26\n",
      "Prob(H) (two-sided):                  0.34   Kurtosis:                         2.82\n",
      "===================================================================================\n",
      "\n",
      "Warnings:\n",
      "[1] Covariance matrix calculated using the outer product of gradients (complex-step).\n"
     ]
    }
   ],
   "source": [
    "mod = sm.tsa.statespace.SARIMAX(ts['GDP per capita'].values,order=(3,2,3),enforce_stationarity=True,enforce_invertibility=True, maxiter=1000, method='css')\n",
    "results1 = mod.fit()\n",
    "print(results1.summary())"
   ]
  },
  {
   "cell_type": "markdown",
   "metadata": {},
   "source": [
    "**3.1 Diagnostic plots for standardized residuals**"
   ]
  },
  {
   "cell_type": "code",
   "execution_count": 27,
   "metadata": {
    "_kg_hide-input": true
   },
   "outputs": [
    {
     "data": {
      "image/png": "[encoded data removed]",
      "text/plain": [
       "<Figure size 1080x864 with 4 Axes>"
      ]
     },
     "metadata": {
      "needs_background": "light"
     },
     "output_type": "display_data"
    }
   ],
   "source": [
    "results1.plot_diagnostics(figsize=(15, 12),lags=25)\n",
    "plt.show()"
   ]
  },
  {
   "cell_type": "markdown",
   "metadata": {},
   "source": [
    "The standarized residual plot of the fitted model in the upper right corner appears to be white noise as it does not display any pattern. The histogram plot in the upper right corner pair with the kernel density estimation (orange line) indicates that the time series is almost normally distributed (green line) and aproximates **Gaussian White Noise.**\n",
    "\n",
    "\n",
    "The correlogram (autocorrelation plot) confirms this resuts, since the time series residuals show low correlations with lagged residuals. There aren't any statistically significant peaks at 5% significance level. Hence we can state that the the correlogram looks like that of discrete white noise. \n",
    "\n",
    "We can conclude that the model is a good fit for our time series data. "
   ]
  },
  {
   "cell_type": "code",
   "execution_count": 28,
   "metadata": {
    "_kg_hide-input": true
   },
   "outputs": [],
   "source": [
    "prediction_summary=results1.get_prediction(start=0, end=40).summary_frame()\n",
    "prediction_summary.index=['1990-01-01', '1991-01-01','1992-01-01','1993-01-01', '1994-01-01', '1995-01-01',\n",
    "               '1996-01-01', '1997-01-01', '1998-01-01', '1999-01-01',\n",
    "               '2000-01-01', '2001-01-01', '2002-01-01', '2003-01-01',\n",
    "               '2004-01-01', '2005-01-01', '2006-01-01', '2007-01-01',\n",
    "               '2008-01-01', '2009-01-01', '2010-01-01', '2011-01-01',\n",
    "               '2012-01-01', '2013-01-01', '2014-01-01', '2015-01-01',\n",
    "               '2016-01-01', '2017-01-01', '2018-01-01', '2019-01-01',\n",
    "               '2020-01-01', '2021-01-01', '2022-01-01', '2023-01-01',\n",
    "               '2024-01-01', '2025-01-01', '2026-01-01', '2027-01-01',\n",
    "               '2028-01-01', '2029-01-01', '2030-01-01']"
   ]
  },
  {
   "cell_type": "markdown",
   "metadata": {},
   "source": [
    "### 4) In-sample prediction and out-of-sample forecasting of SSA GDP per capita to 2030"
   ]
  },
  {
   "cell_type": "code",
   "execution_count": 29,
   "metadata": {
    "_kg_hide-input": true
   },
   "outputs": [],
   "source": [
    "forecast=results1.predict(start=0,end=40)\n",
    "forecast=pd.DataFrame(forecast, columns = ['projection'])\n",
    "forecast.index=['1990', '1991', '1992', '1993', '1994', '1995', '1996', '1997', '1998',\n",
    "       '1999', '2000', '2001', '2002', '2003', '2004', '2005', '2006', '2007',\n",
    "       '2008', '2009', '2010', '2011', '2012', '2013', '2014', '2015', '2016',\n",
    "       '2017','2018','2019','2020','2021','2022','2023','2024','2025','2026','2027','2028','2029','2030']\n"
   ]
  },
  {
   "cell_type": "code",
   "execution_count": 30,
   "metadata": {
    "_kg_hide-input": true
   },
   "outputs": [
    {
     "data": {
      "application/vnd.plotly.v1+json": {
       "config": {
        "linkText": "Export to plot.ly",
        "plotlyServerURL": "https://plot.ly",
        "showLink": false
       },
       "data": [
        {
         "marker": {
          "size": 7
         },
         "mode": "markers",
         "name": "Actual GDP PPP",
         "type": "scatter",
         "uid": "829f4a0d-4f52-40b0-bf19-cb64291e61c7",
         "x": [
          "1990-01-01",
          "1991-01-01",
          "1992-01-01",
          "1993-01-01",
          "1994-01-01",
          "1995-01-01",
          "1996-01-01",
          "1997-01-01",
          "1998-01-01",
          "1999-01-01",
          "2000-01-01",
          "2001-01-01",
          "2002-01-01",
          "2003-01-01",
          "2004-01-01",
          "2005-01-01",
          "2006-01-01",
          "2007-01-01",
          "2008-01-01",
          "2009-01-01",
          "2010-01-01",
          "2011-01-01",
          "2012-01-01",
          "2013-01-01",
          "2014-01-01",
          "2015-01-01",
          "2016-01-01",
          "2017-01-01"
         ],
         "y": [
          1197.3663951873998,
          1224.418996970471,
          1228.5608797563204,
          1242.9686522080083,
          1251.1636351127565,
          1301.8001593329325,
          1362.1741070017338,
          1404.1887660125162,
          1426.551420539967,
          1455.0402035197471,
          1498.3379206840054,
          1553.2230763828115,
          1592.8870535475223,
          1629.6035992398697,
          1719.1679254217422,
          1823.4451538287933,
          1937.3449387948601,
          2045.5217342397686,
          2120.3363659864012,
          2163.3762932175164,
          2260.632554706735,
          2368.841605521095,
          2495.229736641809,
          2596.584648934595,
          2697.879522337172,
          2743.933573443138,
          2800.082623971815,
          2890.453204365288
         ]
        },
        {
         "marker": {
          "size": 7
         },
         "mode": "lines+markers",
         "name": "Arima model (5,2,0) in sample model & 2030 projection",
         "opacity": 0.6,
         "type": "scatter",
         "uid": "234a2246-d869-4335-a160-bf8effc9b9d1",
         "x": [
          "1992",
          "1993",
          "1994",
          "1995",
          "1996",
          "1997",
          "1998",
          "1999",
          "2000",
          "2001",
          "2002",
          "2003",
          "2004",
          "2005",
          "2006",
          "2007",
          "2008",
          "2009",
          "2010",
          "2011",
          "2012",
          "2013",
          "2014",
          "2015",
          "2016",
          "2017",
          "2018",
          "2019",
          "2020",
          "2021",
          "2022",
          "2023",
          "2024",
          "2025",
          "2026",
          "2027",
          "2028",
          "2029",
          "2030"
         ],
         "y": [
          1251.434942893415,
          1231.8324137412937,
          1262.03431577135,
          1268.4800491213082,
          1349.0032279485101,
          1413.8081168840629,
          1425.2603365584725,
          1442.0388099789195,
          1484.0061760019087,
          1550.613225405481,
          1609.4192638177512,
          1634.0856080870963,
          1663.6170227601492,
          1798.8919979547625,
          1908.280431462181,
          2022.0742961347303,
          2133.207223311478,
          2191.3328697933666,
          2227.765431499253,
          2379.1651267590937,
          2492.281850205564,
          2607.0626254734098,
          2684.5227524820457,
          2779.376464526048,
          2801.5144909238506,
          2870.1529854571795,
          3005.295520655912,
          3117.147977209248,
          3217.2100887660117,
          3294.759764295118,
          3366.25680538575,
          3441.157991288346,
          3533.1599224719084,
          3635.1545307775464,
          3740.312414934346,
          3835.024090075804,
          3919.732823009364,
          3997.4142450304885,
          4079.3760011658383
         ]
        }
       ],
       "layout": {
        "legend": {
         "x": 0.1,
         "y": 1
        },
        "title": {
         "text": "In-sample prediction and out-of-sample forecasting to 2030 per capita - GDP PPP US$ SSA"
        },
        "xaxis": {
         "nticks": 43,
         "ticks": ""
        },
        "yaxis": {
         "nticks": 20
        }
       }
      },
      "text/html": [
       "<div>\n",
       "        \n",
       "        \n",
       "            <div id=\"b9b5b536-69b2-4bca-9e1e-62d6b85c88cd\" class=\"plotly-graph-div\" style=\"height:525px; width:100%;\"></div>\n",
       "            <script type=\"text/javascript\">\n",
       "                require([\"plotly\"], function(Plotly) {\n",
       "                    window.PLOTLYENV=window.PLOTLYENV || {};\n",
       "                    window.PLOTLYENV.BASE_URL='https://plot.ly';\n",
       "                    \n",
       "                if (document.getElementById(\"b9b5b536-69b2-4bca-9e1e-62d6b85c88cd\")) {\n",
       "                    Plotly.newPlot(\n",
       "                        'b9b5b536-69b2-4bca-9e1e-62d6b85c88cd',\n",
       "                        [{\"marker\": {\"size\": 7}, \"mode\": \"markers\", \"name\": \"Actual GDP PPP\", \"type\": \"scatter\", \"uid\": \"829f4a0d-4f52-40b0-bf19-cb64291e61c7\", \"x\": [\"1990-01-01\", \"1991-01-01\", \"1992-01-01\", \"1993-01-01\", \"1994-01-01\", \"1995-01-01\", \"1996-01-01\", \"1997-01-01\", \"1998-01-01\", \"1999-01-01\", \"2000-01-01\", \"2001-01-01\", \"2002-01-01\", \"2003-01-01\", \"2004-01-01\", \"2005-01-01\", \"2006-01-01\", \"2007-01-01\", \"2008-01-01\", \"2009-01-01\", \"2010-01-01\", \"2011-01-01\", \"2012-01-01\", \"2013-01-01\", \"2014-01-01\", \"2015-01-01\", \"2016-01-01\", \"2017-01-01\"], \"y\": [1197.3663951873998, 1224.418996970471, 1228.5608797563204, 1242.9686522080083, 1251.1636351127565, 1301.8001593329325, 1362.1741070017338, 1404.1887660125162, 1426.551420539967, 1455.0402035197471, 1498.3379206840054, 1553.2230763828115, 1592.8870535475223, 1629.6035992398697, 1719.1679254217422, 1823.4451538287933, 1937.3449387948601, 2045.5217342397686, 2120.3363659864012, 2163.3762932175164, 2260.632554706735, 2368.841605521095, 2495.229736641809, 2596.584648934595, 2697.879522337172, 2743.933573443138, 2800.082623971815, 2890.453204365288]}, {\"marker\": {\"size\": 7}, \"mode\": \"lines+markers\", \"name\": \"Arima model (5,2,0) in sample model & 2030 projection\", \"opacity\": 0.6, \"type\": \"scatter\", \"uid\": \"234a2246-d869-4335-a160-bf8effc9b9d1\", \"x\": [\"1992\", \"1993\", \"1994\", \"1995\", \"1996\", \"1997\", \"1998\", \"1999\", \"2000\", \"2001\", \"2002\", \"2003\", \"2004\", \"2005\", \"2006\", \"2007\", \"2008\", \"2009\", \"2010\", \"2011\", \"2012\", \"2013\", \"2014\", \"2015\", \"2016\", \"2017\", \"2018\", \"2019\", \"2020\", \"2021\", \"2022\", \"2023\", \"2024\", \"2025\", \"2026\", \"2027\", \"2028\", \"2029\", \"2030\"], \"y\": [1251.434942893415, 1231.8324137412937, 1262.03431577135, 1268.4800491213082, 1349.0032279485101, 1413.8081168840629, 1425.2603365584725, 1442.0388099789195, 1484.0061760019087, 1550.613225405481, 1609.4192638177512, 1634.0856080870963, 1663.6170227601492, 1798.8919979547625, 1908.280431462181, 2022.0742961347303, 2133.207223311478, 2191.3328697933666, 2227.765431499253, 2379.1651267590937, 2492.281850205564, 2607.0626254734098, 2684.5227524820457, 2779.376464526048, 2801.5144909238506, 2870.1529854571795, 3005.295520655912, 3117.147977209248, 3217.2100887660117, 3294.759764295118, 3366.25680538575, 3441.157991288346, 3533.1599224719084, 3635.1545307775464, 3740.312414934346, 3835.024090075804, 3919.732823009364, 3997.4142450304885, 4079.3760011658383]}],\n",
       "                        {\"legend\": {\"x\": 0.1, \"y\": 1}, \"title\": {\"text\": \"In-sample prediction and out-of-sample forecasting to 2030 per capita - GDP PPP US$ SSA\"}, \"xaxis\": {\"nticks\": 43, \"ticks\": \"\"}, \"yaxis\": {\"nticks\": 20}},\n",
       "                        {\"showLink\": false, \"linkText\": \"Export to plot.ly\", \"plotlyServerURL\": \"https://plot.ly\", \"responsive\": true}\n",
       "                    ).then(function(){\n",
       "                            \n",
       "var gd = document.getElementById('b9b5b536-69b2-4bca-9e1e-62d6b85c88cd');\n",
       "var x = new MutationObserver(function (mutations, observer) {{\n",
       "        var display = window.getComputedStyle(gd).display;\n",
       "        if (!display || display === 'none') {{\n",
       "            console.log([gd, 'removed!']);\n",
       "            Plotly.purge(gd);\n",
       "            observer.disconnect();\n",
       "        }}\n",
       "}});\n",
       "\n",
       "// Listen for the removal of the full notebook cells\n",
       "var notebookContainer = gd.closest('#notebook-container');\n",
       "if (notebookContainer) {{\n",
       "    x.observe(notebookContainer, {childList: true});\n",
       "}}\n",
       "\n",
       "// Listen for the clearing of the current output cell\n",
       "var outputEl = gd.closest('.output');\n",
       "if (outputEl) {{\n",
       "    x.observe(outputEl, {childList: true});\n",
       "}}\n",
       "\n",
       "                        })\n",
       "                };\n",
       "                });\n",
       "            </script>\n",
       "        </div>"
      ]
     },
     "metadata": {},
     "output_type": "display_data"
    }
   ],
   "source": [
    "# Create traces\n",
    "trace0 = go.Scatter(\n",
    "    x = ts.index,\n",
    "    y = ts['GDP per capita'],\n",
    "    mode = 'markers',\n",
    "    name = 'Actual GDP PPP',marker = dict(size=7))\n",
    "trace1 = go.Scatter(\n",
    "    x = forecast.iloc[2:].index,\n",
    "    y = forecast.iloc[2:].projection,\n",
    "    mode = 'lines+markers',\n",
    "    name = 'Arima model (5,2,0) in sample model & 2030 projection',marker = dict(size=7),opacity = 0.6)\n",
    "\n",
    "\n",
    "layout = go.Layout(title= 'In-sample prediction and out-of-sample forecasting to 2030 per capita - GDP PPP US$ SSA',\n",
    "    xaxis = dict(ticks='', nticks=43),\n",
    "    yaxis = dict(nticks=20), legend=dict(x=0.1, y=1))\n",
    "data = [trace0, trace1]\n",
    "fig =go.Figure(data=data, layout=layout)\n",
    "iplot(fig, filename='scatter-mode')"
   ]
  },
  {
   "cell_type": "code",
   "execution_count": 31,
   "metadata": {
    "_kg_hide-input": true,
    "scrolled": false
   },
   "outputs": [
    {
     "data": {
      "application/vnd.plotly.v1+json": {
       "config": {
        "linkText": "Export to plot.ly",
        "plotlyServerURL": "https://plot.ly",
        "showLink": false
       },
       "data": [
        {
         "marker": {
          "size": 7
         },
         "mode": "markers",
         "name": "Actual GDP PPP",
         "type": "scatter",
         "uid": "1010fe6a-a2ec-4555-bad3-e4ec8c61424d",
         "x": [
          "1990-01-01",
          "1991-01-01",
          "1992-01-01",
          "1993-01-01",
          "1994-01-01",
          "1995-01-01",
          "1996-01-01",
          "1997-01-01",
          "1998-01-01",
          "1999-01-01",
          "2000-01-01",
          "2001-01-01",
          "2002-01-01",
          "2003-01-01",
          "2004-01-01",
          "2005-01-01",
          "2006-01-01",
          "2007-01-01",
          "2008-01-01",
          "2009-01-01",
          "2010-01-01",
          "2011-01-01",
          "2012-01-01",
          "2013-01-01",
          "2014-01-01",
          "2015-01-01",
          "2016-01-01",
          "2017-01-01"
         ],
         "y": [
          1197.3663951873998,
          1224.418996970471,
          1228.5608797563204,
          1242.9686522080083,
          1251.1636351127565,
          1301.8001593329325,
          1362.1741070017338,
          1404.1887660125162,
          1426.551420539967,
          1455.0402035197471,
          1498.3379206840054,
          1553.2230763828115,
          1592.8870535475223,
          1629.6035992398697,
          1719.1679254217422,
          1823.4451538287933,
          1937.3449387948601,
          2045.5217342397686,
          2120.3363659864012,
          2163.3762932175164,
          2260.632554706735,
          2368.841605521095,
          2495.229736641809,
          2596.584648934595,
          2697.879522337172,
          2743.933573443138,
          2800.082623971815,
          2890.453204365288
         ]
        },
        {
         "marker": {
          "color": "red",
          "size": 10
         },
         "mode": "lines",
         "name": "ARIMA model 95% Lower CI",
         "opacity": 0.3,
         "type": "scatter",
         "uid": "196b78bb-9de4-4df1-a5ce-aeb0d5d3d0b6",
         "x": [
          "1992-01-01",
          "1993-01-01",
          "1994-01-01",
          "1995-01-01",
          "1996-01-01",
          "1997-01-01",
          "1998-01-01",
          "1999-01-01",
          "2000-01-01",
          "2001-01-01",
          "2002-01-01",
          "2003-01-01",
          "2004-01-01",
          "2005-01-01",
          "2006-01-01",
          "2007-01-01",
          "2008-01-01",
          "2009-01-01",
          "2010-01-01",
          "2011-01-01",
          "2012-01-01",
          "2013-01-01",
          "2014-01-01",
          "2015-01-01",
          "2016-01-01",
          "2017-01-01",
          "2018-01-01",
          "2019-01-01",
          "2020-01-01",
          "2021-01-01",
          "2022-01-01",
          "2023-01-01",
          "2024-01-01",
          "2025-01-01",
          "2026-01-01",
          "2027-01-01",
          "2028-01-01",
          "2029-01-01",
          "2030-01-01"
         ],
         "y": [
          1200.361065331279,
          1180.8130390830515,
          1211.7280380099794,
          1223.5267306366766,
          1305.61298073271,
          1371.7456173692615,
          1383.2018148544653,
          1400.0023101284503,
          1442.3725980601735,
          1509.1415951771546,
          1568.0764591735826,
          1592.7428609717522,
          1622.2818456234418,
          1757.613396380197,
          1867.0246836921276,
          1980.832210802927,
          2091.9653180378873,
          2150.093096648793,
          2186.534013355161,
          2337.9369102357828,
          2451.055016180801,
          2565.8358873755524,
          2643.2965060182873,
          2738.1514396857306,
          2760.2898958690303,
          2828.928518312318,
          2964.071084569343,
          3033.5712182918874,
          3091.5599924222693,
          3133.5048591006234,
          3171.0063264823953,
          3209.2662465791336,
          3255.5049391069692,
          3302.3377621228356,
          3345.2740009879262,
          3376.5755993869307,
          3398.9287129682875,
          3415.505030086042,
          3434.555198368233
         ]
        },
        {
         "marker": {
          "color": "red",
          "size": 10
         },
         "mode": "lines",
         "name": "ARIMA model 95% Upper CI",
         "opacity": 0.3,
         "type": "scatter",
         "uid": "3ae209a2-a0c4-4b61-93d8-44bd59a65b3e",
         "x": [
          "1992-01-01",
          "1993-01-01",
          "1994-01-01",
          "1995-01-01",
          "1996-01-01",
          "1997-01-01",
          "1998-01-01",
          "1999-01-01",
          "2000-01-01",
          "2001-01-01",
          "2002-01-01",
          "2003-01-01",
          "2004-01-01",
          "2005-01-01",
          "2006-01-01",
          "2007-01-01",
          "2008-01-01",
          "2009-01-01",
          "2010-01-01",
          "2011-01-01",
          "2012-01-01",
          "2013-01-01",
          "2014-01-01",
          "2015-01-01",
          "2016-01-01",
          "2017-01-01",
          "2018-01-01",
          "2019-01-01",
          "2020-01-01",
          "2021-01-01",
          "2022-01-01",
          "2023-01-01",
          "2024-01-01",
          "2025-01-01",
          "2026-01-01",
          "2027-01-01",
          "2028-01-01",
          "2029-01-01",
          "2030-01-01"
         ],
         "y": [
          1302.508820455551,
          1282.851788399536,
          1312.3405935327207,
          1313.4333676059398,
          1392.3934751643103,
          1455.8706163988643,
          1467.3188582624798,
          1484.0753098293887,
          1525.6397539436439,
          1592.0848556338074,
          1650.7620684619199,
          1675.4283552024403,
          1704.9521998968567,
          1840.170599529328,
          1949.5361792322344,
          2063.3163814665336,
          2174.449128585069,
          2232.57264293794,
          2268.996849643345,
          2420.3933432824047,
          2533.5086842303267,
          2648.289363571267,
          2725.748998945804,
          2820.6014893663655,
          2842.739085978671,
          2911.377452602041,
          3046.5199567424806,
          3200.7247361266086,
          3342.860185109754,
          3456.014669489613,
          3561.5072842891045,
          3673.049735997558,
          3810.8149058368476,
          3967.971299432257,
          4135.350828880766,
          4293.472580764677,
          4440.53693305044,
          4579.323459974935,
          4724.196803963443
         ]
        },
        {
         "marker": {
          "color": "red",
          "size": 10
         },
         "mode": "markers",
         "name": "ARIMA model mean projected values",
         "opacity": 0.3,
         "type": "scatter",
         "uid": "7231911f-1e4d-4065-b84c-e90445d0a624",
         "x": [
          "2018-01-01",
          "2019-01-01",
          "2020-01-01",
          "2021-01-01",
          "2022-01-01",
          "2023-01-01",
          "2024-01-01",
          "2025-01-01",
          "2026-01-01",
          "2027-01-01",
          "2028-01-01",
          "2029-01-01",
          "2030-01-01"
         ],
         "y": [
          3005.295520655912,
          3117.147977209248,
          3217.2100887660117,
          3294.759764295118,
          3366.25680538575,
          3441.157991288346,
          3533.1599224719084,
          3635.1545307775464,
          3740.312414934346,
          3835.024090075804,
          3919.732823009364,
          3997.4142450304885,
          4079.3760011658383
         ]
        }
       ],
       "layout": {
        "legend": {
         "x": 0.1,
         "y": 1
        },
        "title": {
         "text": "In-sample prediction and out-of-sample forecasting 95% CI - GDPpc PPP US$ SSA"
        },
        "xaxis": {
         "nticks": 43,
         "ticks": ""
        },
        "yaxis": {
         "nticks": 20
        }
       }
      },
      "text/html": [
       "<div>\n",
       "        \n",
       "        \n",
       "            <div id=\"e19d6f6b-6b84-40d2-a1a4-1a0d0004caf2\" class=\"plotly-graph-div\" style=\"height:525px; width:100%;\"></div>\n",
       "            <script type=\"text/javascript\">\n",
       "                require([\"plotly\"], function(Plotly) {\n",
       "                    window.PLOTLYENV=window.PLOTLYENV || {};\n",
       "                    window.PLOTLYENV.BASE_URL='https://plot.ly';\n",
       "                    \n",
       "                if (document.getElementById(\"e19d6f6b-6b84-40d2-a1a4-1a0d0004caf2\")) {\n",
       "                    Plotly.newPlot(\n",
       "                        'e19d6f6b-6b84-40d2-a1a4-1a0d0004caf2',\n",
       "                        [{\"marker\": {\"size\": 7}, \"mode\": \"markers\", \"name\": \"Actual GDP PPP\", \"type\": \"scatter\", \"uid\": \"1010fe6a-a2ec-4555-bad3-e4ec8c61424d\", \"x\": [\"1990-01-01\", \"1991-01-01\", \"1992-01-01\", \"1993-01-01\", \"1994-01-01\", \"1995-01-01\", \"1996-01-01\", \"1997-01-01\", \"1998-01-01\", \"1999-01-01\", \"2000-01-01\", \"2001-01-01\", \"2002-01-01\", \"2003-01-01\", \"2004-01-01\", \"2005-01-01\", \"2006-01-01\", \"2007-01-01\", \"2008-01-01\", \"2009-01-01\", \"2010-01-01\", \"2011-01-01\", \"2012-01-01\", \"2013-01-01\", \"2014-01-01\", \"2015-01-01\", \"2016-01-01\", \"2017-01-01\"], \"y\": [1197.3663951873998, 1224.418996970471, 1228.5608797563204, 1242.9686522080083, 1251.1636351127565, 1301.8001593329325, 1362.1741070017338, 1404.1887660125162, 1426.551420539967, 1455.0402035197471, 1498.3379206840054, 1553.2230763828115, 1592.8870535475223, 1629.6035992398697, 1719.1679254217422, 1823.4451538287933, 1937.3449387948601, 2045.5217342397686, 2120.3363659864012, 2163.3762932175164, 2260.632554706735, 2368.841605521095, 2495.229736641809, 2596.584648934595, 2697.879522337172, 2743.933573443138, 2800.082623971815, 2890.453204365288]}, {\"marker\": {\"color\": \"red\", \"size\": 10}, \"mode\": \"lines\", \"name\": \"ARIMA model 95% Lower CI\", \"opacity\": 0.3, \"type\": \"scatter\", \"uid\": \"196b78bb-9de4-4df1-a5ce-aeb0d5d3d0b6\", \"x\": [\"1992-01-01\", \"1993-01-01\", \"1994-01-01\", \"1995-01-01\", \"1996-01-01\", \"1997-01-01\", \"1998-01-01\", \"1999-01-01\", \"2000-01-01\", \"2001-01-01\", \"2002-01-01\", \"2003-01-01\", \"2004-01-01\", \"2005-01-01\", \"2006-01-01\", \"2007-01-01\", \"2008-01-01\", \"2009-01-01\", \"2010-01-01\", \"2011-01-01\", \"2012-01-01\", \"2013-01-01\", \"2014-01-01\", \"2015-01-01\", \"2016-01-01\", \"2017-01-01\", \"2018-01-01\", \"2019-01-01\", \"2020-01-01\", \"2021-01-01\", \"2022-01-01\", \"2023-01-01\", \"2024-01-01\", \"2025-01-01\", \"2026-01-01\", \"2027-01-01\", \"2028-01-01\", \"2029-01-01\", \"2030-01-01\"], \"y\": [1200.361065331279, 1180.8130390830515, 1211.7280380099794, 1223.5267306366766, 1305.61298073271, 1371.7456173692615, 1383.2018148544653, 1400.0023101284503, 1442.3725980601735, 1509.1415951771546, 1568.0764591735826, 1592.7428609717522, 1622.2818456234418, 1757.613396380197, 1867.0246836921276, 1980.832210802927, 2091.9653180378873, 2150.093096648793, 2186.534013355161, 2337.9369102357828, 2451.055016180801, 2565.8358873755524, 2643.2965060182873, 2738.1514396857306, 2760.2898958690303, 2828.928518312318, 2964.071084569343, 3033.5712182918874, 3091.5599924222693, 3133.5048591006234, 3171.0063264823953, 3209.2662465791336, 3255.5049391069692, 3302.3377621228356, 3345.2740009879262, 3376.5755993869307, 3398.9287129682875, 3415.505030086042, 3434.555198368233]}, {\"marker\": {\"color\": \"red\", \"size\": 10}, \"mode\": \"lines\", \"name\": \"ARIMA model 95% Upper CI\", \"opacity\": 0.3, \"type\": \"scatter\", \"uid\": \"3ae209a2-a0c4-4b61-93d8-44bd59a65b3e\", \"x\": [\"1992-01-01\", \"1993-01-01\", \"1994-01-01\", \"1995-01-01\", \"1996-01-01\", \"1997-01-01\", \"1998-01-01\", \"1999-01-01\", \"2000-01-01\", \"2001-01-01\", \"2002-01-01\", \"2003-01-01\", \"2004-01-01\", \"2005-01-01\", \"2006-01-01\", \"2007-01-01\", \"2008-01-01\", \"2009-01-01\", \"2010-01-01\", \"2011-01-01\", \"2012-01-01\", \"2013-01-01\", \"2014-01-01\", \"2015-01-01\", \"2016-01-01\", \"2017-01-01\", \"2018-01-01\", \"2019-01-01\", \"2020-01-01\", \"2021-01-01\", \"2022-01-01\", \"2023-01-01\", \"2024-01-01\", \"2025-01-01\", \"2026-01-01\", \"2027-01-01\", \"2028-01-01\", \"2029-01-01\", \"2030-01-01\"], \"y\": [1302.508820455551, 1282.851788399536, 1312.3405935327207, 1313.4333676059398, 1392.3934751643103, 1455.8706163988643, 1467.3188582624798, 1484.0753098293887, 1525.6397539436439, 1592.0848556338074, 1650.7620684619199, 1675.4283552024403, 1704.9521998968567, 1840.170599529328, 1949.5361792322344, 2063.3163814665336, 2174.449128585069, 2232.57264293794, 2268.996849643345, 2420.3933432824047, 2533.5086842303267, 2648.289363571267, 2725.748998945804, 2820.6014893663655, 2842.739085978671, 2911.377452602041, 3046.5199567424806, 3200.7247361266086, 3342.860185109754, 3456.014669489613, 3561.5072842891045, 3673.049735997558, 3810.8149058368476, 3967.971299432257, 4135.350828880766, 4293.472580764677, 4440.53693305044, 4579.323459974935, 4724.196803963443]}, {\"marker\": {\"color\": \"red\", \"size\": 10}, \"mode\": \"markers\", \"name\": \"ARIMA model mean projected values\", \"opacity\": 0.3, \"type\": \"scatter\", \"uid\": \"7231911f-1e4d-4065-b84c-e90445d0a624\", \"x\": [\"2018-01-01\", \"2019-01-01\", \"2020-01-01\", \"2021-01-01\", \"2022-01-01\", \"2023-01-01\", \"2024-01-01\", \"2025-01-01\", \"2026-01-01\", \"2027-01-01\", \"2028-01-01\", \"2029-01-01\", \"2030-01-01\"], \"y\": [3005.295520655912, 3117.147977209248, 3217.2100887660117, 3294.759764295118, 3366.25680538575, 3441.157991288346, 3533.1599224719084, 3635.1545307775464, 3740.312414934346, 3835.024090075804, 3919.732823009364, 3997.4142450304885, 4079.3760011658383]}],\n",
       "                        {\"legend\": {\"x\": 0.1, \"y\": 1}, \"title\": {\"text\": \"In-sample prediction and out-of-sample forecasting 95% CI - GDPpc PPP US$ SSA\"}, \"xaxis\": {\"nticks\": 43, \"ticks\": \"\"}, \"yaxis\": {\"nticks\": 20}},\n",
       "                        {\"showLink\": false, \"linkText\": \"Export to plot.ly\", \"plotlyServerURL\": \"https://plot.ly\", \"responsive\": true}\n",
       "                    ).then(function(){\n",
       "                            \n",
       "var gd = document.getElementById('e19d6f6b-6b84-40d2-a1a4-1a0d0004caf2');\n",
       "var x = new MutationObserver(function (mutations, observer) {{\n",
       "        var display = window.getComputedStyle(gd).display;\n",
       "        if (!display || display === 'none') {{\n",
       "            console.log([gd, 'removed!']);\n",
       "            Plotly.purge(gd);\n",
       "            observer.disconnect();\n",
       "        }}\n",
       "}});\n",
       "\n",
       "// Listen for the removal of the full notebook cells\n",
       "var notebookContainer = gd.closest('#notebook-container');\n",
       "if (notebookContainer) {{\n",
       "    x.observe(notebookContainer, {childList: true});\n",
       "}}\n",
       "\n",
       "// Listen for the clearing of the current output cell\n",
       "var outputEl = gd.closest('.output');\n",
       "if (outputEl) {{\n",
       "    x.observe(outputEl, {childList: true});\n",
       "}}\n",
       "\n",
       "                        })\n",
       "                };\n",
       "                });\n",
       "            </script>\n",
       "        </div>"
      ]
     },
     "metadata": {},
     "output_type": "display_data"
    }
   ],
   "source": [
    "# Create traces\n",
    "trace0 = go.Scatter(\n",
    "    x = ts.index,\n",
    "    y = ts['GDP per capita'],\n",
    "    mode = 'markers',\n",
    "    name = 'Actual GDP PPP',marker = dict(size=7))\n",
    "\n",
    "\n",
    "trace2 =go.Scatter(x=prediction_summary.iloc[2:].index, y=prediction_summary.iloc[2:].mean_ci_lower.values, name='ARIMA model 95% Lower CI', mode = 'lines',\n",
    "                   marker = dict(size=10, color='red'),opacity = 0.3)\n",
    "\n",
    "trace3 =go.Scatter(x=prediction_summary.iloc[2:].index, y=prediction_summary.iloc[2:].mean_ci_upper.values,name='ARIMA model 95% Upper CI', mode = 'lines',\n",
    "                   marker = dict(size=10, color='red'),opacity = 0.3)\n",
    "\n",
    "trace4 =go.Scatter(x=prediction_summary.iloc[28:].index, y=prediction_summary.iloc[28:]['mean'].values,name='ARIMA model mean projected values', mode = 'markers',\n",
    "                   marker = dict(size=10, color='red'),opacity = 0.3)\n",
    "\n",
    "layout = go.Layout(title= 'In-sample prediction and out-of-sample forecasting 95% CI - GDPpc PPP US$ SSA',\n",
    "    xaxis = dict(ticks='', nticks=43),\n",
    "    yaxis = dict(nticks=20), legend=dict(x=0.1, y=1))\n",
    "data = [trace0,trace2,trace3,trace4]\n",
    "fig =go.Figure(data=data, layout=layout)\n",
    "iplot(fig, filename='scatter-mode')"
   ]
  },
  {
   "cell_type": "markdown",
   "metadata": {},
   "source": [
    "We see that our in sample performance shows very strong alignment, and apart from the start of the series, our relative error is within the range of 95% confidence interval, which is relatively strong. Our ARIMA (3,2,3) model predicts that **without any underlying economic structural change**; at the current growth patterns, the GDP per capita in SSA will only surpass the 4.000 US dollars barrier by 2030.\n",
    "\n",
    "We have to account that the forecasting results of this model are only predicted values, accounting for the underlying structure of the Time Series over the last 24 years."
   ]
  },
  {
   "cell_type": "markdown",
   "metadata": {},
   "source": [
    "### 5) Times series comparison with the world average"
   ]
  },
  {
   "cell_type": "markdown",
   "metadata": {},
   "source": [
    "**5.1 Data Preparation**"
   ]
  },
  {
   "cell_type": "code",
   "execution_count": 32,
   "metadata": {
    "_kg_hide-input": true
   },
   "outputs": [],
   "source": [
    "df3=pd.read_csv('../input/WDIData.csv')\n",
    "df3=df3[df3['Country Name']=='World']\n",
    "df3['Indicator Name']=df3['Indicator Name'].str.replace('(',':').str.replace(')',':')\n",
    "df3=df3[df3['Indicator Name'].str.contains(\"GDP per capita, PPP :current international\")==True]\n",
    "df3.index=df3['Country Name']\n",
    "df3=df3.dropna(axis=1)\n",
    "df3.drop(['Country Name','Country Code','Indicator Name','Indicator Code'], axis=1, inplace=True)\n",
    "ts2=df3 ; ts2=ts2.T\n",
    "ts2.index = pd.to_datetime(ts2.index)\n",
    "ts2.columns=['GDP per capita']\n",
    "ts2['world_percentatge']=ts['GDP per capita']/ts2['GDP per capita']"
   ]
  },
  {
   "cell_type": "markdown",
   "metadata": {},
   "source": [
    "**5.2 World Time series identification & exploratory analisys**"
   ]
  },
  {
   "cell_type": "code",
   "execution_count": 33,
   "metadata": {
    "_kg_hide-input": true
   },
   "outputs": [
    {
     "data": {
      "application/vnd.plotly.v1+json": {
       "config": {
        "linkText": "Export to plot.ly",
        "plotlyServerURL": "https://plot.ly",
        "showLink": false
       },
       "data": [
        {
         "marker": {
          "color": "green",
          "size": 12
         },
         "name": "World GDP per capita PPP TS 1990-2017",
         "type": "scatter",
         "uid": "e1faab0b-afff-437c-8522-f6c338dc061c",
         "x": [
          "1990-01-01",
          "1991-01-01",
          "1992-01-01",
          "1993-01-01",
          "1994-01-01",
          "1995-01-01",
          "1996-01-01",
          "1997-01-01",
          "1998-01-01",
          "1999-01-01",
          "2000-01-01",
          "2001-01-01",
          "2002-01-01",
          "2003-01-01",
          "2004-01-01",
          "2005-01-01",
          "2006-01-01",
          "2007-01-01",
          "2008-01-01",
          "2009-01-01",
          "2010-01-01",
          "2011-01-01",
          "2012-01-01",
          "2013-01-01",
          "2014-01-01",
          "2015-01-01",
          "2016-01-01",
          "2017-01-01",
          "2018-01-01"
         ],
         "y": [
          5494.05396059476,
          5676.67189648896,
          5843.82645805824,
          6034.3452586271105,
          6269.0669318072105,
          6525.27650792953,
          6812.0045129153505,
          7101.487436950459,
          7274.110189666309,
          7532.38749986312,
          7983.223844101501,
          8256.70790114978,
          8549.78914323027,
          8914.92893031107,
          9516.57792018493,
          10130.4030505294,
          10955.4559431853,
          11718.6524393125,
          12257.153441459699,
          12229.5368164218,
          12871.5431079358,
          13584.8610873628,
          14144.580622993,
          14755.2398899321,
          15333.0215610634,
          15802.7049442747,
          16343.4911299938,
          17136.6371983104,
          17971.0716631839
         ]
        }
       ],
       "layout": {
        "legend": {
         "x": 0.1,
         "y": 1
        },
        "title": {
         "text": "World & SSA GDP per capita PPP constant $ 1990-2017"
        },
        "xaxis": {
         "nticks": 43,
         "ticks": ""
        },
        "yaxis": {
         "nticks": 20
        }
       }
      },
      "text/html": [
       "<div>\n",
       "        \n",
       "        \n",
       "            <div id=\"a042f9a7-0c90-4768-b493-1193888d103b\" class=\"plotly-graph-div\" style=\"height:525px; width:100%;\"></div>\n",
       "            <script type=\"text/javascript\">\n",
       "                require([\"plotly\"], function(Plotly) {\n",
       "                    window.PLOTLYENV=window.PLOTLYENV || {};\n",
       "                    window.PLOTLYENV.BASE_URL='https://plot.ly';\n",
       "                    \n",
       "                if (document.getElementById(\"a042f9a7-0c90-4768-b493-1193888d103b\")) {\n",
       "                    Plotly.newPlot(\n",
       "                        'a042f9a7-0c90-4768-b493-1193888d103b',\n",
       "                        [{\"marker\": {\"color\": \"green\", \"size\": 12}, \"name\": \"World GDP per capita PPP TS 1990-2017\", \"type\": \"scatter\", \"uid\": \"e1faab0b-afff-437c-8522-f6c338dc061c\", \"x\": [\"1990-01-01\", \"1991-01-01\", \"1992-01-01\", \"1993-01-01\", \"1994-01-01\", \"1995-01-01\", \"1996-01-01\", \"1997-01-01\", \"1998-01-01\", \"1999-01-01\", \"2000-01-01\", \"2001-01-01\", \"2002-01-01\", \"2003-01-01\", \"2004-01-01\", \"2005-01-01\", \"2006-01-01\", \"2007-01-01\", \"2008-01-01\", \"2009-01-01\", \"2010-01-01\", \"2011-01-01\", \"2012-01-01\", \"2013-01-01\", \"2014-01-01\", \"2015-01-01\", \"2016-01-01\", \"2017-01-01\", \"2018-01-01\"], \"y\": [5494.05396059476, 5676.67189648896, 5843.82645805824, 6034.3452586271105, 6269.0669318072105, 6525.27650792953, 6812.0045129153505, 7101.487436950459, 7274.110189666309, 7532.38749986312, 7983.223844101501, 8256.70790114978, 8549.78914323027, 8914.92893031107, 9516.57792018493, 10130.4030505294, 10955.4559431853, 11718.6524393125, 12257.153441459699, 12229.5368164218, 12871.5431079358, 13584.8610873628, 14144.580622993, 14755.2398899321, 15333.0215610634, 15802.7049442747, 16343.4911299938, 17136.6371983104, 17971.0716631839]}],\n",
       "                        {\"legend\": {\"x\": 0.1, \"y\": 1}, \"title\": {\"text\": \"World & SSA GDP per capita PPP constant $ 1990-2017\"}, \"xaxis\": {\"nticks\": 43, \"ticks\": \"\"}, \"yaxis\": {\"nticks\": 20}},\n",
       "                        {\"showLink\": false, \"linkText\": \"Export to plot.ly\", \"plotlyServerURL\": \"https://plot.ly\", \"responsive\": true}\n",
       "                    ).then(function(){\n",
       "                            \n",
       "var gd = document.getElementById('a042f9a7-0c90-4768-b493-1193888d103b');\n",
       "var x = new MutationObserver(function (mutations, observer) {{\n",
       "        var display = window.getComputedStyle(gd).display;\n",
       "        if (!display || display === 'none') {{\n",
       "            console.log([gd, 'removed!']);\n",
       "            Plotly.purge(gd);\n",
       "            observer.disconnect();\n",
       "        }}\n",
       "}});\n",
       "\n",
       "// Listen for the removal of the full notebook cells\n",
       "var notebookContainer = gd.closest('#notebook-container');\n",
       "if (notebookContainer) {{\n",
       "    x.observe(notebookContainer, {childList: true});\n",
       "}}\n",
       "\n",
       "// Listen for the clearing of the current output cell\n",
       "var outputEl = gd.closest('.output');\n",
       "if (outputEl) {{\n",
       "    x.observe(outputEl, {childList: true});\n",
       "}}\n",
       "\n",
       "                        })\n",
       "                };\n",
       "                });\n",
       "            </script>\n",
       "        </div>"
      ]
     },
     "metadata": {},
     "output_type": "display_data"
    }
   ],
   "source": [
    "layout = go.Layout(title= 'World & SSA GDP per capita PPP constant $ 1990-2017',\n",
    "xaxis = dict(ticks='', nticks=43),\n",
    "yaxis = dict(nticks=20), legend=dict(x=0.1, y=1))\n",
    "trace0 =go.Scatter(x=ts2.index, y=ts2['GDP per capita'],\n",
    "                   name='World GDP per capita PPP TS 1990-2017', marker = dict(size=12, color='green'))\n",
    "trace1 =go.Scatter(x=ts.index,y=ts['GDP per capita'],\n",
    "                   name='SSA GDP per capita PPP TS 1990-2017',marker = dict(size=12, color='blue'))\n",
    "data = [trace0]\n",
    "fig =go.Figure(data=data, layout=layout)\n",
    "iplot(fig, filename='heatmap',show_link=False)"
   ]
  },
  {
   "cell_type": "markdown",
   "metadata": {},
   "source": [
    "Altought both series are stationary,while  the World GDP per capita shows a much more exponential growth pattern, SSA follows a more constant additive growth pattern."
   ]
  },
  {
   "cell_type": "markdown",
   "metadata": {},
   "source": [
    "**5.3 Growth distribution of both TS**"
   ]
  },
  {
   "cell_type": "code",
   "execution_count": 34,
   "metadata": {
    "_kg_hide-input": true
   },
   "outputs": [
    {
     "data": {
      "application/vnd.plotly.v1+json": {
       "config": {
        "linkText": "Export to plot.ly",
        "plotlyServerURL": "https://plot.ly",
        "showLink": false
       },
       "data": [
        {
         "boxmean": "sd",
         "marker": {
          "color": "blue"
         },
         "name": "SSA GDPpc growth TS",
         "type": "box",
         "uid": "494ae68d-bc79-4101-a542-f7df41f74398",
         "y": [
          0.0,
          0.02259341993545516,
          0.003382733195170573,
          0.011727357340684197,
          0.006593072874517603,
          0.04047154408832587,
          0.046377277830214725,
          0.030843824438316902,
          0.015925675428207775,
          0.01997038632438275,
          0.029757058986769502,
          0.036630692543475396,
          0.025536561855030726,
          0.023050313335509776,
          0.05496080532937575,
          0.060655638617425955,
          0.06246405861284332,
          0.05583765352193848,
          0.036574840782338525,
          0.02029863182160363,
          0.044955776669149294,
          0.04786671349532856,
          0.053354403614888746,
          0.04061947114705111,
          0.03901081116078364,
          0.01707046245937227,
          0.02046297733739233,
          0.03227425491655156
         ]
        },
        {
         "boxmean": "sd",
         "marker": {
          "color": "green"
         },
         "name": "World GDPpc growth TS",
         "type": "box",
         "uid": "0faccb5c-04c7-4907-9f3e-f81458721188",
         "y": [
          0.0,
          0.033239195902333485,
          0.029445873324591032,
          0.03260172113875104,
          0.03889762072273317,
          0.04086885319765776,
          0.04394112719014864,
          0.04249599710133145,
          0.024307971287488295,
          0.03550637857585959,
          0.059853047157567785,
          0.03425734545203163,
          0.03549613787835182,
          0.04270746108047807,
          0.06748780552004519,
          0.0645006151888412,
          0.08144324451264384,
          0.06966359958774127,
          0.04595246807906794,
          -0.0022531026612171434,
          0.05249637015294928,
          0.05541821780383205,
          0.04120171211399981,
          0.0431726668478547,
          0.03915772806415285,
          0.030632147834710688,
          0.03422111515883408,
          0.048529782407444655,
          0.04869301107429469
         ]
        }
       ],
       "layout": {}
      },
      "text/html": [
       "<div>\n",
       "        \n",
       "        \n",
       "            <div id=\"930e6a4b-c679-49b2-9f8e-23f8113e5660\" class=\"plotly-graph-div\" style=\"height:525px; width:100%;\"></div>\n",
       "            <script type=\"text/javascript\">\n",
       "                require([\"plotly\"], function(Plotly) {\n",
       "                    window.PLOTLYENV=window.PLOTLYENV || {};\n",
       "                    window.PLOTLYENV.BASE_URL='https://plot.ly';\n",
       "                    \n",
       "                if (document.getElementById(\"930e6a4b-c679-49b2-9f8e-23f8113e5660\")) {\n",
       "                    Plotly.newPlot(\n",
       "                        '930e6a4b-c679-49b2-9f8e-23f8113e5660',\n",
       "                        [{\"boxmean\": \"sd\", \"marker\": {\"color\": \"blue\"}, \"name\": \"SSA GDPpc growth TS\", \"type\": \"box\", \"uid\": \"494ae68d-bc79-4101-a542-f7df41f74398\", \"y\": [0.0, 0.02259341993545516, 0.003382733195170573, 0.011727357340684197, 0.006593072874517603, 0.04047154408832587, 0.046377277830214725, 0.030843824438316902, 0.015925675428207775, 0.01997038632438275, 0.029757058986769502, 0.036630692543475396, 0.025536561855030726, 0.023050313335509776, 0.05496080532937575, 0.060655638617425955, 0.06246405861284332, 0.05583765352193848, 0.036574840782338525, 0.02029863182160363, 0.044955776669149294, 0.04786671349532856, 0.053354403614888746, 0.04061947114705111, 0.03901081116078364, 0.01707046245937227, 0.02046297733739233, 0.03227425491655156]}, {\"boxmean\": \"sd\", \"marker\": {\"color\": \"green\"}, \"name\": \"World GDPpc growth TS\", \"type\": \"box\", \"uid\": \"0faccb5c-04c7-4907-9f3e-f81458721188\", \"y\": [0.0, 0.033239195902333485, 0.029445873324591032, 0.03260172113875104, 0.03889762072273317, 0.04086885319765776, 0.04394112719014864, 0.04249599710133145, 0.024307971287488295, 0.03550637857585959, 0.059853047157567785, 0.03425734545203163, 0.03549613787835182, 0.04270746108047807, 0.06748780552004519, 0.0645006151888412, 0.08144324451264384, 0.06966359958774127, 0.04595246807906794, -0.0022531026612171434, 0.05249637015294928, 0.05541821780383205, 0.04120171211399981, 0.0431726668478547, 0.03915772806415285, 0.030632147834710688, 0.03422111515883408, 0.048529782407444655, 0.04869301107429469]}],\n",
       "                        {},\n",
       "                        {\"showLink\": false, \"linkText\": \"Export to plot.ly\", \"plotlyServerURL\": \"https://plot.ly\", \"responsive\": true}\n",
       "                    ).then(function(){\n",
       "                            \n",
       "var gd = document.getElementById('930e6a4b-c679-49b2-9f8e-23f8113e5660');\n",
       "var x = new MutationObserver(function (mutations, observer) {{\n",
       "        var display = window.getComputedStyle(gd).display;\n",
       "        if (!display || display === 'none') {{\n",
       "            console.log([gd, 'removed!']);\n",
       "            Plotly.purge(gd);\n",
       "            observer.disconnect();\n",
       "        }}\n",
       "}});\n",
       "\n",
       "// Listen for the removal of the full notebook cells\n",
       "var notebookContainer = gd.closest('#notebook-container');\n",
       "if (notebookContainer) {{\n",
       "    x.observe(notebookContainer, {childList: true});\n",
       "}}\n",
       "\n",
       "// Listen for the clearing of the current output cell\n",
       "var outputEl = gd.closest('.output');\n",
       "if (outputEl) {{\n",
       "    x.observe(outputEl, {childList: true});\n",
       "}}\n",
       "\n",
       "                        })\n",
       "                };\n",
       "                });\n",
       "            </script>\n",
       "        </div>"
      ]
     },
     "metadata": {},
     "output_type": "display_data"
    }
   ],
   "source": [
    "trace1 = go.Box(\n",
    "    y=ts['GDP per capita'].pct_change().fillna(0),\n",
    "    name='SSA GDPpc growth TS',\n",
    "    marker=dict(\n",
    "        color='blue'),boxmean='sd')\n",
    "\n",
    "trace2 = go.Box(\n",
    "    y=ts2['GDP per capita'].pct_change().fillna(0),\n",
    "    name='World GDPpc growth TS',\n",
    "    marker=dict(\n",
    "        color='green'),boxmean='sd')\n",
    "data = [trace1,trace2]\n",
    "fig =go.Figure(data=data, layout=layout)\n",
    "iplot(data)"
   ]
  },
  {
   "cell_type": "markdown",
   "metadata": {},
   "source": [
    "With a median value of 4%, the world TS accumulates higher % growth. Standard deviation is very similar in both series."
   ]
  },
  {
   "cell_type": "code",
   "execution_count": 35,
   "metadata": {
    "_kg_hide-input": true
   },
   "outputs": [],
   "source": [
    "SSA_growth=ts['GDP per capita'].pct_change().fillna(0)\n",
    "World_growth=ts2['GDP per capita'].pct_change().fillna(0)"
   ]
  },
  {
   "cell_type": "code",
   "execution_count": 36,
   "metadata": {
    "_kg_hide-input": true
   },
   "outputs": [
    {
     "data": {
      "application/vnd.plotly.v1+json": {
       "config": {
        "linkText": "Export to plot.ly",
        "plotlyServerURL": "https://plot.ly",
        "showLink": false
       },
       "data": [
        {
         "marker": {
          "color": "blue",
          "size": 12
         },
         "mode": "markers+lines",
         "name": "SSA GDP per capita PPP anual growth",
         "type": "scatter",
         "uid": "c5ba3531-6797-4cbc-ba29-54fe4fb25f39",
         "x": [
          "1990-01-01",
          "1991-01-01",
          "1992-01-01",
          "1993-01-01",
          "1994-01-01",
          "1995-01-01",
          "1996-01-01",
          "1997-01-01",
          "1998-01-01",
          "1999-01-01",
          "2000-01-01",
          "2001-01-01",
          "2002-01-01",
          "2003-01-01",
          "2004-01-01",
          "2005-01-01",
          "2006-01-01",
          "2007-01-01",
          "2008-01-01",
          "2009-01-01",
          "2010-01-01",
          "2011-01-01",
          "2012-01-01",
          "2013-01-01",
          "2014-01-01",
          "2015-01-01",
          "2016-01-01",
          "2017-01-01"
         ],
         "y": [
          0.0,
          2.259341993545516,
          0.3382733195170573,
          1.1727357340684197,
          0.6593072874517603,
          4.047154408832587,
          4.6377277830214725,
          3.0843824438316902,
          1.5925675428207775,
          1.997038632438275,
          2.9757058986769502,
          3.6630692543475396,
          2.5536561855030726,
          2.3050313335509776,
          5.496080532937575,
          6.0655638617425955,
          6.246405861284332,
          5.583765352193848,
          3.6574840782338525,
          2.029863182160363,
          4.495577666914929,
          4.786671349532856,
          5.335440361488875,
          4.061947114705111,
          3.9010811160783643,
          1.707046245937227,
          2.046297733739233,
          3.227425491655156
         ]
        },
        {
         "marker": {
          "color": "green",
          "size": 12
         },
         "mode": "markers+lines",
         "name": "World GDP per capita PPP anual growth",
         "type": "scatter",
         "uid": "6e5340b5-2de2-452e-b056-4bee4c43e219",
         "x": [
          "1990-01-01",
          "1991-01-01",
          "1992-01-01",
          "1993-01-01",
          "1994-01-01",
          "1995-01-01",
          "1996-01-01",
          "1997-01-01",
          "1998-01-01",
          "1999-01-01",
          "2000-01-01",
          "2001-01-01",
          "2002-01-01",
          "2003-01-01",
          "2004-01-01",
          "2005-01-01",
          "2006-01-01",
          "2007-01-01",
          "2008-01-01",
          "2009-01-01",
          "2010-01-01",
          "2011-01-01",
          "2012-01-01",
          "2013-01-01",
          "2014-01-01",
          "2015-01-01",
          "2016-01-01",
          "2017-01-01",
          "2018-01-01"
         ],
         "y": [
          0.0,
          3.3239195902333485,
          2.944587332459103,
          3.260172113875104,
          3.8897620722733173,
          4.086885319765776,
          4.394112719014864,
          4.249599710133145,
          2.4307971287488295,
          3.5506378575859587,
          5.9853047157567785,
          3.425734545203163,
          3.549613787835182,
          4.270746108047807,
          6.7487805520045185,
          6.45006151888412,
          8.144324451264385,
          6.9663599587741265,
          4.595246807906794,
          -0.22531026612171434,
          5.249637015294928,
          5.541821780383205,
          4.120171211399981,
          4.31726668478547,
          3.9157728064152852,
          3.063214783471069,
          3.422111515883408,
          4.8529782407444655,
          4.869301107429469
         ]
        }
       ],
       "layout": {
        "legend": {
         "x": 0.1,
         "y": 1
        },
        "title": {
         "text": "SSA vs World GDP per capita PPP growth % 1990-2017"
        },
        "xaxis": {
         "nticks": 43,
         "ticks": ""
        },
        "yaxis": {
         "nticks": 20
        }
       }
      },
      "text/html": [
       "<div>\n",
       "        \n",
       "        \n",
       "            <div id=\"aa15a607-3b16-4b21-97b5-2448fd6e03c5\" class=\"plotly-graph-div\" style=\"height:525px; width:100%;\"></div>\n",
       "            <script type=\"text/javascript\">\n",
       "                require([\"plotly\"], function(Plotly) {\n",
       "                    window.PLOTLYENV=window.PLOTLYENV || {};\n",
       "                    window.PLOTLYENV.BASE_URL='https://plot.ly';\n",
       "                    \n",
       "                if (document.getElementById(\"aa15a607-3b16-4b21-97b5-2448fd6e03c5\")) {\n",
       "                    Plotly.newPlot(\n",
       "                        'aa15a607-3b16-4b21-97b5-2448fd6e03c5',\n",
       "                        [{\"marker\": {\"color\": \"blue\", \"size\": 12}, \"mode\": \"markers+lines\", \"name\": \"SSA GDP per capita PPP anual growth\", \"type\": \"scatter\", \"uid\": \"c5ba3531-6797-4cbc-ba29-54fe4fb25f39\", \"x\": [\"1990-01-01\", \"1991-01-01\", \"1992-01-01\", \"1993-01-01\", \"1994-01-01\", \"1995-01-01\", \"1996-01-01\", \"1997-01-01\", \"1998-01-01\", \"1999-01-01\", \"2000-01-01\", \"2001-01-01\", \"2002-01-01\", \"2003-01-01\", \"2004-01-01\", \"2005-01-01\", \"2006-01-01\", \"2007-01-01\", \"2008-01-01\", \"2009-01-01\", \"2010-01-01\", \"2011-01-01\", \"2012-01-01\", \"2013-01-01\", \"2014-01-01\", \"2015-01-01\", \"2016-01-01\", \"2017-01-01\"], \"y\": [0.0, 2.259341993545516, 0.3382733195170573, 1.1727357340684197, 0.6593072874517603, 4.047154408832587, 4.6377277830214725, 3.0843824438316902, 1.5925675428207775, 1.997038632438275, 2.9757058986769502, 3.6630692543475396, 2.5536561855030726, 2.3050313335509776, 5.496080532937575, 6.0655638617425955, 6.246405861284332, 5.583765352193848, 3.6574840782338525, 2.029863182160363, 4.495577666914929, 4.786671349532856, 5.335440361488875, 4.061947114705111, 3.9010811160783643, 1.707046245937227, 2.046297733739233, 3.227425491655156]}, {\"marker\": {\"color\": \"green\", \"size\": 12}, \"mode\": \"markers+lines\", \"name\": \"World GDP per capita PPP anual growth\", \"type\": \"scatter\", \"uid\": \"6e5340b5-2de2-452e-b056-4bee4c43e219\", \"x\": [\"1990-01-01\", \"1991-01-01\", \"1992-01-01\", \"1993-01-01\", \"1994-01-01\", \"1995-01-01\", \"1996-01-01\", \"1997-01-01\", \"1998-01-01\", \"1999-01-01\", \"2000-01-01\", \"2001-01-01\", \"2002-01-01\", \"2003-01-01\", \"2004-01-01\", \"2005-01-01\", \"2006-01-01\", \"2007-01-01\", \"2008-01-01\", \"2009-01-01\", \"2010-01-01\", \"2011-01-01\", \"2012-01-01\", \"2013-01-01\", \"2014-01-01\", \"2015-01-01\", \"2016-01-01\", \"2017-01-01\", \"2018-01-01\"], \"y\": [0.0, 3.3239195902333485, 2.944587332459103, 3.260172113875104, 3.8897620722733173, 4.086885319765776, 4.394112719014864, 4.249599710133145, 2.4307971287488295, 3.5506378575859587, 5.9853047157567785, 3.425734545203163, 3.549613787835182, 4.270746108047807, 6.7487805520045185, 6.45006151888412, 8.144324451264385, 6.9663599587741265, 4.595246807906794, -0.22531026612171434, 5.249637015294928, 5.541821780383205, 4.120171211399981, 4.31726668478547, 3.9157728064152852, 3.063214783471069, 3.422111515883408, 4.8529782407444655, 4.869301107429469]}],\n",
       "                        {\"legend\": {\"x\": 0.1, \"y\": 1}, \"title\": {\"text\": \"SSA vs World GDP per capita PPP growth % 1990-2017\"}, \"xaxis\": {\"nticks\": 43, \"ticks\": \"\"}, \"yaxis\": {\"nticks\": 20}},\n",
       "                        {\"showLink\": false, \"linkText\": \"Export to plot.ly\", \"plotlyServerURL\": \"https://plot.ly\", \"responsive\": true}\n",
       "                    ).then(function(){\n",
       "                            \n",
       "var gd = document.getElementById('aa15a607-3b16-4b21-97b5-2448fd6e03c5');\n",
       "var x = new MutationObserver(function (mutations, observer) {{\n",
       "        var display = window.getComputedStyle(gd).display;\n",
       "        if (!display || display === 'none') {{\n",
       "            console.log([gd, 'removed!']);\n",
       "            Plotly.purge(gd);\n",
       "            observer.disconnect();\n",
       "        }}\n",
       "}});\n",
       "\n",
       "// Listen for the removal of the full notebook cells\n",
       "var notebookContainer = gd.closest('#notebook-container');\n",
       "if (notebookContainer) {{\n",
       "    x.observe(notebookContainer, {childList: true});\n",
       "}}\n",
       "\n",
       "// Listen for the clearing of the current output cell\n",
       "var outputEl = gd.closest('.output');\n",
       "if (outputEl) {{\n",
       "    x.observe(outputEl, {childList: true});\n",
       "}}\n",
       "\n",
       "                        })\n",
       "                };\n",
       "                });\n",
       "            </script>\n",
       "        </div>"
      ]
     },
     "metadata": {},
     "output_type": "display_data"
    }
   ],
   "source": [
    "layout = go.Layout(title= 'SSA vs World GDP per capita PPP growth % 1990-2017',\n",
    "    xaxis = dict(ticks='', nticks=43), yaxis = dict(nticks=20),legend=dict(x=0.1, y=1))\n",
    "\n",
    "trace0 =go.Scatter(x=ts.index, y=SSA_growth*100, name='SSA GDP per capita PPP anual growth', mode = 'markers+lines',\n",
    "                   marker = dict(size=12, color='blue'))\n",
    "\n",
    "trace1 =go.Scatter(x=ts2.index, y=World_growth*100,name='World GDP per capita PPP anual growth', mode = 'markers+lines',\n",
    "                   marker = dict(size=12, color='green'))\n",
    "data = [trace0, trace1]\n",
    "fig =go.Figure(data=data, layout=layout)\n",
    "iplot(fig, filename='heatmap',show_link=False)"
   ]
  },
  {
   "cell_type": "markdown",
   "metadata": {},
   "source": [
    "The world GDP per capita presents higher growth in almost all years of the time series, except 1996, 2009 with the effects of the great depression and 2014."
   ]
  },
  {
   "cell_type": "markdown",
   "metadata": {},
   "source": [
    "**5.4 SSA total GDPpc PPP as a % of the World average 1990-2017**"
   ]
  },
  {
   "cell_type": "code",
   "execution_count": 37,
   "metadata": {
    "_kg_hide-input": true
   },
   "outputs": [
    {
     "data": {
      "application/vnd.plotly.v1+json": {
       "config": {
        "linkText": "Export to plot.ly",
        "plotlyServerURL": "https://plot.ly",
        "showLink": false
       },
       "data": [
        {
         "marker": {
          "color": "coral",
          "size": 12
         },
         "mode": "markers+lines",
         "type": "scatter",
         "uid": "f34ea04c-0cfc-443c-ab78-3330a2933006",
         "x": [
          "1990-01-01",
          "1991-01-01",
          "1992-01-01",
          "1993-01-01",
          "1994-01-01",
          "1995-01-01",
          "1996-01-01",
          "1997-01-01",
          "1998-01-01",
          "1999-01-01",
          "2000-01-01",
          "2001-01-01",
          "2002-01-01",
          "2003-01-01",
          "2004-01-01",
          "2005-01-01",
          "2006-01-01",
          "2007-01-01",
          "2008-01-01",
          "2009-01-01",
          "2010-01-01",
          "2011-01-01",
          "2012-01-01",
          "2013-01-01",
          "2014-01-01",
          "2015-01-01",
          "2016-01-01",
          "2017-01-01",
          "2018-01-01"
         ],
         "y": [
          0.2179385939372497,
          0.2156931066824169,
          0.21023226623409022,
          0.20598235582078697,
          0.1995773292457221,
          0.19950114876373162,
          0.19996670648398626,
          0.1977316412201536,
          0.19611352912505278,
          0.19317118291460555,
          0.18768582090944,
          0.1881165102336391,
          0.1863071739972408,
          0.1827949063844088,
          0.18064980288506216,
          0.17999729573775475,
          0.17683836700561611,
          0.17455264117038474,
          0.17298766602809953,
          0.17689764753089737,
          0.17563026715211544,
          0.17437363476058576,
          0.17640888783833147,
          0.17597712191086198,
          0.17595224213263705,
          0.17363695538954307,
          0.1713270807136833,
          0.16867096915900598,
          null
         ]
        }
       ],
       "layout": {
        "title": {
         "text": "SSA GDP per capita PPP annual ratio with the world average 1990-2017"
        },
        "xaxis": {
         "nticks": 43,
         "ticks": ""
        },
        "yaxis": {
         "nticks": 20
        }
       }
      },
      "text/html": [
       "<div>\n",
       "        \n",
       "        \n",
       "            <div id=\"ec35bcb4-7577-49b7-828e-59abf77f4944\" class=\"plotly-graph-div\" style=\"height:525px; width:100%;\"></div>\n",
       "            <script type=\"text/javascript\">\n",
       "                require([\"plotly\"], function(Plotly) {\n",
       "                    window.PLOTLYENV=window.PLOTLYENV || {};\n",
       "                    window.PLOTLYENV.BASE_URL='https://plot.ly';\n",
       "                    \n",
       "                if (document.getElementById(\"ec35bcb4-7577-49b7-828e-59abf77f4944\")) {\n",
       "                    Plotly.newPlot(\n",
       "                        'ec35bcb4-7577-49b7-828e-59abf77f4944',\n",
       "                        [{\"marker\": {\"color\": \"coral\", \"size\": 12}, \"mode\": \"markers+lines\", \"type\": \"scatter\", \"uid\": \"f34ea04c-0cfc-443c-ab78-3330a2933006\", \"x\": [\"1990-01-01\", \"1991-01-01\", \"1992-01-01\", \"1993-01-01\", \"1994-01-01\", \"1995-01-01\", \"1996-01-01\", \"1997-01-01\", \"1998-01-01\", \"1999-01-01\", \"2000-01-01\", \"2001-01-01\", \"2002-01-01\", \"2003-01-01\", \"2004-01-01\", \"2005-01-01\", \"2006-01-01\", \"2007-01-01\", \"2008-01-01\", \"2009-01-01\", \"2010-01-01\", \"2011-01-01\", \"2012-01-01\", \"2013-01-01\", \"2014-01-01\", \"2015-01-01\", \"2016-01-01\", \"2017-01-01\", \"2018-01-01\"], \"y\": [0.2179385939372497, 0.2156931066824169, 0.21023226623409022, 0.20598235582078697, 0.1995773292457221, 0.19950114876373162, 0.19996670648398626, 0.1977316412201536, 0.19611352912505278, 0.19317118291460555, 0.18768582090944, 0.1881165102336391, 0.1863071739972408, 0.1827949063844088, 0.18064980288506216, 0.17999729573775475, 0.17683836700561611, 0.17455264117038474, 0.17298766602809953, 0.17689764753089737, 0.17563026715211544, 0.17437363476058576, 0.17640888783833147, 0.17597712191086198, 0.17595224213263705, 0.17363695538954307, 0.1713270807136833, 0.16867096915900598, null]}],\n",
       "                        {\"title\": {\"text\": \"SSA GDP per capita PPP annual ratio with the world average 1990-2017\"}, \"xaxis\": {\"nticks\": 43, \"ticks\": \"\"}, \"yaxis\": {\"nticks\": 20}},\n",
       "                        {\"showLink\": false, \"linkText\": \"Export to plot.ly\", \"plotlyServerURL\": \"https://plot.ly\", \"responsive\": true}\n",
       "                    ).then(function(){\n",
       "                            \n",
       "var gd = document.getElementById('ec35bcb4-7577-49b7-828e-59abf77f4944');\n",
       "var x = new MutationObserver(function (mutations, observer) {{\n",
       "        var display = window.getComputedStyle(gd).display;\n",
       "        if (!display || display === 'none') {{\n",
       "            console.log([gd, 'removed!']);\n",
       "            Plotly.purge(gd);\n",
       "            observer.disconnect();\n",
       "        }}\n",
       "}});\n",
       "\n",
       "// Listen for the removal of the full notebook cells\n",
       "var notebookContainer = gd.closest('#notebook-container');\n",
       "if (notebookContainer) {{\n",
       "    x.observe(notebookContainer, {childList: true});\n",
       "}}\n",
       "\n",
       "// Listen for the clearing of the current output cell\n",
       "var outputEl = gd.closest('.output');\n",
       "if (outputEl) {{\n",
       "    x.observe(outputEl, {childList: true});\n",
       "}}\n",
       "\n",
       "                        })\n",
       "                };\n",
       "                });\n",
       "            </script>\n",
       "        </div>"
      ]
     },
     "metadata": {},
     "output_type": "display_data"
    }
   ],
   "source": [
    "ts2['world_percentatge']=ts/ts2\n",
    "layout = go.Layout(title= 'SSA GDP per capita PPP annual ratio with the world average 1990-2017',\n",
    "    xaxis = dict(ticks='', nticks=43),\n",
    "    yaxis = dict(nticks=20))\n",
    "trace0 =go.Scatter(x=ts2.index, y=ts2['world_percentatge'],\n",
    "                   mode = 'markers+lines',marker = dict(size=12, color='coral'))\n",
    "data = [trace0]\n",
    "fig =go.Figure(data=data, layout=layout)\n",
    "iplot(fig, filename='heatmap',show_link=False)"
   ]
  },
  {
   "cell_type": "markdown",
   "metadata": {},
   "source": [
    "- We can see how since 1990 there has been a growing divergence of the SSA GDP per capita PPP and the world average. \n",
    "\n",
    "\n",
    "- While in 1990 SSA GDP per capita was around 20% of the world average, in 2017 it only represented around 15%. In these 24 years SSA Africa has diverged 5 points from the world average."
   ]
  },
  {
   "cell_type": "markdown",
   "metadata": {},
   "source": [
    "** 5.5 Arima modeling World GDP per capita PPP **"
   ]
  },
  {
   "cell_type": "code",
   "execution_count": 38,
   "metadata": {
    "_kg_hide-input": true
   },
   "outputs": [],
   "source": [
    "ts2.index = pd.to_datetime(ts2.index)"
   ]
  },
  {
   "cell_type": "code",
   "execution_count": 39,
   "metadata": {
    "_kg_hide-input": true
   },
   "outputs": [
    {
     "data": {
      "image/png": "[encoded data removed]",
      "text/plain": [
       "<Figure size 864x576 with 1 Axes>"
      ]
     },
     "metadata": {
      "needs_background": "light"
     },
     "output_type": "display_data"
    },
    {
     "name": "stdout",
     "output_type": "stream",
     "text": [
      "Results of Dickey-Fuller Test:\n",
      "Test Statistic                 -4.390898\n",
      "p-value                         0.000308\n",
      "#Lags Used                      4.000000\n",
      "Number of Observations Used    24.000000\n",
      "Critical Value (1%)            -3.737709\n",
      "Critical Value (5%)            -2.992216\n",
      "Critical Value (10%)           -2.635747\n",
      "dtype: float64\n"
     ]
    }
   ],
   "source": [
    "# log difference time series\n",
    "ts2_diff2 = ((ts2['GDP per capita']).diff().diff().fillna(0))\n",
    "ts2_diff2 = pd.Series(ts2_diff2)\n",
    "test_stationarity(ts2_diff2)"
   ]
  },
  {
   "cell_type": "code",
   "execution_count": 40,
   "metadata": {
    "_kg_hide-input": true
   },
   "outputs": [
    {
     "data": {
      "image/png": "[encoded data removed]",
      "text/plain": [
       "<Figure size 1080x360 with 1 Axes>"
      ]
     },
     "metadata": {
      "needs_background": "light"
     },
     "output_type": "display_data"
    }
   ],
   "source": [
    "fig, ax = plt.subplots(figsize=(15,5))\n",
    "ax.set_facecolor('silver')\n",
    "sm.graphics.tsa.plot_acf(ts2_diff2,ax=ax, lags=25)\n",
    "plt.show()"
   ]
  },
  {
   "cell_type": "markdown",
   "metadata": {},
   "source": [
    "**ARIMA (0,2,2) world model**\n",
    "\n",
    "AIC different ARIMA models with pm.auto_arima (not usable in Kaggle) :\n",
    "\n",
    "    Fit ARIMA: order=(1, 2, 1); AIC=nan, BIC=nan, Fit time=nan seconds\n",
    "    Fit ARIMA: order=(0, 2, 0); AIC=367.759, BIC=370.351, Fit time=0.016 seconds\n",
    "    Fit ARIMA: order=(1, 2, 0); AIC=368.733, BIC=372.620, Fit time=0.031 seconds\n",
    "    Fit ARIMA: order=(0, 2, 1); AIC=361.559, BIC=365.447, Fit time=0.016 seconds\n",
    "    Fit ARIMA: order=(0, 2, 2); AIC=360.588, BIC=365.771, Fit time=0.187 seconds\n",
    "    Fit ARIMA: order=(1, 2, 3); AIC=nan, BIC=nan, Fit time=nan seconds\n",
    "    Fit ARIMA: order=(1, 2, 2); AIC=nan, BIC=nan, Fit time=nan seconds\n",
    "    Fit ARIMA: order=(0, 2, 3); AIC=nan, BIC=nan, Fit time=nan seconds\n",
    "\n",
    "We choose the ARIMA (0,2,2) as the best fit to model the world GDP per capita time-series. "
   ]
  },
  {
   "cell_type": "markdown",
   "metadata": {},
   "source": [
    "**5.6 Diagnostic plots for standardized residuals**"
   ]
  },
  {
   "cell_type": "code",
   "execution_count": 41,
   "metadata": {
    "_kg_hide-input": true
   },
   "outputs": [
    {
     "name": "stdout",
     "output_type": "stream",
     "text": [
      "                           Statespace Model Results                           \n",
      "==============================================================================\n",
      "Dep. Variable:         GDP per capita   No. Observations:                   29\n",
      "Model:               SARIMAX(0, 2, 2)   Log Likelihood                -179.083\n",
      "Date:                Wed, 17 Jul 2019   AIC                            364.167\n",
      "Time:                        12:58:12   BIC                            368.054\n",
      "Sample:                    01-01-1990   HQIC                           365.323\n",
      "                         - 01-01-2018                                         \n",
      "Covariance Type:                  opg                                         \n",
      "==============================================================================\n",
      "                 coef    std err          z      P>|z|      [0.025      0.975]\n",
      "------------------------------------------------------------------------------\n",
      "ma.L1         -0.3746      0.176     -2.128      0.033      -0.720      -0.030\n",
      "ma.L2         -0.2957      0.135     -2.193      0.028      -0.560      -0.031\n",
      "sigma2      3.317e+04   7761.812      4.274      0.000     1.8e+04    4.84e+04\n",
      "===================================================================================\n",
      "Ljung-Box (Q):                         nan   Jarque-Bera (JB):                20.49\n",
      "Prob(Q):                               nan   Prob(JB):                         0.00\n",
      "Heteroskedasticity (H):               5.29   Skew:                            -0.93\n",
      "Prob(H) (two-sided):                  0.02   Kurtosis:                         6.84\n",
      "===================================================================================\n",
      "\n",
      "Warnings:\n",
      "[1] Covariance matrix calculated using the outer product of gradients (complex-step).\n"
     ]
    }
   ],
   "source": [
    "mod = sm.tsa.statespace.SARIMAX((ts2['GDP per capita']), order=(0,2,2),\n",
    "                                enforce_stationarity=True, enforce_invertibility=True,)\n",
    "results2 = mod.fit()\n",
    "print(results2.summary())"
   ]
  },
  {
   "cell_type": "code",
   "execution_count": 42,
   "metadata": {
    "_kg_hide-input": true
   },
   "outputs": [
    {
     "data": {
      "image/png": "[encoded data removed]",
      "text/plain": [
       "<Figure size 1080x864 with 4 Axes>"
      ]
     },
     "metadata": {
      "needs_background": "light"
     },
     "output_type": "display_data"
    }
   ],
   "source": [
    "results2.plot_diagnostics(figsize=(15, 12),lags=20)\n",
    "plt.show()"
   ]
  },
  {
   "cell_type": "markdown",
   "metadata": {},
   "source": [
    "- The (0, 2, 2) ARIMA model fitted is adequate since the standardized residuals show a white gaussian noise pattern and fluctuate around 0.\n",
    "\n",
    "- 2009, (the year that the great depression struck the hardest), represents a huge outlier, however, even if it doesn't bring any underlying information behaviour to the model, we cannot omit this year to simplify the modeling procedure (stationary & discrete white noise residuals) because with such small sample, the predictive accuracy of the model would be compromised. Altought we have not been able to extract information about this \"unusual component\" the predictive value of the model remains intact. \n",
    "\n",
    "- We can get to the same conclusions as with the SSA time series and we conclude that the residuals follow and aproximates Gaussian White Noise trend. At 20 lags the correlogram doesn't show any significant peak higher than 5% significance level. Hence we can state that the the correlogram is discrete white noise."
   ]
  },
  {
   "cell_type": "code",
   "execution_count": 43,
   "metadata": {
    "_kg_hide-input": true
   },
   "outputs": [],
   "source": [
    "prediction_summary2=results2.get_prediction(start=0, end=40).summary_frame()\n",
    "prediction_summary2.index=['1990-01-01', '1991-01-01','1992-01-01','1993-01-01', '1994-01-01', '1995-01-01',\n",
    "               '1996-01-01', '1997-01-01', '1998-01-01', '1999-01-01',\n",
    "               '2000-01-01', '2001-01-01', '2002-01-01', '2003-01-01',\n",
    "               '2004-01-01', '2005-01-01', '2006-01-01', '2007-01-01',\n",
    "               '2008-01-01', '2009-01-01', '2010-01-01', '2011-01-01',\n",
    "               '2012-01-01', '2013-01-01', '2014-01-01', '2015-01-01',\n",
    "               '2016-01-01', '2017-01-01', '2018-01-01', '2019-01-01',\n",
    "               '2020-01-01', '2021-01-01', '2022-01-01', '2023-01-01',\n",
    "               '2024-01-01', '2025-01-01', '2026-01-01', '2027-01-01',\n",
    "               '2028-01-01', '2029-01-01', '2030-01-01']"
   ]
  },
  {
   "cell_type": "markdown",
   "metadata": {},
   "source": [
    "**5.7 In sample prediction and out of sample forecast**"
   ]
  },
  {
   "cell_type": "code",
   "execution_count": 44,
   "metadata": {
    "_kg_hide-input": true
   },
   "outputs": [
    {
     "data": {
      "application/vnd.plotly.v1+json": {
       "config": {
        "linkText": "Export to plot.ly",
        "plotlyServerURL": "https://plot.ly",
        "showLink": false
       },
       "data": [
        {
         "marker": {
          "size": 7
         },
         "mode": "markers",
         "name": "SSA Actual GDP PPP",
         "type": "scatter",
         "uid": "3e28bdb7-a8ea-4089-b340-be8c9b61af2a",
         "x": [
          "1990-01-01",
          "1991-01-01",
          "1992-01-01",
          "1993-01-01",
          "1994-01-01",
          "1995-01-01",
          "1996-01-01",
          "1997-01-01",
          "1998-01-01",
          "1999-01-01",
          "2000-01-01",
          "2001-01-01",
          "2002-01-01",
          "2003-01-01",
          "2004-01-01",
          "2005-01-01",
          "2006-01-01",
          "2007-01-01",
          "2008-01-01",
          "2009-01-01",
          "2010-01-01",
          "2011-01-01",
          "2012-01-01",
          "2013-01-01",
          "2014-01-01",
          "2015-01-01",
          "2016-01-01",
          "2017-01-01"
         ],
         "y": [
          1197.3663951873998,
          1224.418996970471,
          1228.5608797563204,
          1242.9686522080083,
          1251.1636351127565,
          1301.8001593329325,
          1362.1741070017338,
          1404.1887660125162,
          1426.551420539967,
          1455.0402035197471,
          1498.3379206840054,
          1553.2230763828115,
          1592.8870535475223,
          1629.6035992398697,
          1719.1679254217422,
          1823.4451538287933,
          1937.3449387948601,
          2045.5217342397686,
          2120.3363659864012,
          2163.3762932175164,
          2260.632554706735,
          2368.841605521095,
          2495.229736641809,
          2596.584648934595,
          2697.879522337172,
          2743.933573443138,
          2800.082623971815,
          2890.453204365288
         ]
        },
        {
         "marker": {
          "size": 7
         },
         "mode": "lines",
         "name": "SSA Arima model (5,2,0) prediction",
         "opacity": 0.5,
         "type": "scatter",
         "uid": "b7e3c2b7-5149-4704-a2eb-f69db9704f7e",
         "x": [
          "1992",
          "1993",
          "1994",
          "1995",
          "1996",
          "1997",
          "1998",
          "1999",
          "2000",
          "2001",
          "2002",
          "2003",
          "2004",
          "2005",
          "2006",
          "2007",
          "2008",
          "2009",
          "2010",
          "2011",
          "2012",
          "2013",
          "2014",
          "2015",
          "2016",
          "2017",
          "2018",
          "2019",
          "2020",
          "2021",
          "2022",
          "2023",
          "2024",
          "2025",
          "2026",
          "2027",
          "2028",
          "2029",
          "2030"
         ],
         "y": [
          1251.434942893415,
          1231.8324137412937,
          1262.03431577135,
          1268.4800491213082,
          1349.0032279485101,
          1413.8081168840629,
          1425.2603365584725,
          1442.0388099789195,
          1484.0061760019087,
          1550.613225405481,
          1609.4192638177512,
          1634.0856080870963,
          1663.6170227601492,
          1798.8919979547625,
          1908.280431462181,
          2022.0742961347303,
          2133.207223311478,
          2191.3328697933666,
          2227.765431499253,
          2379.1651267590937,
          2492.281850205564,
          2607.0626254734098,
          2684.5227524820457,
          2779.376464526048,
          2801.5144909238506,
          2870.1529854571795,
          3005.295520655912,
          3117.147977209248,
          3217.2100887660117,
          3294.759764295118,
          3366.25680538575,
          3441.157991288346,
          3533.1599224719084,
          3635.1545307775464,
          3740.312414934346,
          3835.024090075804,
          3919.732823009364,
          3997.4142450304885,
          4079.3760011658383
         ]
        },
        {
         "marker": {
          "size": 7
         },
         "mode": "markers",
         "name": "World Actual GDP PPP",
         "type": "scatter",
         "uid": "4cf03ccf-e3a2-4239-93f5-1f287ceefd2b",
         "x": [
          "1990-01-01",
          "1991-01-01",
          "1992-01-01",
          "1993-01-01",
          "1994-01-01",
          "1995-01-01",
          "1996-01-01",
          "1997-01-01",
          "1998-01-01",
          "1999-01-01",
          "2000-01-01",
          "2001-01-01",
          "2002-01-01",
          "2003-01-01",
          "2004-01-01",
          "2005-01-01",
          "2006-01-01",
          "2007-01-01",
          "2008-01-01",
          "2009-01-01",
          "2010-01-01",
          "2011-01-01",
          "2012-01-01",
          "2013-01-01",
          "2014-01-01",
          "2015-01-01",
          "2016-01-01",
          "2017-01-01",
          "2018-01-01"
         ],
         "y": [
          5494.05396059476,
          5676.67189648896,
          5843.82645805824,
          6034.3452586271105,
          6269.0669318072105,
          6525.27650792953,
          6812.0045129153505,
          7101.487436950459,
          7274.110189666309,
          7532.38749986312,
          7983.223844101501,
          8256.70790114978,
          8549.78914323027,
          8914.92893031107,
          9516.57792018493,
          10130.4030505294,
          10955.4559431853,
          11718.6524393125,
          12257.153441459699,
          12229.5368164218,
          12871.5431079358,
          13584.8610873628,
          14144.580622993,
          14755.2398899321,
          15333.0215610634,
          15802.7049442747,
          16343.4911299938,
          17136.6371983104,
          17971.0716631839
         ]
        },
        {
         "marker": {
          "size": 7
         },
         "mode": "lines",
         "name": "World Arima model (0,2,1) prediction",
         "opacity": 0.5,
         "type": "scatter",
         "uid": "d5f827f5-50b4-4155-8b75-20af1f0c58c5",
         "x": [
          "1992-01-01",
          "1993-01-01",
          "1994-01-01",
          "1995-01-01",
          "1996-01-01",
          "1997-01-01",
          "1998-01-01",
          "1999-01-01",
          "2000-01-01",
          "2001-01-01",
          "2002-01-01",
          "2003-01-01",
          "2004-01-01",
          "2005-01-01",
          "2006-01-01",
          "2007-01-01",
          "2008-01-01",
          "2009-01-01",
          "2010-01-01",
          "2011-01-01",
          "2012-01-01",
          "2013-01-01",
          "2014-01-01",
          "2015-01-01",
          "2016-01-01",
          "2017-01-01",
          "2018-01-01",
          "2019-01-01",
          "2020-01-01",
          "2021-01-01",
          "2022-01-01",
          "2023-01-01",
          "2024-01-01",
          "2025-01-01",
          "2026-01-01",
          "2027-01-01",
          "2028-01-01",
          "2029-01-01",
          "2030-01-01"
         ],
         "y": [
          5898.0076975517,
          6070.04423521162,
          6248.172839172008,
          6506.034265794508,
          6768.98773903058,
          7077.799932614351,
          7369.838101031167,
          7475.1819067383185,
          7797.525288434471,
          8347.960707759363,
          8509.491902465465,
          8854.749008194354,
          9245.635640675098,
          9998.988205828196,
          10614.903946267103,
          11614.09280420166,
          12341.976189487123,
          12796.508548769205,
          12439.400268600979,
          13519.333547698536,
          14145.83050612755,
          14685.389418359917,
          15340.101046224128,
          15892.797879873875,
          16308.233185318726,
          16897.71278930442,
          17829.848671715285,
          18681.940840541476,
          19351.044791552697,
          20020.148742563917,
          20689.252693575138,
          21358.356644586358,
          22027.46059559758,
          22696.5645466088,
          23365.66849762002,
          24034.77244863124,
          24703.87639964246,
          25372.98035065368,
          26042.0843016649
         ]
        }
       ],
       "layout": {
        "legend": {
         "x": 0.1,
         "y": 1
        },
        "title": {
         "text": "In-sample prediction and out-of-sample projection to 2030 (GDPpc PPP US$) SSA & WA"
        },
        "xaxis": {
         "nticks": 43,
         "ticks": ""
        },
        "yaxis": {
         "nticks": 20
        }
       }
      },
      "text/html": [
       "<div>\n",
       "        \n",
       "        \n",
       "            <div id=\"ffa01af0-be1e-45bb-92f1-432d243eb841\" class=\"plotly-graph-div\" style=\"height:525px; width:100%;\"></div>\n",
       "            <script type=\"text/javascript\">\n",
       "                require([\"plotly\"], function(Plotly) {\n",
       "                    window.PLOTLYENV=window.PLOTLYENV || {};\n",
       "                    window.PLOTLYENV.BASE_URL='https://plot.ly';\n",
       "                    \n",
       "                if (document.getElementById(\"ffa01af0-be1e-45bb-92f1-432d243eb841\")) {\n",
       "                    Plotly.newPlot(\n",
       "                        'ffa01af0-be1e-45bb-92f1-432d243eb841',\n",
       "                        [{\"marker\": {\"size\": 7}, \"mode\": \"markers\", \"name\": \"SSA Actual GDP PPP\", \"type\": \"scatter\", \"uid\": \"3e28bdb7-a8ea-4089-b340-be8c9b61af2a\", \"x\": [\"1990-01-01\", \"1991-01-01\", \"1992-01-01\", \"1993-01-01\", \"1994-01-01\", \"1995-01-01\", \"1996-01-01\", \"1997-01-01\", \"1998-01-01\", \"1999-01-01\", \"2000-01-01\", \"2001-01-01\", \"2002-01-01\", \"2003-01-01\", \"2004-01-01\", \"2005-01-01\", \"2006-01-01\", \"2007-01-01\", \"2008-01-01\", \"2009-01-01\", \"2010-01-01\", \"2011-01-01\", \"2012-01-01\", \"2013-01-01\", \"2014-01-01\", \"2015-01-01\", \"2016-01-01\", \"2017-01-01\"], \"y\": [1197.3663951873998, 1224.418996970471, 1228.5608797563204, 1242.9686522080083, 1251.1636351127565, 1301.8001593329325, 1362.1741070017338, 1404.1887660125162, 1426.551420539967, 1455.0402035197471, 1498.3379206840054, 1553.2230763828115, 1592.8870535475223, 1629.6035992398697, 1719.1679254217422, 1823.4451538287933, 1937.3449387948601, 2045.5217342397686, 2120.3363659864012, 2163.3762932175164, 2260.632554706735, 2368.841605521095, 2495.229736641809, 2596.584648934595, 2697.879522337172, 2743.933573443138, 2800.082623971815, 2890.453204365288]}, {\"marker\": {\"size\": 7}, \"mode\": \"lines\", \"name\": \"SSA Arima model (5,2,0) prediction\", \"opacity\": 0.5, \"type\": \"scatter\", \"uid\": \"b7e3c2b7-5149-4704-a2eb-f69db9704f7e\", \"x\": [\"1992\", \"1993\", \"1994\", \"1995\", \"1996\", \"1997\", \"1998\", \"1999\", \"2000\", \"2001\", \"2002\", \"2003\", \"2004\", \"2005\", \"2006\", \"2007\", \"2008\", \"2009\", \"2010\", \"2011\", \"2012\", \"2013\", \"2014\", \"2015\", \"2016\", \"2017\", \"2018\", \"2019\", \"2020\", \"2021\", \"2022\", \"2023\", \"2024\", \"2025\", \"2026\", \"2027\", \"2028\", \"2029\", \"2030\"], \"y\": [1251.434942893415, 1231.8324137412937, 1262.03431577135, 1268.4800491213082, 1349.0032279485101, 1413.8081168840629, 1425.2603365584725, 1442.0388099789195, 1484.0061760019087, 1550.613225405481, 1609.4192638177512, 1634.0856080870963, 1663.6170227601492, 1798.8919979547625, 1908.280431462181, 2022.0742961347303, 2133.207223311478, 2191.3328697933666, 2227.765431499253, 2379.1651267590937, 2492.281850205564, 2607.0626254734098, 2684.5227524820457, 2779.376464526048, 2801.5144909238506, 2870.1529854571795, 3005.295520655912, 3117.147977209248, 3217.2100887660117, 3294.759764295118, 3366.25680538575, 3441.157991288346, 3533.1599224719084, 3635.1545307775464, 3740.312414934346, 3835.024090075804, 3919.732823009364, 3997.4142450304885, 4079.3760011658383]}, {\"marker\": {\"size\": 7}, \"mode\": \"markers\", \"name\": \"World Actual GDP PPP\", \"type\": \"scatter\", \"uid\": \"4cf03ccf-e3a2-4239-93f5-1f287ceefd2b\", \"x\": [\"1990-01-01\", \"1991-01-01\", \"1992-01-01\", \"1993-01-01\", \"1994-01-01\", \"1995-01-01\", \"1996-01-01\", \"1997-01-01\", \"1998-01-01\", \"1999-01-01\", \"2000-01-01\", \"2001-01-01\", \"2002-01-01\", \"2003-01-01\", \"2004-01-01\", \"2005-01-01\", \"2006-01-01\", \"2007-01-01\", \"2008-01-01\", \"2009-01-01\", \"2010-01-01\", \"2011-01-01\", \"2012-01-01\", \"2013-01-01\", \"2014-01-01\", \"2015-01-01\", \"2016-01-01\", \"2017-01-01\", \"2018-01-01\"], \"y\": [5494.05396059476, 5676.67189648896, 5843.82645805824, 6034.3452586271105, 6269.0669318072105, 6525.27650792953, 6812.0045129153505, 7101.487436950459, 7274.110189666309, 7532.38749986312, 7983.223844101501, 8256.70790114978, 8549.78914323027, 8914.92893031107, 9516.57792018493, 10130.4030505294, 10955.4559431853, 11718.6524393125, 12257.153441459699, 12229.5368164218, 12871.5431079358, 13584.8610873628, 14144.580622993, 14755.2398899321, 15333.0215610634, 15802.7049442747, 16343.4911299938, 17136.6371983104, 17971.0716631839]}, {\"marker\": {\"size\": 7}, \"mode\": \"lines\", \"name\": \"World Arima model (0,2,1) prediction\", \"opacity\": 0.5, \"type\": \"scatter\", \"uid\": \"d5f827f5-50b4-4155-8b75-20af1f0c58c5\", \"x\": [\"1992-01-01\", \"1993-01-01\", \"1994-01-01\", \"1995-01-01\", \"1996-01-01\", \"1997-01-01\", \"1998-01-01\", \"1999-01-01\", \"2000-01-01\", \"2001-01-01\", \"2002-01-01\", \"2003-01-01\", \"2004-01-01\", \"2005-01-01\", \"2006-01-01\", \"2007-01-01\", \"2008-01-01\", \"2009-01-01\", \"2010-01-01\", \"2011-01-01\", \"2012-01-01\", \"2013-01-01\", \"2014-01-01\", \"2015-01-01\", \"2016-01-01\", \"2017-01-01\", \"2018-01-01\", \"2019-01-01\", \"2020-01-01\", \"2021-01-01\", \"2022-01-01\", \"2023-01-01\", \"2024-01-01\", \"2025-01-01\", \"2026-01-01\", \"2027-01-01\", \"2028-01-01\", \"2029-01-01\", \"2030-01-01\"], \"y\": [5898.0076975517, 6070.04423521162, 6248.172839172008, 6506.034265794508, 6768.98773903058, 7077.799932614351, 7369.838101031167, 7475.1819067383185, 7797.525288434471, 8347.960707759363, 8509.491902465465, 8854.749008194354, 9245.635640675098, 9998.988205828196, 10614.903946267103, 11614.09280420166, 12341.976189487123, 12796.508548769205, 12439.400268600979, 13519.333547698536, 14145.83050612755, 14685.389418359917, 15340.101046224128, 15892.797879873875, 16308.233185318726, 16897.71278930442, 17829.848671715285, 18681.940840541476, 19351.044791552697, 20020.148742563917, 20689.252693575138, 21358.356644586358, 22027.46059559758, 22696.5645466088, 23365.66849762002, 24034.77244863124, 24703.87639964246, 25372.98035065368, 26042.0843016649]}],\n",
       "                        {\"legend\": {\"x\": 0.1, \"y\": 1}, \"title\": {\"text\": \"In-sample prediction and out-of-sample projection to 2030 (GDPpc PPP US$) SSA & WA\"}, \"xaxis\": {\"nticks\": 43, \"ticks\": \"\"}, \"yaxis\": {\"nticks\": 20}},\n",
       "                        {\"showLink\": false, \"linkText\": \"Export to plot.ly\", \"plotlyServerURL\": \"https://plot.ly\", \"responsive\": true}\n",
       "                    ).then(function(){\n",
       "                            \n",
       "var gd = document.getElementById('ffa01af0-be1e-45bb-92f1-432d243eb841');\n",
       "var x = new MutationObserver(function (mutations, observer) {{\n",
       "        var display = window.getComputedStyle(gd).display;\n",
       "        if (!display || display === 'none') {{\n",
       "            console.log([gd, 'removed!']);\n",
       "            Plotly.purge(gd);\n",
       "            observer.disconnect();\n",
       "        }}\n",
       "}});\n",
       "\n",
       "// Listen for the removal of the full notebook cells\n",
       "var notebookContainer = gd.closest('#notebook-container');\n",
       "if (notebookContainer) {{\n",
       "    x.observe(notebookContainer, {childList: true});\n",
       "}}\n",
       "\n",
       "// Listen for the clearing of the current output cell\n",
       "var outputEl = gd.closest('.output');\n",
       "if (outputEl) {{\n",
       "    x.observe(outputEl, {childList: true});\n",
       "}}\n",
       "\n",
       "                        })\n",
       "                };\n",
       "                });\n",
       "            </script>\n",
       "        </div>"
      ]
     },
     "metadata": {},
     "output_type": "display_data"
    }
   ],
   "source": [
    "forecast2=results2.predict(start=2,end=40)\n",
    "\n",
    "forecast1=results1.predict(start=0,end=40)\n",
    "\n",
    "# Create traces\n",
    "trace0 = go.Scatter(\n",
    "    x = ts.index,\n",
    "    y = ts['GDP per capita'],\n",
    "    mode = 'markers',\n",
    "    name = 'SSA Actual GDP PPP',marker = dict(size=7))\n",
    "\n",
    "trace1 = go.Scatter(\n",
    "    x = forecast.iloc[2:].index,\n",
    "    y = forecast.iloc[2:].projection,\n",
    "    mode = 'lines',\n",
    "    name = 'SSA Arima model (5,2,0) prediction',marker = dict(size=7),opacity = 0.5)\n",
    "\n",
    "# Create traces\n",
    "trace2 = go.Scatter(\n",
    "    x = ts2.index,\n",
    "    y = ts2['GDP per capita'],\n",
    "    mode = 'markers',\n",
    "    name = 'World Actual GDP PPP',marker = dict(size=7))\n",
    "\n",
    "\n",
    "trace3 = go.Scatter(\n",
    "    x = forecast2.index,\n",
    "    y = forecast2.values,\n",
    "    mode = 'lines',\n",
    "    name = 'World Arima model (0,2,1) prediction',marker = dict(size=7),opacity = 0.5)\n",
    "\n",
    "\n",
    "layout = go.Layout(title= 'In-sample prediction and out-of-sample projection to 2030 (GDPpc PPP US$) SSA & WA',\n",
    "    xaxis = dict(ticks='', nticks=43),\n",
    "    yaxis = dict(nticks=20), legend=dict(x=0.1, y=1))\n",
    "\n",
    "data = [trace0, trace1,trace2,trace3]\n",
    "fig =go.Figure(data=data, layout=layout)\n",
    "iplot(fig, filename='scatter-mode')"
   ]
  },
  {
   "cell_type": "code",
   "execution_count": 45,
   "metadata": {
    "_kg_hide-input": true
   },
   "outputs": [
    {
     "data": {
      "application/vnd.plotly.v1+json": {
       "config": {
        "linkText": "Export to plot.ly",
        "plotlyServerURL": "https://plot.ly",
        "showLink": false
       },
       "data": [
        {
         "marker": {
          "size": 7
         },
         "mode": "markers",
         "name": "Actual GDP PPP",
         "type": "scatter",
         "uid": "366a9e23-7571-4c00-8c63-3161784a8bd0",
         "x": [
          "1990-01-01",
          "1991-01-01",
          "1992-01-01",
          "1993-01-01",
          "1994-01-01",
          "1995-01-01",
          "1996-01-01",
          "1997-01-01",
          "1998-01-01",
          "1999-01-01",
          "2000-01-01",
          "2001-01-01",
          "2002-01-01",
          "2003-01-01",
          "2004-01-01",
          "2005-01-01",
          "2006-01-01",
          "2007-01-01",
          "2008-01-01",
          "2009-01-01",
          "2010-01-01",
          "2011-01-01",
          "2012-01-01",
          "2013-01-01",
          "2014-01-01",
          "2015-01-01",
          "2016-01-01",
          "2017-01-01"
         ],
         "y": [
          1197.3663951873998,
          1224.418996970471,
          1228.5608797563204,
          1242.9686522080083,
          1251.1636351127565,
          1301.8001593329325,
          1362.1741070017338,
          1404.1887660125162,
          1426.551420539967,
          1455.0402035197471,
          1498.3379206840054,
          1553.2230763828115,
          1592.8870535475223,
          1629.6035992398697,
          1719.1679254217422,
          1823.4451538287933,
          1937.3449387948601,
          2045.5217342397686,
          2120.3363659864012,
          2163.3762932175164,
          2260.632554706735,
          2368.841605521095,
          2495.229736641809,
          2596.584648934595,
          2697.879522337172,
          2743.933573443138,
          2800.082623971815,
          2890.453204365288
         ]
        },
        {
         "marker": {
          "color": "red",
          "size": 10
         },
         "mode": "lines",
         "name": "95% CI",
         "opacity": 0.3,
         "type": "scatter",
         "uid": "ac671850-9689-4a8a-8a64-d801573ef511",
         "x": [
          "1992-01-01",
          "1993-01-01",
          "1994-01-01",
          "1995-01-01",
          "1996-01-01",
          "1997-01-01",
          "1998-01-01",
          "1999-01-01",
          "2000-01-01",
          "2001-01-01",
          "2002-01-01",
          "2003-01-01",
          "2004-01-01",
          "2005-01-01",
          "2006-01-01",
          "2007-01-01",
          "2008-01-01",
          "2009-01-01",
          "2010-01-01",
          "2011-01-01",
          "2012-01-01",
          "2013-01-01",
          "2014-01-01",
          "2015-01-01",
          "2016-01-01",
          "2017-01-01",
          "2018-01-01",
          "2019-01-01",
          "2020-01-01",
          "2021-01-01",
          "2022-01-01",
          "2023-01-01",
          "2024-01-01",
          "2025-01-01",
          "2026-01-01",
          "2027-01-01",
          "2028-01-01",
          "2029-01-01",
          "2030-01-01"
         ],
         "y": [
          1200.361065331279,
          1180.8130390830515,
          1211.7280380099794,
          1223.5267306366766,
          1305.61298073271,
          1371.7456173692615,
          1383.2018148544653,
          1400.0023101284503,
          1442.3725980601735,
          1509.1415951771546,
          1568.0764591735826,
          1592.7428609717522,
          1622.2818456234418,
          1757.613396380197,
          1867.0246836921276,
          1980.832210802927,
          2091.9653180378873,
          2150.093096648793,
          2186.534013355161,
          2337.9369102357828,
          2451.055016180801,
          2565.8358873755524,
          2643.2965060182873,
          2738.1514396857306,
          2760.2898958690303,
          2828.928518312318,
          2964.071084569343,
          3033.5712182918874,
          3091.5599924222693,
          3133.5048591006234,
          3171.0063264823953,
          3209.2662465791336,
          3255.5049391069692,
          3302.3377621228356,
          3345.2740009879262,
          3376.5755993869307,
          3398.9287129682875,
          3415.505030086042,
          3434.555198368233
         ]
        },
        {
         "marker": {
          "color": "red",
          "size": 10
         },
         "mode": "lines",
         "name": "95% CI",
         "opacity": 0.3,
         "type": "scatter",
         "uid": "68f1e16e-878a-47a6-a1df-60c317beaae1",
         "x": [
          "1992-01-01",
          "1993-01-01",
          "1994-01-01",
          "1995-01-01",
          "1996-01-01",
          "1997-01-01",
          "1998-01-01",
          "1999-01-01",
          "2000-01-01",
          "2001-01-01",
          "2002-01-01",
          "2003-01-01",
          "2004-01-01",
          "2005-01-01",
          "2006-01-01",
          "2007-01-01",
          "2008-01-01",
          "2009-01-01",
          "2010-01-01",
          "2011-01-01",
          "2012-01-01",
          "2013-01-01",
          "2014-01-01",
          "2015-01-01",
          "2016-01-01",
          "2017-01-01",
          "2018-01-01",
          "2019-01-01",
          "2020-01-01",
          "2021-01-01",
          "2022-01-01",
          "2023-01-01",
          "2024-01-01",
          "2025-01-01",
          "2026-01-01",
          "2027-01-01",
          "2028-01-01",
          "2029-01-01",
          "2030-01-01"
         ],
         "y": [
          1302.508820455551,
          1282.851788399536,
          1312.3405935327207,
          1313.4333676059398,
          1392.3934751643103,
          1455.8706163988643,
          1467.3188582624798,
          1484.0753098293887,
          1525.6397539436439,
          1592.0848556338074,
          1650.7620684619199,
          1675.4283552024403,
          1704.9521998968567,
          1840.170599529328,
          1949.5361792322344,
          2063.3163814665336,
          2174.449128585069,
          2232.57264293794,
          2268.996849643345,
          2420.3933432824047,
          2533.5086842303267,
          2648.289363571267,
          2725.748998945804,
          2820.6014893663655,
          2842.739085978671,
          2911.377452602041,
          3046.5199567424806,
          3200.7247361266086,
          3342.860185109754,
          3456.014669489613,
          3561.5072842891045,
          3673.049735997558,
          3810.8149058368476,
          3967.971299432257,
          4135.350828880766,
          4293.472580764677,
          4440.53693305044,
          4579.323459974935,
          4724.196803963443
         ]
        },
        {
         "marker": {
          "color": "green",
          "size": 7
         },
         "mode": "markers",
         "name": "World Actual GDP PPP",
         "type": "scatter",
         "uid": "5895957e-7300-463e-9760-f74297ecf36d",
         "x": [
          "1990-01-01",
          "1991-01-01",
          "1992-01-01",
          "1993-01-01",
          "1994-01-01",
          "1995-01-01",
          "1996-01-01",
          "1997-01-01",
          "1998-01-01",
          "1999-01-01",
          "2000-01-01",
          "2001-01-01",
          "2002-01-01",
          "2003-01-01",
          "2004-01-01",
          "2005-01-01",
          "2006-01-01",
          "2007-01-01",
          "2008-01-01",
          "2009-01-01",
          "2010-01-01",
          "2011-01-01",
          "2012-01-01",
          "2013-01-01",
          "2014-01-01",
          "2015-01-01",
          "2016-01-01",
          "2017-01-01",
          "2018-01-01"
         ],
         "y": [
          5494.05396059476,
          5676.67189648896,
          5843.82645805824,
          6034.3452586271105,
          6269.0669318072105,
          6525.27650792953,
          6812.0045129153505,
          7101.487436950459,
          7274.110189666309,
          7532.38749986312,
          7983.223844101501,
          8256.70790114978,
          8549.78914323027,
          8914.92893031107,
          9516.57792018493,
          10130.4030505294,
          10955.4559431853,
          11718.6524393125,
          12257.153441459699,
          12229.5368164218,
          12871.5431079358,
          13584.8610873628,
          14144.580622993,
          14755.2398899321,
          15333.0215610634,
          15802.7049442747,
          16343.4911299938,
          17136.6371983104,
          17971.0716631839
         ]
        },
        {
         "marker": {
          "color": "red",
          "size": 10
         },
         "mode": "lines",
         "name": "95% CI",
         "opacity": 0.3,
         "type": "scatter",
         "uid": "5267949b-51ba-495b-945e-7ec89ca0d183",
         "x": [
          "1992-01-01",
          "1993-01-01",
          "1994-01-01",
          "1995-01-01",
          "1996-01-01",
          "1997-01-01",
          "1998-01-01",
          "1999-01-01",
          "2000-01-01",
          "2001-01-01",
          "2002-01-01",
          "2003-01-01",
          "2004-01-01",
          "2005-01-01",
          "2006-01-01",
          "2007-01-01",
          "2008-01-01",
          "2009-01-01",
          "2010-01-01",
          "2011-01-01",
          "2012-01-01",
          "2013-01-01",
          "2014-01-01",
          "2015-01-01",
          "2016-01-01",
          "2017-01-01",
          "2018-01-01",
          "2019-01-01",
          "2020-01-01",
          "2021-01-01",
          "2022-01-01",
          "2023-01-01",
          "2024-01-01",
          "2025-01-01",
          "2026-01-01",
          "2027-01-01",
          "2028-01-01",
          "2029-01-01",
          "2030-01-01"
         ],
         "y": [
          5504.333172556124,
          5685.233718895039,
          5880.236760612759,
          6142.208245232788,
          6408.404783568657,
          6718.6894233882185,
          7011.650059522315,
          7117.494471288151,
          7440.134001276832,
          7990.738323503245,
          8152.368087937664,
          8497.682191802254,
          8888.601986432584,
          9641.973801860304,
          10257.900735331687,
          11257.096097833444,
          11984.983264787952,
          12439.517822394131,
          12082.410820291954,
          13162.344842411941,
          13788.842232822699,
          14328.401396200978,
          14983.113170078019,
          15535.810088617547,
          15951.245443416246,
          16540.72507609564,
          17472.860975188672,
          18324.95315371367,
          18669.783718270504,
          19044.854008300346,
          19417.88154411626,
          19781.218135151055,
          20132.245953802012,
          20470.02070777121,
          20794.28024488501,
          21105.07047341567,
          21402.582607340326,
          21687.07563812689,
          21958.837176057932
         ]
        },
        {
         "marker": {
          "color": "red",
          "size": 10
         },
         "mode": "lines",
         "name": "95% CI",
         "opacity": 0.3,
         "type": "scatter",
         "uid": "2a541e2c-0cc2-4739-b40c-984a2b8862ef",
         "x": [
          "1992-01-01",
          "1993-01-01",
          "1994-01-01",
          "1995-01-01",
          "1996-01-01",
          "1997-01-01",
          "1998-01-01",
          "1999-01-01",
          "2000-01-01",
          "2001-01-01",
          "2002-01-01",
          "2003-01-01",
          "2004-01-01",
          "2005-01-01",
          "2006-01-01",
          "2007-01-01",
          "2008-01-01",
          "2009-01-01",
          "2010-01-01",
          "2011-01-01",
          "2012-01-01",
          "2013-01-01",
          "2014-01-01",
          "2015-01-01",
          "2016-01-01",
          "2017-01-01",
          "2018-01-01",
          "2019-01-01",
          "2020-01-01",
          "2021-01-01",
          "2022-01-01",
          "2023-01-01",
          "2024-01-01",
          "2025-01-01",
          "2026-01-01",
          "2027-01-01",
          "2028-01-01",
          "2029-01-01",
          "2030-01-01"
         ],
         "y": [
          6291.682222547277,
          6454.854751528201,
          6616.108917731257,
          6869.860286356229,
          7129.570694492503,
          7436.910441840483,
          7728.026142540019,
          7832.869342188486,
          8154.916575592109,
          8705.18309201548,
          8866.615716993265,
          9211.815824586454,
          9602.669294917612,
          10356.002609796089,
          10971.907157202519,
          11971.089510569876,
          12698.969114186293,
          13153.499275144279,
          12796.389716910004,
          13876.32225298513,
          14502.8187794324,
          15042.377440518856,
          15697.088922370238,
          16249.785671130203,
          16665.220927221206,
          17254.7005025132,
          18186.836368241897,
          19038.92852736928,
          20032.30586483489,
          20995.443476827488,
          21960.623843034016,
          22935.49515402166,
          23922.675237393145,
          24923.108385446387,
          25937.05675035503,
          26964.47442384681,
          28005.170191944595,
          29058.88506318047,
          30125.33142727187
         ]
        }
       ],
       "layout": {
        "legend": {
         "x": 0.1,
         "y": 1
        },
        "title": {
         "text": "In-sample prediction and out-of-sample projection to 2030 95% CI (GDPpc PPP US$) SSA & WA"
        },
        "xaxis": {
         "nticks": 43,
         "ticks": ""
        },
        "yaxis": {
         "nticks": 20
        }
       }
      },
      "text/html": [
       "<div>\n",
       "        \n",
       "        \n",
       "            <div id=\"e6dd3fbe-9f75-47f0-84ff-0c156f99f215\" class=\"plotly-graph-div\" style=\"height:525px; width:100%;\"></div>\n",
       "            <script type=\"text/javascript\">\n",
       "                require([\"plotly\"], function(Plotly) {\n",
       "                    window.PLOTLYENV=window.PLOTLYENV || {};\n",
       "                    window.PLOTLYENV.BASE_URL='https://plot.ly';\n",
       "                    \n",
       "                if (document.getElementById(\"e6dd3fbe-9f75-47f0-84ff-0c156f99f215\")) {\n",
       "                    Plotly.newPlot(\n",
       "                        'e6dd3fbe-9f75-47f0-84ff-0c156f99f215',\n",
       "                        [{\"marker\": {\"size\": 7}, \"mode\": \"markers\", \"name\": \"Actual GDP PPP\", \"type\": \"scatter\", \"uid\": \"366a9e23-7571-4c00-8c63-3161784a8bd0\", \"x\": [\"1990-01-01\", \"1991-01-01\", \"1992-01-01\", \"1993-01-01\", \"1994-01-01\", \"1995-01-01\", \"1996-01-01\", \"1997-01-01\", \"1998-01-01\", \"1999-01-01\", \"2000-01-01\", \"2001-01-01\", \"2002-01-01\", \"2003-01-01\", \"2004-01-01\", \"2005-01-01\", \"2006-01-01\", \"2007-01-01\", \"2008-01-01\", \"2009-01-01\", \"2010-01-01\", \"2011-01-01\", \"2012-01-01\", \"2013-01-01\", \"2014-01-01\", \"2015-01-01\", \"2016-01-01\", \"2017-01-01\"], \"y\": [1197.3663951873998, 1224.418996970471, 1228.5608797563204, 1242.9686522080083, 1251.1636351127565, 1301.8001593329325, 1362.1741070017338, 1404.1887660125162, 1426.551420539967, 1455.0402035197471, 1498.3379206840054, 1553.2230763828115, 1592.8870535475223, 1629.6035992398697, 1719.1679254217422, 1823.4451538287933, 1937.3449387948601, 2045.5217342397686, 2120.3363659864012, 2163.3762932175164, 2260.632554706735, 2368.841605521095, 2495.229736641809, 2596.584648934595, 2697.879522337172, 2743.933573443138, 2800.082623971815, 2890.453204365288]}, {\"marker\": {\"color\": \"red\", \"size\": 10}, \"mode\": \"lines\", \"name\": \"95% CI\", \"opacity\": 0.3, \"type\": \"scatter\", \"uid\": \"ac671850-9689-4a8a-8a64-d801573ef511\", \"x\": [\"1992-01-01\", \"1993-01-01\", \"1994-01-01\", \"1995-01-01\", \"1996-01-01\", \"1997-01-01\", \"1998-01-01\", \"1999-01-01\", \"2000-01-01\", \"2001-01-01\", \"2002-01-01\", \"2003-01-01\", \"2004-01-01\", \"2005-01-01\", \"2006-01-01\", \"2007-01-01\", \"2008-01-01\", \"2009-01-01\", \"2010-01-01\", \"2011-01-01\", \"2012-01-01\", \"2013-01-01\", \"2014-01-01\", \"2015-01-01\", \"2016-01-01\", \"2017-01-01\", \"2018-01-01\", \"2019-01-01\", \"2020-01-01\", \"2021-01-01\", \"2022-01-01\", \"2023-01-01\", \"2024-01-01\", \"2025-01-01\", \"2026-01-01\", \"2027-01-01\", \"2028-01-01\", \"2029-01-01\", \"2030-01-01\"], \"y\": [1200.361065331279, 1180.8130390830515, 1211.7280380099794, 1223.5267306366766, 1305.61298073271, 1371.7456173692615, 1383.2018148544653, 1400.0023101284503, 1442.3725980601735, 1509.1415951771546, 1568.0764591735826, 1592.7428609717522, 1622.2818456234418, 1757.613396380197, 1867.0246836921276, 1980.832210802927, 2091.9653180378873, 2150.093096648793, 2186.534013355161, 2337.9369102357828, 2451.055016180801, 2565.8358873755524, 2643.2965060182873, 2738.1514396857306, 2760.2898958690303, 2828.928518312318, 2964.071084569343, 3033.5712182918874, 3091.5599924222693, 3133.5048591006234, 3171.0063264823953, 3209.2662465791336, 3255.5049391069692, 3302.3377621228356, 3345.2740009879262, 3376.5755993869307, 3398.9287129682875, 3415.505030086042, 3434.555198368233]}, {\"marker\": {\"color\": \"red\", \"size\": 10}, \"mode\": \"lines\", \"name\": \"95% CI\", \"opacity\": 0.3, \"type\": \"scatter\", \"uid\": \"68f1e16e-878a-47a6-a1df-60c317beaae1\", \"x\": [\"1992-01-01\", \"1993-01-01\", \"1994-01-01\", \"1995-01-01\", \"1996-01-01\", \"1997-01-01\", \"1998-01-01\", \"1999-01-01\", \"2000-01-01\", \"2001-01-01\", \"2002-01-01\", \"2003-01-01\", \"2004-01-01\", \"2005-01-01\", \"2006-01-01\", \"2007-01-01\", \"2008-01-01\", \"2009-01-01\", \"2010-01-01\", \"2011-01-01\", \"2012-01-01\", \"2013-01-01\", \"2014-01-01\", \"2015-01-01\", \"2016-01-01\", \"2017-01-01\", \"2018-01-01\", \"2019-01-01\", \"2020-01-01\", \"2021-01-01\", \"2022-01-01\", \"2023-01-01\", \"2024-01-01\", \"2025-01-01\", \"2026-01-01\", \"2027-01-01\", \"2028-01-01\", \"2029-01-01\", \"2030-01-01\"], \"y\": [1302.508820455551, 1282.851788399536, 1312.3405935327207, 1313.4333676059398, 1392.3934751643103, 1455.8706163988643, 1467.3188582624798, 1484.0753098293887, 1525.6397539436439, 1592.0848556338074, 1650.7620684619199, 1675.4283552024403, 1704.9521998968567, 1840.170599529328, 1949.5361792322344, 2063.3163814665336, 2174.449128585069, 2232.57264293794, 2268.996849643345, 2420.3933432824047, 2533.5086842303267, 2648.289363571267, 2725.748998945804, 2820.6014893663655, 2842.739085978671, 2911.377452602041, 3046.5199567424806, 3200.7247361266086, 3342.860185109754, 3456.014669489613, 3561.5072842891045, 3673.049735997558, 3810.8149058368476, 3967.971299432257, 4135.350828880766, 4293.472580764677, 4440.53693305044, 4579.323459974935, 4724.196803963443]}, {\"marker\": {\"color\": \"green\", \"size\": 7}, \"mode\": \"markers\", \"name\": \"World Actual GDP PPP\", \"type\": \"scatter\", \"uid\": \"5895957e-7300-463e-9760-f74297ecf36d\", \"x\": [\"1990-01-01\", \"1991-01-01\", \"1992-01-01\", \"1993-01-01\", \"1994-01-01\", \"1995-01-01\", \"1996-01-01\", \"1997-01-01\", \"1998-01-01\", \"1999-01-01\", \"2000-01-01\", \"2001-01-01\", \"2002-01-01\", \"2003-01-01\", \"2004-01-01\", \"2005-01-01\", \"2006-01-01\", \"2007-01-01\", \"2008-01-01\", \"2009-01-01\", \"2010-01-01\", \"2011-01-01\", \"2012-01-01\", \"2013-01-01\", \"2014-01-01\", \"2015-01-01\", \"2016-01-01\", \"2017-01-01\", \"2018-01-01\"], \"y\": [5494.05396059476, 5676.67189648896, 5843.82645805824, 6034.3452586271105, 6269.0669318072105, 6525.27650792953, 6812.0045129153505, 7101.487436950459, 7274.110189666309, 7532.38749986312, 7983.223844101501, 8256.70790114978, 8549.78914323027, 8914.92893031107, 9516.57792018493, 10130.4030505294, 10955.4559431853, 11718.6524393125, 12257.153441459699, 12229.5368164218, 12871.5431079358, 13584.8610873628, 14144.580622993, 14755.2398899321, 15333.0215610634, 15802.7049442747, 16343.4911299938, 17136.6371983104, 17971.0716631839]}, {\"marker\": {\"color\": \"red\", \"size\": 10}, \"mode\": \"lines\", \"name\": \"95% CI\", \"opacity\": 0.3, \"type\": \"scatter\", \"uid\": \"5267949b-51ba-495b-945e-7ec89ca0d183\", \"x\": [\"1992-01-01\", \"1993-01-01\", \"1994-01-01\", \"1995-01-01\", \"1996-01-01\", \"1997-01-01\", \"1998-01-01\", \"1999-01-01\", \"2000-01-01\", \"2001-01-01\", \"2002-01-01\", \"2003-01-01\", \"2004-01-01\", \"2005-01-01\", \"2006-01-01\", \"2007-01-01\", \"2008-01-01\", \"2009-01-01\", \"2010-01-01\", \"2011-01-01\", \"2012-01-01\", \"2013-01-01\", \"2014-01-01\", \"2015-01-01\", \"2016-01-01\", \"2017-01-01\", \"2018-01-01\", \"2019-01-01\", \"2020-01-01\", \"2021-01-01\", \"2022-01-01\", \"2023-01-01\", \"2024-01-01\", \"2025-01-01\", \"2026-01-01\", \"2027-01-01\", \"2028-01-01\", \"2029-01-01\", \"2030-01-01\"], \"y\": [5504.333172556124, 5685.233718895039, 5880.236760612759, 6142.208245232788, 6408.404783568657, 6718.6894233882185, 7011.650059522315, 7117.494471288151, 7440.134001276832, 7990.738323503245, 8152.368087937664, 8497.682191802254, 8888.601986432584, 9641.973801860304, 10257.900735331687, 11257.096097833444, 11984.983264787952, 12439.517822394131, 12082.410820291954, 13162.344842411941, 13788.842232822699, 14328.401396200978, 14983.113170078019, 15535.810088617547, 15951.245443416246, 16540.72507609564, 17472.860975188672, 18324.95315371367, 18669.783718270504, 19044.854008300346, 19417.88154411626, 19781.218135151055, 20132.245953802012, 20470.02070777121, 20794.28024488501, 21105.07047341567, 21402.582607340326, 21687.07563812689, 21958.837176057932]}, {\"marker\": {\"color\": \"red\", \"size\": 10}, \"mode\": \"lines\", \"name\": \"95% CI\", \"opacity\": 0.3, \"type\": \"scatter\", \"uid\": \"2a541e2c-0cc2-4739-b40c-984a2b8862ef\", \"x\": [\"1992-01-01\", \"1993-01-01\", \"1994-01-01\", \"1995-01-01\", \"1996-01-01\", \"1997-01-01\", \"1998-01-01\", \"1999-01-01\", \"2000-01-01\", \"2001-01-01\", \"2002-01-01\", \"2003-01-01\", \"2004-01-01\", \"2005-01-01\", \"2006-01-01\", \"2007-01-01\", \"2008-01-01\", \"2009-01-01\", \"2010-01-01\", \"2011-01-01\", \"2012-01-01\", \"2013-01-01\", \"2014-01-01\", \"2015-01-01\", \"2016-01-01\", \"2017-01-01\", \"2018-01-01\", \"2019-01-01\", \"2020-01-01\", \"2021-01-01\", \"2022-01-01\", \"2023-01-01\", \"2024-01-01\", \"2025-01-01\", \"2026-01-01\", \"2027-01-01\", \"2028-01-01\", \"2029-01-01\", \"2030-01-01\"], \"y\": [6291.682222547277, 6454.854751528201, 6616.108917731257, 6869.860286356229, 7129.570694492503, 7436.910441840483, 7728.026142540019, 7832.869342188486, 8154.916575592109, 8705.18309201548, 8866.615716993265, 9211.815824586454, 9602.669294917612, 10356.002609796089, 10971.907157202519, 11971.089510569876, 12698.969114186293, 13153.499275144279, 12796.389716910004, 13876.32225298513, 14502.8187794324, 15042.377440518856, 15697.088922370238, 16249.785671130203, 16665.220927221206, 17254.7005025132, 18186.836368241897, 19038.92852736928, 20032.30586483489, 20995.443476827488, 21960.623843034016, 22935.49515402166, 23922.675237393145, 24923.108385446387, 25937.05675035503, 26964.47442384681, 28005.170191944595, 29058.88506318047, 30125.33142727187]}],\n",
       "                        {\"legend\": {\"x\": 0.1, \"y\": 1}, \"title\": {\"text\": \"In-sample prediction and out-of-sample projection to 2030 95% CI (GDPpc PPP US$) SSA & WA\"}, \"xaxis\": {\"nticks\": 43, \"ticks\": \"\"}, \"yaxis\": {\"nticks\": 20}},\n",
       "                        {\"showLink\": false, \"linkText\": \"Export to plot.ly\", \"plotlyServerURL\": \"https://plot.ly\", \"responsive\": true}\n",
       "                    ).then(function(){\n",
       "                            \n",
       "var gd = document.getElementById('e6dd3fbe-9f75-47f0-84ff-0c156f99f215');\n",
       "var x = new MutationObserver(function (mutations, observer) {{\n",
       "        var display = window.getComputedStyle(gd).display;\n",
       "        if (!display || display === 'none') {{\n",
       "            console.log([gd, 'removed!']);\n",
       "            Plotly.purge(gd);\n",
       "            observer.disconnect();\n",
       "        }}\n",
       "}});\n",
       "\n",
       "// Listen for the removal of the full notebook cells\n",
       "var notebookContainer = gd.closest('#notebook-container');\n",
       "if (notebookContainer) {{\n",
       "    x.observe(notebookContainer, {childList: true});\n",
       "}}\n",
       "\n",
       "// Listen for the clearing of the current output cell\n",
       "var outputEl = gd.closest('.output');\n",
       "if (outputEl) {{\n",
       "    x.observe(outputEl, {childList: true});\n",
       "}}\n",
       "\n",
       "                        })\n",
       "                };\n",
       "                });\n",
       "            </script>\n",
       "        </div>"
      ]
     },
     "metadata": {},
     "output_type": "display_data"
    }
   ],
   "source": [
    "forecast\n",
    "# Create traces\n",
    "trace0 = go.Scatter(\n",
    "    x = ts.index,\n",
    "    y = ts['GDP per capita'],\n",
    "    mode = 'markers',\n",
    "    name = 'Actual GDP PPP',marker = dict(size=7))\n",
    "\n",
    "\n",
    "trace2 =go.Scatter(x=prediction_summary.iloc[2:].index, y=prediction_summary.iloc[2:].mean_ci_lower.values, name='95% CI', mode = 'lines',\n",
    "                   marker = dict(size=10, color='red'),opacity = 0.3)\n",
    "\n",
    "trace3 =go.Scatter(x=prediction_summary.iloc[2:].index, y=prediction_summary.iloc[2:].mean_ci_upper.values, name='95% CI', mode = 'lines',\n",
    "   marker = dict(size=10, color='red'),opacity = 0.3)\n",
    "\n",
    "# Create traces\n",
    "trace4 = go.Scatter(\n",
    "    x = ts2.index,\n",
    "    y = ts2['GDP per capita'],\n",
    "    mode = 'markers',\n",
    "    name = 'World Actual GDP PPP',marker = dict(size=7,color='green'))\n",
    "\n",
    "trace5 =go.Scatter(x=prediction_summary2.iloc[2:].index, y=prediction_summary2.iloc[2:].mean_ci_lower.values, name='95% CI', mode = 'lines',\n",
    "                   marker = dict(size=10, color='red'),opacity = 0.3)\n",
    "\n",
    "trace6 =go.Scatter(x=prediction_summary2.iloc[2:].index, y=prediction_summary2.iloc[2:].mean_ci_upper.values, name='95% CI', mode = 'lines',\n",
    "                   marker = dict(size=10, color='red'),opacity = 0.3)\n",
    "\n",
    "\n",
    "layout = go.Layout(title= 'In-sample prediction and out-of-sample projection to 2030 95% CI (GDPpc PPP US$) SSA & WA',\n",
    "    xaxis = dict(ticks='', nticks=43),\n",
    "    yaxis = dict(nticks=20), legend=dict(x=0.1, y=1))\n",
    "data = [trace0,trace2,trace3,trace4,trace5,trace6]\n",
    "fig =go.Figure(data=data, layout=layout)\n",
    "iplot(fig, filename='scatter-mode')"
   ]
  },
  {
   "cell_type": "code",
   "execution_count": 46,
   "metadata": {
    "_kg_hide-input": true
   },
   "outputs": [],
   "source": [
    "trace5 =go.Scatter(x=prediction_summary2.iloc[2:].index, y=prediction_summary2.iloc[2:].mean_ci_lower.values, name='95% CI', mode = 'lines',\n",
    "                   marker = dict(size=10, color='red'),opacity = 0.3)\n",
    "\n",
    "trace6 =go.Scatter(x=prediction_summary2.iloc[2:].index, y=prediction_summary2.iloc[2:].mean_ci_upper.values, name='95% CI', mode = 'lines',\n",
    "                   marker = dict(size=10, color='red'),opacity = 0.3)\n"
   ]
  },
  {
   "cell_type": "markdown",
   "metadata": {},
   "source": [
    "**5.8 Future prediction SSA total GDPpc PPP as a % of the World average 2018-2030**"
   ]
  },
  {
   "cell_type": "code",
   "execution_count": 47,
   "metadata": {
    "_kg_hide-input": true
   },
   "outputs": [
    {
     "data": {
      "application/vnd.plotly.v1+json": {
       "config": {
        "linkText": "Export to plot.ly",
        "plotlyServerURL": "https://plot.ly",
        "showLink": false
       },
       "data": [
        {
         "marker": {
          "color": "coral",
          "size": 12
         },
         "mode": "markers",
         "name": "1990-2017 actual ratio",
         "opacity": 0.8,
         "type": "scatter",
         "uid": "d4df1b06-7374-456a-a5d8-5deca65b9342",
         "x": [
          "1990-01-01",
          "1991-01-01",
          "1992-01-01",
          "1993-01-01",
          "1994-01-01",
          "1995-01-01",
          "1996-01-01",
          "1997-01-01",
          "1998-01-01",
          "1999-01-01",
          "2000-01-01",
          "2001-01-01",
          "2002-01-01",
          "2003-01-01",
          "2004-01-01",
          "2005-01-01",
          "2006-01-01",
          "2007-01-01",
          "2008-01-01",
          "2009-01-01",
          "2010-01-01",
          "2011-01-01",
          "2012-01-01",
          "2013-01-01",
          "2014-01-01",
          "2015-01-01",
          "2016-01-01",
          "2017-01-01",
          "2018-01-01"
         ],
         "y": [
          0.2179385939372497,
          0.2156931066824169,
          0.21023226623409022,
          0.20598235582078697,
          0.1995773292457221,
          0.19950114876373162,
          0.19996670648398626,
          0.1977316412201536,
          0.19611352912505278,
          0.19317118291460555,
          0.18768582090944,
          0.1881165102336391,
          0.1863071739972408,
          0.1827949063844088,
          0.18064980288506216,
          0.17999729573775475,
          0.17683836700561611,
          0.17455264117038474,
          0.17298766602809953,
          0.17689764753089737,
          0.17563026715211544,
          0.17437363476058576,
          0.17640888783833147,
          0.17597712191086198,
          0.17595224213263705,
          0.17363695538954307,
          0.1713270807136833,
          0.16867096915900598,
          null
         ]
        },
        {
         "marker": {
          "color": "red",
          "size": 10
         },
         "mode": "lines",
         "name": "2017-2030 projected ratio 95% CI",
         "opacity": 0.5,
         "type": "scatter",
         "uid": "cbae6ed1-801f-4459-bc8d-be90a34c7bdb",
         "x": [
          "2017-01-01",
          "2018-01-01",
          "2019-01-01",
          "2020-01-01",
          "2021-01-01",
          "2022-01-01",
          "2023-01-01",
          "2024-01-01",
          "2025-01-01",
          "2026-01-01",
          "2027-01-01",
          "2028-01-01",
          "2029-01-01",
          "2030-01-01"
         ],
         "y": [
          0.17102808403487912,
          0.16963856627591217,
          0.16554319090726374,
          0.16559163400467392,
          0.16453288944798125,
          0.16330341285057587,
          0.16223804947968776,
          0.16170599875331648,
          0.16132557017243956,
          0.16087471947055243,
          0.15998883318774634,
          0.1588092790167564,
          0.15749034526727176,
          0.15640879208817957
         ]
        },
        {
         "marker": {
          "color": "red",
          "size": 10
         },
         "mode": "lines",
         "name": "2017-2030 projected ratio 95% CI",
         "opacity": 0.5,
         "type": "scatter",
         "uid": "4543f028-836f-4fc2-b4da-9fdfd6f3785e",
         "x": [
          "2017-01-01",
          "2018-01-01",
          "2019-01-01",
          "2020-01-01",
          "2021-01-01",
          "2022-01-01",
          "2023-01-01",
          "2024-01-01",
          "2025-01-01",
          "2026-01-01",
          "2027-01-01",
          "2028-01-01",
          "2029-01-01",
          "2030-01-01"
         ],
         "y": [
          0.16872952690068369,
          0.16751236416589504,
          0.1681147513908374,
          0.1668734596838339,
          0.16460784328294806,
          0.1621769631748793,
          0.16014695611895263,
          0.1592971884632796,
          0.15920852399571944,
          0.15943793733744138,
          0.15922700785028546,
          0.1585613264484897,
          0.15758772058936427,
          0.1568180856489008
         ]
        },
        {
         "marker": {
          "color": "red",
          "size": 12
         },
         "mode": "markers",
         "name": "predicted ratio",
         "opacity": 0.5,
         "type": "scatter",
         "uid": "da4919bc-78f7-427d-bbca-d499248070e1",
         "x": [
          "2017-01-01",
          "2018-01-01",
          "2019-01-01",
          "2020-01-01",
          "2021-01-01",
          "2022-01-01",
          "2023-01-01",
          "2024-01-01",
          "2025-01-01",
          "2026-01-01",
          "2027-01-01",
          "2028-01-01",
          "2029-01-01",
          "2030-01-01"
         ],
         "y": [
          0.16985452535764914,
          0.16855417990301952,
          0.1668535407437304,
          0.16625511043054478,
          0.16457219207818777,
          0.1627055773953165,
          0.16111529779893277,
          0.1603979681242988,
          0.16016320546277088,
          0.16007726957674362,
          0.15956148943254111,
          0.15866873520570618,
          0.1575461057308352,
          0.1566455262916509
         ]
        },
        {
         "marker": {
          "color": "black",
          "size": 10
         },
         "mode": "lines",
         "name": "2017-2030 actual ratio 95% CI",
         "opacity": 0.8,
         "type": "scatter",
         "uid": "dd53d2cb-8bc9-4278-947b-f85002e6be60",
         "x": [
          "1992-01-01",
          "1993-01-01",
          "1994-01-01",
          "1995-01-01",
          "1996-01-01",
          "1997-01-01",
          "1998-01-01",
          "1999-01-01",
          "2000-01-01",
          "2001-01-01",
          "2002-01-01",
          "2003-01-01",
          "2004-01-01",
          "2005-01-01",
          "2006-01-01",
          "2007-01-01",
          "2008-01-01",
          "2009-01-01",
          "2010-01-01",
          "2011-01-01",
          "2012-01-01",
          "2013-01-01",
          "2014-01-01",
          "2015-01-01",
          "2016-01-01",
          "2017-01-01"
         ],
         "y": [
          0.21807565561549222,
          0.20769824029548428,
          0.20606789953194155,
          0.199199812475636,
          0.20373447446396348,
          0.20416863035730168,
          0.19727194071472232,
          0.19669875625137967,
          0.19386379301940554,
          0.1888613459832992,
          0.19234613087376737,
          0.18743262280487227,
          0.1825125985053292,
          0.18228771748385028,
          0.18200845688255315,
          0.17596298313418152,
          0.17454887268671543,
          0.17284376511588795,
          0.18096835522948443,
          0.17762313160968407,
          0.17775640440256515,
          0.17907342322611483,
          0.17641837687624723,
          0.1762477414481181,
          0.1730454155232323,
          0.17102808403487912
         ]
        },
        {
         "marker": {
          "color": "black",
          "size": 10
         },
         "mode": "lines",
         "name": "2017-2030 actual ratio 95% CI",
         "opacity": 0.8,
         "type": "scatter",
         "uid": "a204852b-c726-4def-a3a5-53e73b7222ef",
         "x": [
          "1992-01-01",
          "1993-01-01",
          "1994-01-01",
          "1995-01-01",
          "1996-01-01",
          "1997-01-01",
          "1998-01-01",
          "1999-01-01",
          "2000-01-01",
          "2001-01-01",
          "2002-01-01",
          "2003-01-01",
          "2004-01-01",
          "2005-01-01",
          "2006-01-01",
          "2007-01-01",
          "2008-01-01",
          "2009-01-01",
          "2010-01-01",
          "2011-01-01",
          "2012-01-01",
          "2013-01-01",
          "2014-01-01",
          "2015-01-01",
          "2016-01-01",
          "2017-01-01"
         ],
         "y": [
          0.2070207576262826,
          0.19874216195117606,
          0.1983553490202725,
          0.19118778444657195,
          0.19529836154649752,
          0.1957628275591505,
          0.18986981037569406,
          0.18946764525178986,
          0.18708220247279117,
          0.18288930155806724,
          0.18617724294717777,
          0.1818781863539543,
          0.17754981948604995,
          0.17769120662335958,
          0.17768434888299794,
          0.17235827863827496,
          0.1712303659480473,
          0.16973222077540664,
          0.17731539128141283,
          0.17442614110246107,
          0.17469077720417334,
          0.17605523954196964,
          0.17364678332561934,
          0.17357776566724326,
          0.17057914193836465,
          0.16872952690068369
         ]
        }
       ],
       "layout": {
        "legend": {
         "x": 0.7,
         "y": 1
        },
        "title": {
         "text": "SSA GDPpc PPP as a ratio of the World average future prediction to 2030"
        },
        "xaxis": {
         "nticks": 43,
         "ticks": ""
        },
        "yaxis": {
         "nticks": 20
        }
       }
      },
      "text/html": [
       "<div>\n",
       "        \n",
       "        \n",
       "            <div id=\"396da78a-fb6c-4a91-b225-b67f40b9c519\" class=\"plotly-graph-div\" style=\"height:525px; width:100%;\"></div>\n",
       "            <script type=\"text/javascript\">\n",
       "                require([\"plotly\"], function(Plotly) {\n",
       "                    window.PLOTLYENV=window.PLOTLYENV || {};\n",
       "                    window.PLOTLYENV.BASE_URL='https://plot.ly';\n",
       "                    \n",
       "                if (document.getElementById(\"396da78a-fb6c-4a91-b225-b67f40b9c519\")) {\n",
       "                    Plotly.newPlot(\n",
       "                        '396da78a-fb6c-4a91-b225-b67f40b9c519',\n",
       "                        [{\"marker\": {\"color\": \"coral\", \"size\": 12}, \"mode\": \"markers\", \"name\": \"1990-2017 actual ratio\", \"opacity\": 0.8, \"type\": \"scatter\", \"uid\": \"d4df1b06-7374-456a-a5d8-5deca65b9342\", \"x\": [\"1990-01-01\", \"1991-01-01\", \"1992-01-01\", \"1993-01-01\", \"1994-01-01\", \"1995-01-01\", \"1996-01-01\", \"1997-01-01\", \"1998-01-01\", \"1999-01-01\", \"2000-01-01\", \"2001-01-01\", \"2002-01-01\", \"2003-01-01\", \"2004-01-01\", \"2005-01-01\", \"2006-01-01\", \"2007-01-01\", \"2008-01-01\", \"2009-01-01\", \"2010-01-01\", \"2011-01-01\", \"2012-01-01\", \"2013-01-01\", \"2014-01-01\", \"2015-01-01\", \"2016-01-01\", \"2017-01-01\", \"2018-01-01\"], \"y\": [0.2179385939372497, 0.2156931066824169, 0.21023226623409022, 0.20598235582078697, 0.1995773292457221, 0.19950114876373162, 0.19996670648398626, 0.1977316412201536, 0.19611352912505278, 0.19317118291460555, 0.18768582090944, 0.1881165102336391, 0.1863071739972408, 0.1827949063844088, 0.18064980288506216, 0.17999729573775475, 0.17683836700561611, 0.17455264117038474, 0.17298766602809953, 0.17689764753089737, 0.17563026715211544, 0.17437363476058576, 0.17640888783833147, 0.17597712191086198, 0.17595224213263705, 0.17363695538954307, 0.1713270807136833, 0.16867096915900598, null]}, {\"marker\": {\"color\": \"red\", \"size\": 10}, \"mode\": \"lines\", \"name\": \"2017-2030 projected ratio 95% CI\", \"opacity\": 0.5, \"type\": \"scatter\", \"uid\": \"cbae6ed1-801f-4459-bc8d-be90a34c7bdb\", \"x\": [\"2017-01-01\", \"2018-01-01\", \"2019-01-01\", \"2020-01-01\", \"2021-01-01\", \"2022-01-01\", \"2023-01-01\", \"2024-01-01\", \"2025-01-01\", \"2026-01-01\", \"2027-01-01\", \"2028-01-01\", \"2029-01-01\", \"2030-01-01\"], \"y\": [0.17102808403487912, 0.16963856627591217, 0.16554319090726374, 0.16559163400467392, 0.16453288944798125, 0.16330341285057587, 0.16223804947968776, 0.16170599875331648, 0.16132557017243956, 0.16087471947055243, 0.15998883318774634, 0.1588092790167564, 0.15749034526727176, 0.15640879208817957]}, {\"marker\": {\"color\": \"red\", \"size\": 10}, \"mode\": \"lines\", \"name\": \"2017-2030 projected ratio 95% CI\", \"opacity\": 0.5, \"type\": \"scatter\", \"uid\": \"4543f028-836f-4fc2-b4da-9fdfd6f3785e\", \"x\": [\"2017-01-01\", \"2018-01-01\", \"2019-01-01\", \"2020-01-01\", \"2021-01-01\", \"2022-01-01\", \"2023-01-01\", \"2024-01-01\", \"2025-01-01\", \"2026-01-01\", \"2027-01-01\", \"2028-01-01\", \"2029-01-01\", \"2030-01-01\"], \"y\": [0.16872952690068369, 0.16751236416589504, 0.1681147513908374, 0.1668734596838339, 0.16460784328294806, 0.1621769631748793, 0.16014695611895263, 0.1592971884632796, 0.15920852399571944, 0.15943793733744138, 0.15922700785028546, 0.1585613264484897, 0.15758772058936427, 0.1568180856489008]}, {\"marker\": {\"color\": \"red\", \"size\": 12}, \"mode\": \"markers\", \"name\": \"predicted ratio\", \"opacity\": 0.5, \"type\": \"scatter\", \"uid\": \"da4919bc-78f7-427d-bbca-d499248070e1\", \"x\": [\"2017-01-01\", \"2018-01-01\", \"2019-01-01\", \"2020-01-01\", \"2021-01-01\", \"2022-01-01\", \"2023-01-01\", \"2024-01-01\", \"2025-01-01\", \"2026-01-01\", \"2027-01-01\", \"2028-01-01\", \"2029-01-01\", \"2030-01-01\"], \"y\": [0.16985452535764914, 0.16855417990301952, 0.1668535407437304, 0.16625511043054478, 0.16457219207818777, 0.1627055773953165, 0.16111529779893277, 0.1603979681242988, 0.16016320546277088, 0.16007726957674362, 0.15956148943254111, 0.15866873520570618, 0.1575461057308352, 0.1566455262916509]}, {\"marker\": {\"color\": \"black\", \"size\": 10}, \"mode\": \"lines\", \"name\": \"2017-2030 actual ratio 95% CI\", \"opacity\": 0.8, \"type\": \"scatter\", \"uid\": \"dd53d2cb-8bc9-4278-947b-f85002e6be60\", \"x\": [\"1992-01-01\", \"1993-01-01\", \"1994-01-01\", \"1995-01-01\", \"1996-01-01\", \"1997-01-01\", \"1998-01-01\", \"1999-01-01\", \"2000-01-01\", \"2001-01-01\", \"2002-01-01\", \"2003-01-01\", \"2004-01-01\", \"2005-01-01\", \"2006-01-01\", \"2007-01-01\", \"2008-01-01\", \"2009-01-01\", \"2010-01-01\", \"2011-01-01\", \"2012-01-01\", \"2013-01-01\", \"2014-01-01\", \"2015-01-01\", \"2016-01-01\", \"2017-01-01\"], \"y\": [0.21807565561549222, 0.20769824029548428, 0.20606789953194155, 0.199199812475636, 0.20373447446396348, 0.20416863035730168, 0.19727194071472232, 0.19669875625137967, 0.19386379301940554, 0.1888613459832992, 0.19234613087376737, 0.18743262280487227, 0.1825125985053292, 0.18228771748385028, 0.18200845688255315, 0.17596298313418152, 0.17454887268671543, 0.17284376511588795, 0.18096835522948443, 0.17762313160968407, 0.17775640440256515, 0.17907342322611483, 0.17641837687624723, 0.1762477414481181, 0.1730454155232323, 0.17102808403487912]}, {\"marker\": {\"color\": \"black\", \"size\": 10}, \"mode\": \"lines\", \"name\": \"2017-2030 actual ratio 95% CI\", \"opacity\": 0.8, \"type\": \"scatter\", \"uid\": \"a204852b-c726-4def-a3a5-53e73b7222ef\", \"x\": [\"1992-01-01\", \"1993-01-01\", \"1994-01-01\", \"1995-01-01\", \"1996-01-01\", \"1997-01-01\", \"1998-01-01\", \"1999-01-01\", \"2000-01-01\", \"2001-01-01\", \"2002-01-01\", \"2003-01-01\", \"2004-01-01\", \"2005-01-01\", \"2006-01-01\", \"2007-01-01\", \"2008-01-01\", \"2009-01-01\", \"2010-01-01\", \"2011-01-01\", \"2012-01-01\", \"2013-01-01\", \"2014-01-01\", \"2015-01-01\", \"2016-01-01\", \"2017-01-01\"], \"y\": [0.2070207576262826, 0.19874216195117606, 0.1983553490202725, 0.19118778444657195, 0.19529836154649752, 0.1957628275591505, 0.18986981037569406, 0.18946764525178986, 0.18708220247279117, 0.18288930155806724, 0.18617724294717777, 0.1818781863539543, 0.17754981948604995, 0.17769120662335958, 0.17768434888299794, 0.17235827863827496, 0.1712303659480473, 0.16973222077540664, 0.17731539128141283, 0.17442614110246107, 0.17469077720417334, 0.17605523954196964, 0.17364678332561934, 0.17357776566724326, 0.17057914193836465, 0.16872952690068369]}],\n",
       "                        {\"legend\": {\"x\": 0.7, \"y\": 1}, \"title\": {\"text\": \"SSA GDPpc PPP as a ratio of the World average future prediction to 2030\"}, \"xaxis\": {\"nticks\": 43, \"ticks\": \"\"}, \"yaxis\": {\"nticks\": 20}},\n",
       "                        {\"showLink\": false, \"linkText\": \"Export to plot.ly\", \"plotlyServerURL\": \"https://plot.ly\", \"responsive\": true}\n",
       "                    ).then(function(){\n",
       "                            \n",
       "var gd = document.getElementById('396da78a-fb6c-4a91-b225-b67f40b9c519');\n",
       "var x = new MutationObserver(function (mutations, observer) {{\n",
       "        var display = window.getComputedStyle(gd).display;\n",
       "        if (!display || display === 'none') {{\n",
       "            console.log([gd, 'removed!']);\n",
       "            Plotly.purge(gd);\n",
       "            observer.disconnect();\n",
       "        }}\n",
       "}});\n",
       "\n",
       "// Listen for the removal of the full notebook cells\n",
       "var notebookContainer = gd.closest('#notebook-container');\n",
       "if (notebookContainer) {{\n",
       "    x.observe(notebookContainer, {childList: true});\n",
       "}}\n",
       "\n",
       "// Listen for the clearing of the current output cell\n",
       "var outputEl = gd.closest('.output');\n",
       "if (outputEl) {{\n",
       "    x.observe(outputEl, {childList: true});\n",
       "}}\n",
       "\n",
       "                        })\n",
       "                };\n",
       "                });\n",
       "            </script>\n",
       "        </div>"
      ]
     },
     "metadata": {},
     "output_type": "display_data"
    }
   ],
   "source": [
    "ts2['world_percentatge']=ts/ts2\n",
    "future_ratio=results1.predict(start=27,end=40)/results2.predict(start=27,end=40)\n",
    "\n",
    "ratio_l_CI=prediction_summary.iloc[2:28].mean_ci_lower/prediction_summary2.iloc[2:28].mean_ci_lower\n",
    "ratio_h_CI=prediction_summary.iloc[2:28].mean_ci_upper/prediction_summary2.iloc[2:28].mean_ci_upper\n",
    "future_ratio_l_CI=prediction_summary.iloc[27:].mean_ci_lower/prediction_summary2.iloc[27:].mean_ci_lower\n",
    "future_ratio_h_CI=prediction_summary.iloc[27:].mean_ci_upper/prediction_summary2.iloc[27:].mean_ci_upper\n",
    "layout = go.Layout(title= 'SSA GDPpc PPP as a ratio of the World average future prediction to 2030',\n",
    "    xaxis = dict(ticks='', nticks=43),\n",
    "    yaxis = dict(nticks=20),legend=dict(x=0.7, y=1))\n",
    "\n",
    "trace0 =go.Scatter(x=ts2.index, y=ts2['world_percentatge'],\n",
    "                   mode = 'markers',name = '1990-2017 actual ratio', marker = dict(size=12, color='coral'),opacity=0.8)\n",
    "trace10 =go.Scatter(x=future_ratio.index, y=future_ratio,\n",
    "                   mode = 'markers',name = 'predicted ratio', marker = dict(size=12, color='red'),opacity=0.5)\n",
    "trace5 =go.Scatter(x=ratio_l_CI.index, y=ratio_l_CI.values,\n",
    "                   mode = 'lines',name = '2017-2030 actual ratio 95% CI', marker = dict(size=10, color='black'),opacity = 0.8)\n",
    "\n",
    "trace6 =go.Scatter(x=ratio_h_CI.index, y=ratio_h_CI.values,\n",
    "                   mode = 'lines',name = '2017-2030 actual ratio 95% CI', marker = dict(size=10, color='black'),opacity = 0.8)\n",
    "trace2 =go.Scatter(x=future_ratio_l_CI.index, y=future_ratio_l_CI.values,\n",
    "                   mode = 'lines',name = '2017-2030 projected ratio 95% CI', marker = dict(size=10, color='red'),opacity = 0.5)\n",
    "trace3 =go.Scatter(x=future_ratio_h_CI.index, y=future_ratio_h_CI.values,\n",
    "                   mode = 'lines',name = '2017-2030 projected ratio 95% CI', marker = dict(size=10, color='red'),opacity = 0.5)\n",
    "data = [trace0,trace2,trace3,trace10,trace5,trace6]\n",
    "fig =go.Figure(data=data, layout=layout)\n",
    "iplot(fig, filename='heatmap',show_link=False)"
   ]
  },
  {
   "cell_type": "markdown",
   "metadata": {},
   "source": [
    "### Conclusions\n",
    "\n",
    "Taking into account the underlying patterns of both time series, without a structural change in the regional GDPpc time series, SSA will continue being the underdog of the global economy for the next decade and the divergence with the world average is only likely to increase. Our model indicates that if the current underlying trends are to continue, the regional GDPpc as a percentatge of the world average will decrease to around 15% at the end of the 30s decade from the current value of around 17%. The current structural trend of the region’s GDPpc growth remains weak. A much more explosive growth pattern is highly needed to converge with the world average. Returning to pre-crisis levels of around 5% growth would bring the region in the convergence world average path.\n",
    "\n",
    "Altough, its true that the region is experiencing a much explosive population growth than the rest of the world; it also departs from a much lower position, which allows to accumulate higher scaled levels of economic output.\n",
    "\n",
    "Many economists suggest that SSA is too resourced-focus and manufacture-absent, which historical data tells it is the \"standard model\" followed by the majority of countries to have successfully transitioned from low-to middle or high income status. It's also true that western agricultural and commercial policies are still very damaging to SSA economic interests, but the region will only converge with the world average if decisive \"game-changing\" socio-economic and institutional reforms are implemented. Regarding the later, the Ethiopian example, one of the poorest countries in the world in 2000 and now one of the fastest-growing economies in the world, sheds some light, into the path to follow for the most vulnerable nations.\n",
    "\n",
    "Note: We have to remember, that the forecasting result of these model are only predicted values. The economy is complex and dynamic system. The adjustments of macro and investment policy, institutional integrity and environment, social stability, plus other numerous internal external and internal factors can cause drastic changes in terms of GDP per capita growth in any region of the world."
   ]
  }
 ],
 "metadata": {
  "kernelspec": {
   "display_name": "Python 3",
   "language": "python",
   "name": "python3"
  },
  "language_info": {
   "codemirror_mode": {
    "name": "ipython",
    "version": 3
   },
   "file_extension": ".py",
   "mimetype": "text/x-python",
   "name": "python",
   "nbconvert_exporter": "python",
   "pygments_lexer": "ipython3",
   "version": "3.6.6"
  }
 },
 "nbformat": 4,
 "nbformat_minor": 1
}
